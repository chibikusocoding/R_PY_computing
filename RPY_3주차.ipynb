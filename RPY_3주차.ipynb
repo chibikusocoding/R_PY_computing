{
 "cells": [
  {
   "cell_type": "markdown",
   "metadata": {
    "id": "oRQl17vnW3Pr"
   },
   "source": [
    "\n",
    "## 3주차 \n",
    "* Logical 연산 \n",
    "* 조건문\n",
    "* 반복문\n",
    "* 함수 \n",
    "\n"
   ]
  },
  {
   "cell_type": "code",
   "execution_count": 4,
   "metadata": {
    "colab": {
     "base_uri": "https://localhost:8080/"
    },
    "id": "FxSCSWvkWtUH",
    "outputId": "7866622a-ed77-4000-bcfd-8cdc943244d1"
   },
   "outputs": [
    {
     "data": {
      "text/plain": [
       "False"
      ]
     },
     "execution_count": 4,
     "metadata": {},
     "output_type": "execute_result"
    }
   ],
   "source": [
    "# Drill 301 \n",
    "x = 3 \n",
    "y = 2 \n",
    "\n",
    "\n",
    "x > y \n",
    "x < y \n",
    "x != y\n",
    "x==y "
   ]
  },
  {
   "cell_type": "code",
   "execution_count": 4,
   "metadata": {
    "colab": {
     "base_uri": "https://localhost:8080/"
    },
    "id": "t_747uZrXUaF",
    "outputId": "64e74c9b-de73-469e-fb73-54afb64154d3"
   },
   "outputs": [
    {
     "name": "stdout",
     "output_type": "stream",
     "text": [
      "True\n",
      "False\n"
     ]
    }
   ],
   "source": [
    "# Drill 301 Extended \n",
    "x = [3,2] \n",
    "y = [2,3] \n",
    "\n",
    "print(x > y)  # 두개의 요소를 넣었음에도 하나의 결과값 \n",
    "print(x < y)"
   ]
  },
  {
   "cell_type": "code",
   "execution_count": 5,
   "metadata": {
    "colab": {
     "base_uri": "https://localhost:8080/"
    },
    "id": "0jdpAKT-XzD6",
    "outputId": "54686b52-480d-4388-9651-cad73fa90cd7"
   },
   "outputs": [
    {
     "name": "stdout",
     "output_type": "stream",
     "text": [
      "9 is a positive number.\n",
      "This is always printed.\n"
     ]
    }
   ],
   "source": [
    "# If statement: 만약 If statement만 있으면 if 바로 아래 Block 만 수행한다.\n",
    "# 교수님 블록을 어떻게 지정하나요?\n",
    "# if 명령어 조건: 그다음에 Indention을 합니다. (들여쓰기)\n",
    "# 요약하자면 : 다음에 들여쓰기다. \n",
    "num = 9\n",
    "\n",
    "if num > 0:    \n",
    "    print(num, \"is a positive number.\") # 보통 Tab을 사용하여 Indention \n",
    "    if num >10:\n",
    "        print(num, \"is big positve.\")\n",
    "\n",
    "print(\"This is always printed.\")\n",
    "\n",
    "\n"
   ]
  },
  {
   "cell_type": "code",
   "execution_count": null,
   "metadata": {
    "id": "MXYCeDsMZTBa"
   },
   "outputs": [],
   "source": [
    "# Drill 302 \n",
    "# If-Else 구문 \n",
    "num = 0\n",
    "\n",
    "if num >= 0:\n",
    "\tprint(\"Positive or Zero\")\n",
    "else:    \n",
    "\tprint(\"Negative number\")\n"
   ]
  },
  {
   "cell_type": "code",
   "execution_count": 15,
   "metadata": {
    "colab": {
     "base_uri": "https://localhost:8080/"
    },
    "id": "Ub2aNVazZsTF",
    "outputId": "715d9aae-6419-4a54-ffc3-f6788d0d5f24"
   },
   "outputs": [
    {
     "name": "stdout",
     "output_type": "stream",
     "text": [
      "Positive number\n"
     ]
    }
   ],
   "source": [
    "# Drill 303 \n",
    "\n",
    "num = 101\n",
    "if num > 0:\n",
    "\tprint(\"Positive number\")\n",
    "elif num == 0:\n",
    "\tprint(\"Zero\")\n",
    "elif num > 100:\n",
    "\tprint(\"Big Positive\") \n",
    "else:    \n",
    "\tprint(\"Negative number\")\n"
   ]
  },
  {
   "cell_type": "code",
   "execution_count": 16,
   "metadata": {
    "colab": {
     "base_uri": "https://localhost:8080/"
    },
    "id": "paNSbYSxao19",
    "outputId": "37816c9f-7cda-488b-e685-a39f7528169b"
   },
   "outputs": [
    {
     "name": "stdout",
     "output_type": "stream",
     "text": [
      "Enter a number: 15\n",
      "Positive number\n"
     ]
    }
   ],
   "source": [
    "# Drill 305 중첩 IF 문의 사용 \n",
    "num = float(input(\"Enter a number: \"))\n",
    "\n",
    "if num >= 0:\n",
    "\tif num == 0:\n",
    "\t\tprint(\"Zero\")\n",
    "\telse:\n",
    "\t\tprint(\"Positive number\")\n",
    "else:\n",
    "\tprint(\"Negative number\")\n"
   ]
  },
  {
   "cell_type": "code",
   "execution_count": 18,
   "metadata": {
    "colab": {
     "base_uri": "https://localhost:8080/"
    },
    "id": "KDs6I4oma8RF",
    "outputId": "851a14bb-2b6b-4cb7-bd6d-7963c82769d3"
   },
   "outputs": [
    {
     "name": "stdout",
     "output_type": "stream",
     "text": [
      "Enter Fahrenheit Temperature:32f\n",
      "Please enter a number\n"
     ]
    }
   ],
   "source": [
    "# Try - Except 구문\n",
    "# Try 블록에서 문제가 없으면 TRY 블록 끝\n",
    "# Try 블록에서 Error가 생기면 Except 블록을 실행 \n",
    "\n",
    "inp = input('Enter Fahrenheit Temperature:')\n",
    "try:\n",
    "\tfahr = float(inp)\n",
    "\tcel = (fahr - 32.0) * 5.0 / 9.0\n",
    "\tprint(cel)\n",
    "except:\n",
    "\tprint('Please enter a number')\n"
   ]
  },
  {
   "cell_type": "code",
   "execution_count": 22,
   "metadata": {
    "colab": {
     "base_uri": "https://localhost:8080/"
    },
    "id": "7rURWNVebw2i",
    "outputId": "45a4ac4a-9812-4492-e82c-1e8c9dfac265"
   },
   "outputs": [
    {
     "name": "stdout",
     "output_type": "stream",
     "text": [
      "x and y is False\n",
      "x or y is True\n",
      "not x is False\n",
      "True\n",
      "False\n"
     ]
    }
   ],
   "source": [
    "# Logical 연산자 \n",
    "x = True\n",
    "y = False\n",
    "\n",
    "print('x and y is',x and y)\n",
    "print('x or y is',x or y)\n",
    "print('not x is',not x)\n",
    "\n",
    "# 이런것 역시 가능하다. \n",
    "z=(10>3) # 연산을 저장해서 사용하는 것 역시 가능하다. \n",
    "print(z)\n",
    "print(not z)\n"
   ]
  },
  {
   "cell_type": "code",
   "execution_count": null,
   "metadata": {
    "id": "Ux3Jq_JWczQJ"
   },
   "outputs": [],
   "source": []
  },
  {
   "cell_type": "markdown",
   "metadata": {
    "id": "DXSZfSo6cz3R"
   },
   "source": [
    "## 반복문 \n",
    "* 블락 반복 \n",
    "* 반복횟수가 정해진것: for \n",
    "* 조건에 따라 반복하는것은: while\n"
   ]
  },
  {
   "cell_type": "code",
   "execution_count": 23,
   "metadata": {
    "colab": {
     "base_uri": "https://localhost:8080/"
    },
    "id": "Fb4lCMrmc8mc",
    "outputId": "2f609de3-7c1a-4b6a-a763-51c10cd1b89c"
   },
   "outputs": [
    {
     "name": "stdout",
     "output_type": "stream",
     "text": [
      "6\n",
      "5\n",
      "3\n",
      "8\n",
      "4\n",
      "2\n",
      "5\n",
      "4\n",
      "11\n",
      "The sum is 48\n"
     ]
    }
   ],
   "source": [
    "# List of numbers\n",
    "numbers = [6, 5, 3, 8, 4, 2, 5, 4, 11]\n",
    "\n",
    "# variable to store the sum\n",
    "sum = 0\n",
    "\n",
    "# iterate over the list\n",
    "for val in numbers: # in? 포함된것, 순차적으로 포함된 것에서 값을 바꿔가며 사용 \n",
    "  print(val)\n",
    "  sum = sum+val\n",
    "\n",
    "print(\"The sum is\", sum)\n"
   ]
  },
  {
   "cell_type": "code",
   "execution_count": 6,
   "metadata": {
    "colab": {
     "base_uri": "https://localhost:8080/"
    },
    "id": "tkuLqlOMdmMF",
    "outputId": "ce0d852d-8b53-40fa-b777-4ac76f4edfe2",
    "scrolled": true
   },
   "outputs": [
    {
     "name": "stdout",
     "output_type": "stream",
     "text": [
      "I like pop\n",
      "I like rock\n",
      "I like jazz\n",
      "I like pop\n",
      "I like rock\n",
      "I like jazz\n",
      "pop\n",
      "pop\n",
      "0\n",
      "rock\n",
      "rock\n",
      "1\n",
      "jazz\n",
      "jazz\n",
      "2\n"
     ]
    }
   ],
   "source": [
    "# For 루프의 사용법  \n",
    "genre = ['pop', 'rock', 'jazz']\n",
    "# iterate over the list using index\n",
    "for i in range(len(genre)):\t\n",
    "\tprint(\"I like\", genre[i])\n",
    "\n",
    "# 둘다 결과는 동일하다. \n",
    "for i in genre:\t\n",
    "\tprint(\"I like\", i)\n",
    "\n",
    "for i, letter in enumerate(genre): # Enumerate의 사용 \n",
    "    print(genre[i])\n",
    "    print(letter)\n",
    "    print(i)"
   ]
  },
  {
   "cell_type": "code",
   "execution_count": 9,
   "metadata": {
    "colab": {
     "base_uri": "https://localhost:8080/"
    },
    "id": "G9y5v89YepvY",
    "outputId": "4045a577-44bd-4076-eea8-f2f6557554ff"
   },
   "outputs": [
    {
     "name": "stdout",
     "output_type": "stream",
     "text": [
      "The sum is 15\n",
      "6\n"
     ]
    }
   ],
   "source": [
    "#n = 10\n",
    "# 참고  n=-5: \"while 안에 조건이 맞는지가 중요합니다. \"\n",
    "n=5\n",
    "# initialize sum and counter\n",
    "sum = 0\n",
    "i = 1\n",
    "\n",
    "while i <= n:\n",
    "    sum = sum + i\n",
    "    i = i+1    # update counter\n",
    "\n",
    "# print the sum\n",
    "print(\"The sum is\", sum)\n",
    "print(i)"
   ]
  },
  {
   "cell_type": "code",
   "execution_count": 32,
   "metadata": {
    "colab": {
     "base_uri": "https://localhost:8080/"
    },
    "id": "NY8i9uT7fULR",
    "outputId": "66550a22-b3ee-476a-8fe5-8aff1b9ca654"
   },
   "outputs": [
    {
     "name": "stdout",
     "output_type": "stream",
     "text": [
      "s\n",
      "t\n",
      "r\n",
      "The end\n"
     ]
    }
   ],
   "source": [
    "# break 구문 \n",
    "for val in \"string\":\n",
    "\tif val == \"i\":\n",
    "\t\tbreak\n",
    "\tprint(val)\n",
    "\n",
    "print(\"The end\")\n"
   ]
  },
  {
   "cell_type": "code",
   "execution_count": 33,
   "metadata": {
    "colab": {
     "base_uri": "https://localhost:8080/"
    },
    "id": "-eAwbOgShUls",
    "outputId": "4110a8a2-17a8-4677-b23b-328cadcbaca7"
   },
   "outputs": [
    {
     "name": "stdout",
     "output_type": "stream",
     "text": [
      "s\n",
      "t\n",
      "r\n",
      "n\n",
      "g\n",
      "The end\n"
     ]
    }
   ],
   "source": [
    "# Continue 구문 \n",
    "for val in \"string\":\n",
    "\tif val == \"i\":\n",
    "\t\tcontinue\n",
    "\tprint(val)\n",
    "\n",
    "print(\"The end\")\n"
   ]
  },
  {
   "cell_type": "code",
   "execution_count": 11,
   "metadata": {
    "id": "m_uocVRUkLiF"
   },
   "outputs": [],
   "source": [
    "def absolute_value(num):\n",
    "\t\"\"\"This function returns the absolute\n",
    "\tvalue of the entered number\"\"\"\n",
    "\n",
    "\tif num >= 0:\n",
    "\t\treturn num\n",
    "\telse:\n",
    "\t\treturn -num\n"
   ]
  },
  {
   "cell_type": "code",
   "execution_count": 13,
   "metadata": {
    "colab": {
     "base_uri": "https://localhost:8080/"
    },
    "id": "B8k1ImMFkS4X",
    "outputId": "03bdf43c-f68b-4997-d849-b0a1030cd8da"
   },
   "outputs": [
    {
     "name": "stdout",
     "output_type": "stream",
     "text": [
      "32\n"
     ]
    }
   ],
   "source": [
    "val=absolute_value(32)\n",
    "print(val)"
   ]
  },
  {
   "cell_type": "code",
   "execution_count": 42,
   "metadata": {
    "colab": {
     "base_uri": "https://localhost:8080/"
    },
    "id": "WYN7cMfekuRy",
    "outputId": "cfe8268a-391f-48f0-ad78-ab43cd5470ca"
   },
   "outputs": [
    {
     "name": "stdout",
     "output_type": "stream",
     "text": [
      "Value inside function: 10\n",
      "Value outside function: 20\n"
     ]
    }
   ],
   "source": [
    "def my_func():\n",
    "\tx = 10\n",
    "\tprint(\"Value inside function:\",x)\n",
    "# 일반적으로 함수안에 지정된 변수의 값은 Local 변수로서\n",
    "# 함수 밖에 지정된 값에 영향을 미치지 않는다. \n",
    "\n",
    "x = 20\n",
    "my_func()\n",
    "print(\"Value outside function:\",x)\n"
   ]
  },
  {
   "cell_type": "code",
   "execution_count": 14,
   "metadata": {
    "id": "IGO_DC_AlSJ2"
   },
   "outputs": [],
   "source": [
    "def greet(name,msg):\n",
    "  \"\"\"This function greets to\n",
    "  the person with the provided message\"\"\"\n",
    "  print(\"Hello\",name + ', ' + msg)\n"
   ]
  },
  {
   "cell_type": "code",
   "execution_count": 16,
   "metadata": {
    "colab": {
     "base_uri": "https://localhost:8080/"
    },
    "id": "jJlEsCeOlb-R",
    "outputId": "44db61ad-0d5b-4835-d7cd-cd98fb89bc70"
   },
   "outputs": [
    {
     "name": "stdout",
     "output_type": "stream",
     "text": [
      "Hello monica, good morning\n",
      "Hello good morning, monica\n",
      "Hello monica, good morning\n",
      "Hello monica, good morning\n"
     ]
    }
   ],
   "source": [
    "greet(\"monica\",\"good morning\")\n",
    "greet(\"good morning\",\"monica\")\n",
    "greet(name=\"monica\",msg=\"good morning\")\n",
    "greet(msg=\"good morning\",name=\"monica\") # case 2 \n",
    "#greet(\"good morning\",name=\"monica\") # 오류\n",
    "#greet(name=\"monica\",\"good morning\") #오류 \n",
    "\n",
    "# CASE 1\n",
    "# 위치순대로 함수 INPUT 변수 지정 \n",
    "# 그후 Keyword 변수 사용하여 추가적으로 변수 지정 \n",
    "\n",
    "# CASE 2\n",
    "# 아니면 Keyword 변수 only \n"
   ]
  },
  {
   "cell_type": "code",
   "execution_count": 58,
   "metadata": {
    "colab": {
     "base_uri": "https://localhost:8080/",
     "height": 245
    },
    "id": "83DTJ2cjmw4n",
    "outputId": "f23efa45-3690-4f26-e551-07d1ad02d2a8"
   },
   "outputs": [
    {
     "name": "stdout",
     "output_type": "stream",
     "text": [
      "Hello monica, good morning\n",
      "Hello monica, Good morning!\n"
     ]
    },
    {
     "ename": "TypeError",
     "evalue": "ignored",
     "output_type": "error",
     "traceback": [
      "\u001b[0;31m---------------------------------------------------------------------------\u001b[0m",
      "\u001b[0;31mTypeError\u001b[0m                                 Traceback (most recent call last)",
      "\u001b[0;32m<ipython-input-58-e5e91fb27ea9>\u001b[0m in \u001b[0;36m<module>\u001b[0;34m\u001b[0m\n\u001b[1;32m      4\u001b[0m \u001b[0mgreet\u001b[0m\u001b[0;34m(\u001b[0m\u001b[0;34m\"monica\"\u001b[0m\u001b[0;34m,\u001b[0m\u001b[0;34m\"good morning\"\u001b[0m\u001b[0;34m)\u001b[0m\u001b[0;34m\u001b[0m\u001b[0;34m\u001b[0m\u001b[0m\n\u001b[1;32m      5\u001b[0m \u001b[0mgreet\u001b[0m\u001b[0;34m(\u001b[0m\u001b[0;34m\"monica\"\u001b[0m\u001b[0;34m)\u001b[0m \u001b[0;31m# default를 활용하는 방법\u001b[0m\u001b[0;34m\u001b[0m\u001b[0;34m\u001b[0m\u001b[0m\n\u001b[0;32m----> 6\u001b[0;31m \u001b[0mgreet\u001b[0m\u001b[0;34m(\u001b[0m\u001b[0;34m)\u001b[0m \u001b[0;31m# name에는 default가 없다.\u001b[0m\u001b[0;34m\u001b[0m\u001b[0;34m\u001b[0m\u001b[0m\n\u001b[0m",
      "\u001b[0;31mTypeError\u001b[0m: greet() missing 1 required positional argument: 'name'"
     ]
    }
   ],
   "source": [
    "def greet(name, msg = \"Good morning!\"):\n",
    "   print(\"Hello\",name + ', ' + msg)\n",
    "\n",
    "greet(\"monica\",\"good morning\")\n",
    "greet(\"monica\") # default를 활용하는 방법\n",
    "greet() # name에는 default가 없다. \n"
   ]
  },
  {
   "cell_type": "code",
   "execution_count": 18,
   "metadata": {
    "colab": {
     "base_uri": "https://localhost:8080/",
     "height": 245
    },
    "id": "DEQyPcponlnL",
    "outputId": "367586d3-dd8c-4325-c173-9ea14ac591ad"
   },
   "outputs": [
    {
     "name": "stdout",
     "output_type": "stream",
     "text": [
      "local\n"
     ]
    }
   ],
   "source": [
    "#Q1 : 답은 오류 \n",
    "def foo():\n",
    "    yy = \"local\"\n",
    "\n",
    "foo()\n",
    "print(yy)\n",
    "\n",
    "\n",
    "#Q2: 여전히 오류  \n",
    "def foo():\n",
    "    yy = \"local\"\n",
    "    print(yy)\n",
    "\n",
    "foo()\n",
    "print(yy)\n",
    "\n"
   ]
  },
  {
   "cell_type": "code",
   "execution_count": 21,
   "metadata": {
    "colab": {
     "base_uri": "https://localhost:8080/"
    },
    "id": "JicHpvSmoHVc",
    "outputId": "1343b250-c2a0-44ea-c001-0150f1aa5ef1",
    "scrolled": true
   },
   "outputs": [
    {
     "name": "stdout",
     "output_type": "stream",
     "text": [
      "globalglobal\n",
      "local\n",
      "globalglobal\n",
      "globalglobalglobalglobal\n",
      "local\n"
     ]
    }
   ],
   "source": [
    "x = \"global\"\n",
    "\n",
    "def foo():\n",
    "    global x # x가 전역 변수임을 지정: 다시 말해 함수 밖에서도 바뀐다. \n",
    "    y = \"local\"\n",
    "    x = x * 2\n",
    "    print(x)\n",
    "    print(y)\n",
    "    \n",
    "foo()\n",
    "print(x) # x값이 바뀌었다\n",
    "foo() "
   ]
  },
  {
   "cell_type": "code",
   "execution_count": 22,
   "metadata": {
    "colab": {
     "base_uri": "https://localhost:8080/"
    },
    "id": "M4FEUr6fopjh",
    "outputId": "607b852d-dbda-43d1-807e-5f0bff92ae5a"
   },
   "outputs": [
    {
     "name": "stdout",
     "output_type": "stream",
     "text": [
      "globallocal\n"
     ]
    }
   ],
   "source": [
    "# 마지막 하나의 케이스: 함수안에 변수 지정이 안되어 있으면, 밖에서 찾는다. \n",
    "x=\"global\"\n",
    "\n",
    "def foo(y):\n",
    "  print(x + y)\n",
    "\n",
    "y=\"local\"\n",
    "foo(y)"
   ]
  },
  {
   "cell_type": "code",
   "execution_count": 26,
   "metadata": {
    "colab": {
     "base_uri": "https://localhost:8080/"
    },
    "id": "_-zp_-EupVGw",
    "outputId": "a826f08f-66e9-477b-8c48-70b09f6ed6b2"
   },
   "outputs": [
    {
     "name": "stdout",
     "output_type": "stream",
     "text": [
      "(5, 1, 1.5, 6)\n",
      "5 1 1.5 6\n"
     ]
    }
   ],
   "source": [
    "# Output이 여러개일때는 100이면 100 튜플 사용 \n",
    "def add4(a,b):\n",
    "  a1=a+b\n",
    "  a2=a-b\n",
    "  a3=a/b\n",
    "  a4=a*b\n",
    "  return (a1, a2, a3, a4)\n",
    "\n",
    "print(add4(3, 2))\n",
    "(a1, a2, a3, a4) = add4(3, 2)\n",
    "print(a1, a2, a3, a4)"
   ]
  },
  {
   "cell_type": "code",
   "execution_count": null,
   "metadata": {},
   "outputs": [],
   "source": []
  }
 ],
 "metadata": {
  "colab": {
   "provenance": []
  },
  "kernelspec": {
   "display_name": "Python 3",
   "language": "python",
   "name": "python3"
  },
  "language_info": {
   "codemirror_mode": {
    "name": "ipython",
    "version": 3
   },
   "file_extension": ".py",
   "mimetype": "text/x-python",
   "name": "python",
   "nbconvert_exporter": "python",
   "pygments_lexer": "ipython3",
   "version": "3.8.8"
  }
 },
 "nbformat": 4,
 "nbformat_minor": 1
}
