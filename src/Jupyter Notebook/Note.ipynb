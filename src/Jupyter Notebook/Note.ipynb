{
 "cells": [
  {
   "cell_type": "markdown",
   "id": "8c414c2e",
   "metadata": {},
   "source": [
    "<h4>파이썬과 R프로그램 학습 & 머신러닝 학습 후 프로젝트 응용<br>\n",
    "data science 학습</h4>\n",
    "\n",
    "https://www.dataquest.io/blog/how-to-share-data-science-portfolio/\n",
    "https://codersheary.wordpress.com/2023/02/27/%f0%9f%94%ad-10-data-science-projects-to-build-in-2023-59-source-codes-self-study-version/\n",
    "https://www.simplilearn.com/regression-vs-classification-in-machine-learning-article\n",
    "\n",
    "learn hot to github\n",
    "- create repository (repo)\n",
    "- Fork repo\n",
    "\n",
    "<h4>대용량 데이터에 대한 탐색적 데이터 분석 (Exploratory Data Analysis & 통계적 관점)</h4>\n",
    "복잡한 통계적인 분석이나 모형구축 기법을 사용하여 대용량의 데이터 내에 이전에는 알려지지 않았던 패턴이나 규칙 등을 탐색하고 모형화함으로써 유용한 지식을 추출하는 일련의 과정\n",
    "\n",
    "data (text) mining\n",
    "\n",
    "Q1.data\n",
    "data를 다마을 그릇이 있어야 데이터 행태도 정해져 있어야 하고\n",
    "개별데이터는\n",
    "1. 문자\n",
    "2. 숫자\n",
    "3. logical(Boolean): True, False\n",
    "\n",
    "사진도 숫자고 영상도 숫자이다.\n",
    "\n",
    "특정 형태로 데이터를 받을수 있게\n",
    "뭉치로 받을수 있게하는 저장소\n",
    "1. tuple\n",
    "2. list\n",
    "3. dictionary\n",
    "4. set"
   ]
  },
  {
   "cell_type": "markdown",
   "id": "f73f6a0d",
   "metadata": {},
   "source": [
    "---"
   ]
  },
  {
   "cell_type": "markdown",
   "id": "1fa0bfa4",
   "metadata": {},
   "source": [
    "### 2주차"
   ]
  },
  {
   "cell_type": "code",
   "execution_count": 19,
   "id": "35502258",
   "metadata": {},
   "outputs": [
    {
     "data": {
      "text/plain": [
       "int"
      ]
     },
     "execution_count": 19,
     "metadata": {},
     "output_type": "execute_result"
    }
   ],
   "source": [
    "type(14)"
   ]
  },
  {
   "cell_type": "code",
   "execution_count": 20,
   "id": "5526490b",
   "metadata": {},
   "outputs": [
    {
     "data": {
      "text/plain": [
       "float"
      ]
     },
     "execution_count": 20,
     "metadata": {},
     "output_type": "execute_result"
    }
   ],
   "source": [
    "type(1.3)"
   ]
  },
  {
   "cell_type": "code",
   "execution_count": 21,
   "id": "c8e30f70",
   "metadata": {},
   "outputs": [
    {
     "data": {
      "text/plain": [
       "str"
      ]
     },
     "execution_count": 21,
     "metadata": {},
     "output_type": "execute_result"
    }
   ],
   "source": [
    "type(\"str\")"
   ]
  },
  {
   "cell_type": "code",
   "execution_count": 22,
   "id": "0a0fbd78",
   "metadata": {},
   "outputs": [
    {
     "data": {
      "text/plain": [
       "bool"
      ]
     },
     "execution_count": 22,
     "metadata": {},
     "output_type": "execute_result"
    }
   ],
   "source": [
    "type(True)"
   ]
  },
  {
   "cell_type": "code",
   "execution_count": 23,
   "id": "b1a69298",
   "metadata": {},
   "outputs": [
    {
     "name": "stdout",
     "output_type": "stream",
     "text": [
      "5.0\n",
      "5\n"
     ]
    }
   ],
   "source": [
    "print(50/10)\n",
    "print(50//10)"
   ]
  },
  {
   "cell_type": "code",
   "execution_count": 24,
   "id": "41328f86",
   "metadata": {},
   "outputs": [
    {
     "data": {
      "text/plain": [
       "tuple"
      ]
     },
     "execution_count": 24,
     "metadata": {},
     "output_type": "execute_result"
    }
   ],
   "source": [
    "lists = [1,2,3]\n",
    "tuples = (1,2,'3')\n",
    "type(tuples)"
   ]
  },
  {
   "cell_type": "code",
   "execution_count": 25,
   "id": "48ac942a",
   "metadata": {},
   "outputs": [
    {
     "name": "stdout",
     "output_type": "stream",
     "text": [
      "(0, 'pop')\n",
      "(1, 'rock')\n",
      "(2, 'jazz')\n"
     ]
    },
    {
     "data": {
      "text/plain": [
       "list"
      ]
     },
     "execution_count": 25,
     "metadata": {},
     "output_type": "execute_result"
    }
   ],
   "source": [
    "genre = ['pop', 'rock', 'jazz']\n",
    "for i in enumerate(genre):\n",
    "    print(i)\n",
    "    \n",
    "type(genre)"
   ]
  },
  {
   "cell_type": "code",
   "execution_count": 26,
   "id": "c95f28c5",
   "metadata": {},
   "outputs": [
    {
     "name": "stdout",
     "output_type": "stream",
     "text": [
      "(0, 'f')\n",
      "(1, 'd')\n",
      "(2, 's')\n",
      "(3, 'f')\n",
      "(4, 'a')\n",
      "(5, 's')\n"
     ]
    },
    {
     "data": {
      "text/plain": [
       "str"
      ]
     },
     "execution_count": 26,
     "metadata": {},
     "output_type": "execute_result"
    }
   ],
   "source": [
    "name = \"fdsfas\"\n",
    "for i in enumerate(name):\n",
    "    print(i)\n",
    "    \n",
    "type(name)"
   ]
  },
  {
   "cell_type": "code",
   "execution_count": 27,
   "id": "eca79265",
   "metadata": {},
   "outputs": [
    {
     "name": "stdout",
     "output_type": "stream",
     "text": [
      "(0, 1)\n",
      "(1, 2)\n",
      "(2, '3')\n"
     ]
    },
    {
     "data": {
      "text/plain": [
       "tuple"
      ]
     },
     "execution_count": 27,
     "metadata": {},
     "output_type": "execute_result"
    }
   ],
   "source": [
    "for i in enumerate(tuples):\n",
    "    print(i)\n",
    "    \n",
    "type(tuples)"
   ]
  },
  {
   "cell_type": "code",
   "execution_count": 28,
   "id": "a77c0f45",
   "metadata": {
    "scrolled": true
   },
   "outputs": [
    {
     "name": "stdout",
     "output_type": "stream",
     "text": [
      "Help on built-in function open in module io:\n",
      "\n",
      "open(file, mode='r', buffering=-1, encoding=None, errors=None, newline=None, closefd=True, opener=None)\n",
      "    Open file and return a stream.  Raise OSError upon failure.\n",
      "    \n",
      "    file is either a text or byte string giving the name (and the path\n",
      "    if the file isn't in the current working directory) of the file to\n",
      "    be opened or an integer file descriptor of the file to be\n",
      "    wrapped. (If a file descriptor is given, it is closed when the\n",
      "    returned I/O object is closed, unless closefd is set to False.)\n",
      "    \n",
      "    mode is an optional string that specifies the mode in which the file\n",
      "    is opened. It defaults to 'r' which means open for reading in text\n",
      "    mode.  Other common values are 'w' for writing (truncating the file if\n",
      "    it already exists), 'x' for creating and writing to a new file, and\n",
      "    'a' for appending (which on some Unix systems, means that all writes\n",
      "    append to the end of the file regardless of the current seek position).\n",
      "    In text mode, if encoding is not specified the encoding used is platform\n",
      "    dependent: locale.getpreferredencoding(False) is called to get the\n",
      "    current locale encoding. (For reading and writing raw bytes use binary\n",
      "    mode and leave encoding unspecified.) The available modes are:\n",
      "    \n",
      "    ========= ===============================================================\n",
      "    Character Meaning\n",
      "    --------- ---------------------------------------------------------------\n",
      "    'r'       open for reading (default)\n",
      "    'w'       open for writing, truncating the file first\n",
      "    'x'       create a new file and open it for writing\n",
      "    'a'       open for writing, appending to the end of the file if it exists\n",
      "    'b'       binary mode\n",
      "    't'       text mode (default)\n",
      "    '+'       open a disk file for updating (reading and writing)\n",
      "    'U'       universal newline mode (deprecated)\n",
      "    ========= ===============================================================\n",
      "    \n",
      "    The default mode is 'rt' (open for reading text). For binary random\n",
      "    access, the mode 'w+b' opens and truncates the file to 0 bytes, while\n",
      "    'r+b' opens the file without truncation. The 'x' mode implies 'w' and\n",
      "    raises an `FileExistsError` if the file already exists.\n",
      "    \n",
      "    Python distinguishes between files opened in binary and text modes,\n",
      "    even when the underlying operating system doesn't. Files opened in\n",
      "    binary mode (appending 'b' to the mode argument) return contents as\n",
      "    bytes objects without any decoding. In text mode (the default, or when\n",
      "    't' is appended to the mode argument), the contents of the file are\n",
      "    returned as strings, the bytes having been first decoded using a\n",
      "    platform-dependent encoding or using the specified encoding if given.\n",
      "    \n",
      "    'U' mode is deprecated and will raise an exception in future versions\n",
      "    of Python.  It has no effect in Python 3.  Use newline to control\n",
      "    universal newlines mode.\n",
      "    \n",
      "    buffering is an optional integer used to set the buffering policy.\n",
      "    Pass 0 to switch buffering off (only allowed in binary mode), 1 to select\n",
      "    line buffering (only usable in text mode), and an integer > 1 to indicate\n",
      "    the size of a fixed-size chunk buffer.  When no buffering argument is\n",
      "    given, the default buffering policy works as follows:\n",
      "    \n",
      "    * Binary files are buffered in fixed-size chunks; the size of the buffer\n",
      "      is chosen using a heuristic trying to determine the underlying device's\n",
      "      \"block size\" and falling back on `io.DEFAULT_BUFFER_SIZE`.\n",
      "      On many systems, the buffer will typically be 4096 or 8192 bytes long.\n",
      "    \n",
      "    * \"Interactive\" text files (files for which isatty() returns True)\n",
      "      use line buffering.  Other text files use the policy described above\n",
      "      for binary files.\n",
      "    \n",
      "    encoding is the name of the encoding used to decode or encode the\n",
      "    file. This should only be used in text mode. The default encoding is\n",
      "    platform dependent, but any encoding supported by Python can be\n",
      "    passed.  See the codecs module for the list of supported encodings.\n",
      "    \n",
      "    errors is an optional string that specifies how encoding errors are to\n",
      "    be handled---this argument should not be used in binary mode. Pass\n",
      "    'strict' to raise a ValueError exception if there is an encoding error\n",
      "    (the default of None has the same effect), or pass 'ignore' to ignore\n",
      "    errors. (Note that ignoring encoding errors can lead to data loss.)\n",
      "    See the documentation for codecs.register or run 'help(codecs.Codec)'\n",
      "    for a list of the permitted encoding error strings.\n",
      "    \n",
      "    newline controls how universal newlines works (it only applies to text\n",
      "    mode). It can be None, '', '\\n', '\\r', and '\\r\\n'.  It works as\n",
      "    follows:\n",
      "    \n",
      "    * On input, if newline is None, universal newlines mode is\n",
      "      enabled. Lines in the input can end in '\\n', '\\r', or '\\r\\n', and\n",
      "      these are translated into '\\n' before being returned to the\n",
      "      caller. If it is '', universal newline mode is enabled, but line\n",
      "      endings are returned to the caller untranslated. If it has any of\n",
      "      the other legal values, input lines are only terminated by the given\n",
      "      string, and the line ending is returned to the caller untranslated.\n",
      "    \n",
      "    * On output, if newline is None, any '\\n' characters written are\n",
      "      translated to the system default line separator, os.linesep. If\n",
      "      newline is '' or '\\n', no translation takes place. If newline is any\n",
      "      of the other legal values, any '\\n' characters written are translated\n",
      "      to the given string.\n",
      "    \n",
      "    If closefd is False, the underlying file descriptor will be kept open\n",
      "    when the file is closed. This does not work when a file name is given\n",
      "    and must be True in that case.\n",
      "    \n",
      "    A custom opener can be used by passing a callable as *opener*. The\n",
      "    underlying file descriptor for the file object is then obtained by\n",
      "    calling *opener* with (*file*, *flags*). *opener* must return an open\n",
      "    file descriptor (passing os.open as *opener* results in functionality\n",
      "    similar to passing None).\n",
      "    \n",
      "    open() returns a file object whose type depends on the mode, and\n",
      "    through which the standard file operations such as reading and writing\n",
      "    are performed. When open() is used to open a file in a text mode ('w',\n",
      "    'r', 'wt', 'rt', etc.), it returns a TextIOWrapper. When used to open\n",
      "    a file in a binary mode, the returned class varies: in read binary\n",
      "    mode, it returns a BufferedReader; in write binary and append binary\n",
      "    modes, it returns a BufferedWriter, and in read/write mode, it returns\n",
      "    a BufferedRandom.\n",
      "    \n",
      "    It is also possible to use a string or bytearray as a file for both\n",
      "    reading and writing. For strings StringIO can be used like a file\n",
      "    opened in a text mode, and for bytes a BytesIO can be used like a file\n",
      "    opened in a binary mode.\n",
      "\n"
     ]
    }
   ],
   "source": [
    "help(open)"
   ]
  },
  {
   "cell_type": "code",
   "execution_count": 29,
   "id": "76f1f25e",
   "metadata": {},
   "outputs": [
    {
     "data": {
      "text/plain": [
       "2"
      ]
     },
     "execution_count": 29,
     "metadata": {},
     "output_type": "execute_result"
    }
   ],
   "source": [
    "lists = ['df', 221, 24.4]\n",
    "len(lists[0])"
   ]
  },
  {
   "cell_type": "code",
   "execution_count": 30,
   "id": "ee1fccf5",
   "metadata": {},
   "outputs": [
    {
     "data": {
      "text/plain": [
       "46"
      ]
     },
     "execution_count": 30,
     "metadata": {},
     "output_type": "execute_result"
    }
   ],
   "source": [
    "expressions = 10 + 23 + 12 + 1\n",
    "expressions"
   ]
  },
  {
   "cell_type": "code",
   "execution_count": 31,
   "id": "1a57a21a",
   "metadata": {
    "scrolled": true
   },
   "outputs": [
    {
     "data": {
      "text/plain": [
       "['__add__',\n",
       " '__class__',\n",
       " '__contains__',\n",
       " '__delattr__',\n",
       " '__dir__',\n",
       " '__doc__',\n",
       " '__eq__',\n",
       " '__format__',\n",
       " '__ge__',\n",
       " '__getattribute__',\n",
       " '__getitem__',\n",
       " '__getnewargs__',\n",
       " '__gt__',\n",
       " '__hash__',\n",
       " '__init__',\n",
       " '__init_subclass__',\n",
       " '__iter__',\n",
       " '__le__',\n",
       " '__len__',\n",
       " '__lt__',\n",
       " '__mod__',\n",
       " '__mul__',\n",
       " '__ne__',\n",
       " '__new__',\n",
       " '__reduce__',\n",
       " '__reduce_ex__',\n",
       " '__repr__',\n",
       " '__rmod__',\n",
       " '__rmul__',\n",
       " '__setattr__',\n",
       " '__sizeof__',\n",
       " '__str__',\n",
       " '__subclasshook__',\n",
       " 'capitalize',\n",
       " 'casefold',\n",
       " 'center',\n",
       " 'count',\n",
       " 'encode',\n",
       " 'endswith',\n",
       " 'expandtabs',\n",
       " 'find',\n",
       " 'format',\n",
       " 'format_map',\n",
       " 'index',\n",
       " 'isalnum',\n",
       " 'isalpha',\n",
       " 'isascii',\n",
       " 'isdecimal',\n",
       " 'isdigit',\n",
       " 'isidentifier',\n",
       " 'islower',\n",
       " 'isnumeric',\n",
       " 'isprintable',\n",
       " 'isspace',\n",
       " 'istitle',\n",
       " 'isupper',\n",
       " 'join',\n",
       " 'ljust',\n",
       " 'lower',\n",
       " 'lstrip',\n",
       " 'maketrans',\n",
       " 'partition',\n",
       " 'replace',\n",
       " 'rfind',\n",
       " 'rindex',\n",
       " 'rjust',\n",
       " 'rpartition',\n",
       " 'rsplit',\n",
       " 'rstrip',\n",
       " 'split',\n",
       " 'splitlines',\n",
       " 'startswith',\n",
       " 'strip',\n",
       " 'swapcase',\n",
       " 'title',\n",
       " 'translate',\n",
       " 'upper',\n",
       " 'zfill']"
      ]
     },
     "execution_count": 31,
     "metadata": {},
     "output_type": "execute_result"
    }
   ],
   "source": [
    "dir(str)\n",
    "# item assignment 는 없다"
   ]
  },
  {
   "cell_type": "code",
   "execution_count": 32,
   "id": "3f44a34f",
   "metadata": {},
   "outputs": [
    {
     "data": {
      "text/plain": [
       "4"
      ]
     },
     "execution_count": 32,
     "metadata": {},
     "output_type": "execute_result"
    }
   ],
   "source": [
    "word = 'banana'\n",
    "word.find('na', 3)"
   ]
  },
  {
   "cell_type": "markdown",
   "id": "93c648e3",
   "metadata": {},
   "source": [
    "function: <br>\n",
    "len(...)\n",
    "\n",
    "method:<br>\n",
    "word.upper()\n",
    "\n",
    "문자열 시퀀스.. something that has index => 저장위치자 정해져 있다."
   ]
  },
  {
   "cell_type": "code",
   "execution_count": 33,
   "id": "30420d10",
   "metadata": {},
   "outputs": [
    {
     "data": {
      "text/plain": [
       "('l', 'u', 'p', 'i', 'n', 's')"
      ]
     },
     "execution_count": 33,
     "metadata": {},
     "output_type": "execute_result"
    }
   ],
   "source": [
    "t = tuple('lupins')\n",
    "t"
   ]
  },
  {
   "cell_type": "code",
   "execution_count": 34,
   "id": "4452dbaa",
   "metadata": {},
   "outputs": [
    {
     "name": "stdout",
     "output_type": "stream",
     "text": [
      "l\n",
      "('u', 'p')\n"
     ]
    },
    {
     "data": {
      "text/plain": [
       "('L', 'u', 'p', 'i', 'n', 's')"
      ]
     },
     "execution_count": 34,
     "metadata": {},
     "output_type": "execute_result"
    }
   ],
   "source": [
    "t = ('l', 'u', 'p', 'i', 'n', 's')\n",
    "print(t[0])\n",
    "print(t[1:3])\n",
    "t = ('L', ) + t[1:]\n",
    "t"
   ]
  },
  {
   "cell_type": "code",
   "execution_count": 35,
   "id": "2942acdc",
   "metadata": {},
   "outputs": [
    {
     "ename": "TypeError",
     "evalue": "'tuple' object does not support item assignment",
     "output_type": "error",
     "traceback": [
      "\u001b[1;31m---------------------------------------------------------------------------\u001b[0m",
      "\u001b[1;31mTypeError\u001b[0m                                 Traceback (most recent call last)",
      "\u001b[1;32m<ipython-input-35-14d20f4175dd>\u001b[0m in \u001b[0;36m<module>\u001b[1;34m\u001b[0m\n\u001b[1;32m----> 1\u001b[1;33m \u001b[0mt\u001b[0m\u001b[1;33m[\u001b[0m\u001b[1;36m0\u001b[0m\u001b[1;33m]\u001b[0m \u001b[1;33m=\u001b[0m \u001b[1;34m'A'\u001b[0m\u001b[1;33m\u001b[0m\u001b[1;33m\u001b[0m\u001b[0m\n\u001b[0m\u001b[0;32m      2\u001b[0m \u001b[1;31m# list 는 가능\u001b[0m\u001b[1;33m\u001b[0m\u001b[1;33m\u001b[0m\u001b[1;33m\u001b[0m\u001b[0m\n",
      "\u001b[1;31mTypeError\u001b[0m: 'tuple' object does not support item assignment"
     ]
    }
   ],
   "source": [
    "t[0] = 'A'\n",
    "# list 는 가능"
   ]
  },
  {
   "cell_type": "code",
   "execution_count": null,
   "id": "38be6a18",
   "metadata": {},
   "outputs": [],
   "source": [
    "a = [1, 2, 3]\n",
    "b = [4, 5, 6]\n",
    "c = a + b\n",
    "print(c)\n",
    "# list 는 수치형 벡터가 아니다. 수치형 벡터는 numpy\n",
    "\n",
    "a.append([7, 's'])\n",
    "print(a)\n",
    "\n",
    "a.extend([5, 4])\n",
    "print(a)\n",
    "\n",
    "a.pop(3) # index\n",
    "del a[0] # index\n",
    "a.remove(2) # content\n",
    "print(a)\n",
    "\n",
    "a.sort()\n",
    "print(a)"
   ]
  },
  {
   "cell_type": "code",
   "execution_count": null,
   "id": "dd4801f1",
   "metadata": {},
   "outputs": [],
   "source": [
    "# dictionaries use key instead of index. contents are called values\n",
    "dic = {'one': 'hi', 'two': 'my', 'three': 'name'}\n",
    "'one' in dic\n",
    "'hi' in dic\n",
    "print((dic.values()))\n",
    "print(list(dic.values()))"
   ]
  },
  {
   "cell_type": "markdown",
   "id": "bcd3d2ca",
   "metadata": {},
   "source": [
    "---"
   ]
  },
  {
   "cell_type": "markdown",
   "id": "af3721e7",
   "metadata": {},
   "source": [
    "### 3주차 skip (if else) for python"
   ]
  },
  {
   "cell_type": "markdown",
   "id": "85ac18fa",
   "metadata": {},
   "source": [
    "---"
   ]
  },
  {
   "cell_type": "markdown",
   "id": "62ec7547",
   "metadata": {},
   "source": [
    "### 4주차 (pandas)"
   ]
  },
  {
   "cell_type": "code",
   "execution_count": null,
   "id": "1d9645ba",
   "metadata": {
    "scrolled": true
   },
   "outputs": [],
   "source": [
    "help(open)"
   ]
  },
  {
   "cell_type": "code",
   "execution_count": null,
   "id": "95c511de",
   "metadata": {},
   "outputs": [],
   "source": [
    "with open(\"test.txt\", 'w', encoding='utf-8') as f:\n",
    "    f.write(\"my first file\\n\")\n",
    "    f.write(\"This file\\n\\n\")\n",
    "    f.write(\"contains three lines\\n\")\n",
    "f.close"
   ]
  },
  {
   "cell_type": "code",
   "execution_count": null,
   "id": "d42d47ce",
   "metadata": {},
   "outputs": [],
   "source": [
    "f = open(\"test.txt\", 'r', encoding='utf-8')\n",
    "print(f.readline())\n",
    "print(f.readline())\n",
    "f.close"
   ]
  },
  {
   "cell_type": "code",
   "execution_count": null,
   "id": "093c7479",
   "metadata": {
    "scrolled": true
   },
   "outputs": [],
   "source": [
    "import pandas as pd\n",
    "csv_path = \"file1.csv\"\n",
    "df = pd.read_csv(csv_path)\n",
    "\n",
    "df.head() # prints first 5 rows by default"
   ]
  },
  {
   "cell_type": "code",
   "execution_count": null,
   "id": "8f44d0c6",
   "metadata": {
    "scrolled": false
   },
   "outputs": [],
   "source": [
    "import pandas as pd\n",
    "import numpy as np\n",
    "\n",
    "names = ['Olga', 'Andrew', 'Brian', 'Telulah', 'Nicole', 'Tilda']\n",
    "ages = [29, 21, 45, 23, 39, 46]\n",
    "married = [False, True, True, True, False, True]\n",
    "\n",
    "ser = pd.Series(names, name='name')\n",
    "print(ser)\n",
    "\n",
    "print()\n",
    "\n",
    "df = pd.DataFrame({'name': names, 'age': ages, 'married': married}) # 딕셔너리 쓰는 법 \n",
    "print(df)"
   ]
  },
  {
   "cell_type": "code",
   "execution_count": null,
   "id": "6c98bb4c",
   "metadata": {},
   "outputs": [],
   "source": [
    "df.info(verbose=True)"
   ]
  },
  {
   "cell_type": "code",
   "execution_count": null,
   "id": "d0222639",
   "metadata": {},
   "outputs": [],
   "source": [
    "df.info()"
   ]
  },
  {
   "cell_type": "code",
   "execution_count": null,
   "id": "120b65b7",
   "metadata": {
    "scrolled": true
   },
   "outputs": [],
   "source": [
    "dataurl='https://andybek.com/pandas-nutrition'\n",
    "nutrition = pd.read_csv(dataurl)\n",
    "# nutrition.head(10)\n",
    "# nutrition.info(verbose = False, memory_usage='deep')\n",
    "# nutrition['Unnamed: 0']\n",
    "# nutrition.drop('Unnamed: 0', axis = 1)\n",
    "nutrition.set_index('Unnamed: 0')"
   ]
  },
  {
   "cell_type": "code",
   "execution_count": null,
   "id": "a6154928",
   "metadata": {
    "scrolled": true
   },
   "outputs": [],
   "source": [
    "# sample method: 관측치 샘플링\n",
    "nutrition = pd.read_csv(dataurl, index_col=[0])\n",
    "# nutrition\n",
    "# nutrition.sample(random_state=0) # 5584\n",
    "# nutrition.sample(n=3)\n",
    "nutrition.sample(frac = 0.01) # 1%"
   ]
  },
  {
   "cell_type": "code",
   "execution_count": null,
   "id": "1ed63828",
   "metadata": {
    "scrolled": true
   },
   "outputs": [],
   "source": [
    "print(nutrition.axes)\n",
    "print(nutrition.axes[1][69])\n",
    "print(nutrition.index[3])\n",
    "print(nutrition.columns[69])\n",
    "\n",
    "nutrition.dropna(axis=0)"
   ]
  },
  {
   "cell_type": "code",
   "execution_count": null,
   "id": "da93e05b",
   "metadata": {
    "scrolled": true
   },
   "outputs": [],
   "source": [
    "nutrition.index\n",
    "# nutrition.set_index('name', inplace=True)\n",
    "nutrition.reset_index()\n",
    "nutrition"
   ]
  },
  {
   "cell_type": "code",
   "execution_count": null,
   "id": "103e9efb",
   "metadata": {},
   "outputs": [],
   "source": [
    "nutrition.head()\n",
    "nutrition.loc['Eggplant, raw']\n",
    "nutrition.loc['Eggplant, raw':'Sherbet, orange', 'calories':'cholesterol'] # range\n",
    "nutrition.loc[\n",
    "    ['Raspberries, raw', 'Blackberries, raw'], # column\n",
    "    ['protein', 'vitamin_b6', 'water']         # row\n",
    "]"
   ]
  },
  {
   "cell_type": "code",
   "execution_count": null,
   "id": "56f63f1b",
   "metadata": {
    "scrolled": true
   },
   "outputs": [],
   "source": [
    "nutrition.iloc[[4,6,9],2:5]\n",
    "new_nutr = nutrition.iloc [\n",
    "    [True if i%2==0 else False for i in range(8789)],\n",
    "    [True if i%2==0 else False for i in range(75)]\n",
    "]\n",
    "\n",
    "\"\"\"\n",
    "i가 0부터 8788까지 변하는데\n",
    "i를 2로 나누었을 때 나머지가 0이면 True\n",
    "else False\n",
    "이걸 List로 만들라\n",
    "\n",
    "data선택의 문제\n",
    "loc을 쓰면: 이름기반 행이름(index), 열이름(column)\n",
    "iloc을 쓰면(1): 이름기반 행의 수열, 열의 수열 기반으로 추출한다.\n",
    "iloc을 쓰면(2): True/False 기반 추출 -> True만 뽑아라\n",
    "2번째의 전제조건은 -> True/False List의 원소개수가 행/열의 갯수와 동일해야한다\n",
    "\"\"\"\n",
    "\n",
    "new_nutr.info()\n",
    "# nutrition.info()"
   ]
  },
  {
   "cell_type": "code",
   "execution_count": null,
   "id": "75832ac0",
   "metadata": {},
   "outputs": [],
   "source": [
    "nutrition.iloc[1,1] #loc는 관측치 값?으로 \n",
    "nutrition.at['Nuts, pecans', 'calories']\n",
    "nutrition.iat[1,1]\n",
    "%timeit nutrition.loc['Nuts, pecans', 'calories']\n",
    "%timeit nutrition.at['Nuts, pecans', 'calories']\n",
    "nutrition.columns.get_loc('vitamin_k')"
   ]
  },
  {
   "cell_type": "code",
   "execution_count": null,
   "id": "69f7417b",
   "metadata": {
    "scrolled": true
   },
   "outputs": [],
   "source": [
    "df = pd.DataFrame({\n",
    "    'age' : [12,13,14,16],\n",
    "    'weight' : [41.1, 34.5, 83.2, 90.1],\n",
    "    'height' : ['1.72', '1.74', '1.91', '1.54']\n",
    "})\n",
    "\n",
    "df.info()\n",
    "df = df.astype(float)\n",
    "df.astype({'age':int})"
   ]
  },
  {
   "cell_type": "code",
   "execution_count": null,
   "id": "3079c03d",
   "metadata": {},
   "outputs": [],
   "source": [
    "df.loc[2, 'weight'] = np.nan\n",
    "df"
   ]
  },
  {
   "cell_type": "code",
   "execution_count": null,
   "id": "9588198a",
   "metadata": {},
   "outputs": [],
   "source": [
    "df.loc[1,:] = np.nan\n",
    "df"
   ]
  },
  {
   "cell_type": "code",
   "execution_count": null,
   "id": "e347d94d",
   "metadata": {},
   "outputs": [],
   "source": [
    "df.dropna(how='any', axis=0)"
   ]
  },
  {
   "cell_type": "code",
   "execution_count": null,
   "id": "ed0173c0",
   "metadata": {},
   "outputs": [],
   "source": [
    "df.dropna(how='all', axis=0)"
   ]
  },
  {
   "cell_type": "code",
   "execution_count": null,
   "id": "569ae950",
   "metadata": {},
   "outputs": [],
   "source": [
    "df.dropna(thresh=1, axis=0)"
   ]
  },
  {
   "cell_type": "code",
   "execution_count": null,
   "id": "ae3203a2",
   "metadata": {},
   "outputs": [],
   "source": [
    "df.dropna(thresh=df.shape[1], axis=0)"
   ]
  },
  {
   "cell_type": "code",
   "execution_count": null,
   "id": "50f93506",
   "metadata": {},
   "outputs": [],
   "source": [
    "df.dropna(axis=1, thresh=3, inplace=False) # inplace replaces the actual values on df"
   ]
  },
  {
   "cell_type": "code",
   "execution_count": null,
   "id": "466c5882",
   "metadata": {},
   "outputs": [],
   "source": [
    " nutrition.sort_values(by=['cholesterol', 'sodium'], ascending=[False, True])"
   ]
  },
  {
   "cell_type": "code",
   "execution_count": null,
   "id": "d1c1a9fd",
   "metadata": {},
   "outputs": [],
   "source": [
    "nutrition.max(axis=1) # row"
   ]
  },
  {
   "cell_type": "code",
   "execution_count": null,
   "id": "0d06c9b8",
   "metadata": {},
   "outputs": [],
   "source": [
    "nutrition.min(axis=0) # column"
   ]
  },
  {
   "cell_type": "code",
   "execution_count": null,
   "id": "10f2b829",
   "metadata": {},
   "outputs": [],
   "source": [
    "data_url = \"https://andybek.com/pandas-soccer\""
   ]
  },
  {
   "cell_type": "code",
   "execution_count": null,
   "id": "07743ee7",
   "metadata": {},
   "outputs": [],
   "source": [
    "players = pd.read_csv(data_url)"
   ]
  },
  {
   "cell_type": "code",
   "execution_count": null,
   "id": "b266e83b",
   "metadata": {},
   "outputs": [],
   "source": [
    "players.info(verbose = False, memory_usage='deep') "
   ]
  },
  {
   "cell_type": "code",
   "execution_count": null,
   "id": "5dcba1ce",
   "metadata": {},
   "outputs": [],
   "source": [
    "players.head()"
   ]
  },
  {
   "cell_type": "code",
   "execution_count": null,
   "id": "71de2e9d",
   "metadata": {},
   "outputs": [],
   "source": [
    "players.dtypes.value_counts()"
   ]
  },
  {
   "cell_type": "code",
   "execution_count": null,
   "id": "59669cda",
   "metadata": {},
   "outputs": [],
   "source": [
    "players.market_value > 40"
   ]
  },
  {
   "cell_type": "code",
   "execution_count": null,
   "id": "20461719",
   "metadata": {},
   "outputs": [],
   "source": [
    "players[players.market_value > 40]"
   ]
  },
  {
   "cell_type": "code",
   "execution_count": null,
   "id": "9e4d730b",
   "metadata": {},
   "outputs": [],
   "source": [
    "players[players.market_value > 40].shape"
   ]
  },
  {
   "cell_type": "code",
   "execution_count": null,
   "id": "455fab70",
   "metadata": {},
   "outputs": [],
   "source": [
    "players.shape"
   ]
  },
  {
   "cell_type": "code",
   "execution_count": null,
   "id": "e0027173",
   "metadata": {},
   "outputs": [],
   "source": [
    "players.position.unique()"
   ]
  },
  {
   "cell_type": "code",
   "execution_count": null,
   "id": "61122548",
   "metadata": {},
   "outputs": [],
   "source": [
    "players.position.unique().size"
   ]
  },
  {
   "cell_type": "code",
   "execution_count": null,
   "id": "67314d79",
   "metadata": {},
   "outputs": [],
   "source": [
    "players.position.isin(['LB', 'CB', 'RB'])"
   ]
  },
  {
   "cell_type": "code",
   "execution_count": null,
   "id": "0d67558d",
   "metadata": {},
   "outputs": [],
   "source": [
    "players.loc[players.position.isin(['LB', 'CB', 'RB'])]"
   ]
  },
  {
   "cell_type": "code",
   "execution_count": null,
   "id": "cb5d912f",
   "metadata": {},
   "outputs": [],
   "source": [
    "players[players.market_value.between(40,50)]"
   ]
  },
  {
   "cell_type": "code",
   "execution_count": null,
   "id": "6caa38e5",
   "metadata": {},
   "outputs": [],
   "source": [
    "players.age <= 25"
   ]
  },
  {
   "cell_type": "code",
   "execution_count": null,
   "id": "1f24f959",
   "metadata": {},
   "outputs": [],
   "source": [
    "players.loc[players.age <= 25]"
   ]
  },
  {
   "cell_type": "code",
   "execution_count": null,
   "id": "f56a9522",
   "metadata": {},
   "outputs": [],
   "source": [
    "players[\n",
    "    (players.position == 'LB') & (players.age <= 25)\n",
    "]"
   ]
  },
  {
   "cell_type": "code",
   "execution_count": null,
   "id": "c772c421",
   "metadata": {},
   "outputs": [],
   "source": [
    "players[\n",
    "    (players.position == 'LB') & (players.age <= 25) & (players.market_value >= 10)\n",
    "]"
   ]
  },
  {
   "cell_type": "code",
   "execution_count": null,
   "id": "ecde472a",
   "metadata": {},
   "outputs": [],
   "source": [
    "players[\n",
    "    (players.position == 'LB') & (players.age <= 25) & (players.market_value >= 10) & ~(players.club.isin(['Tottenham', 'Arsenal']))\n",
    "]"
   ]
  },
  {
   "cell_type": "code",
   "execution_count": null,
   "id": "0c3a5c15",
   "metadata": {},
   "outputs": [],
   "source": [
    "chelsea_23under = (players.club == 'Chelsea') & (players.age.le(23))\n",
    "chelsea_23under "
   ]
  },
  {
   "cell_type": "code",
   "execution_count": null,
   "id": "892ae6da",
   "metadata": {},
   "outputs": [],
   "source": [
    "players.loc[chelsea_23under, ['position', 'market_value']]"
   ]
  },
  {
   "cell_type": "code",
   "execution_count": null,
   "id": "fa92dfe7",
   "metadata": {},
   "outputs": [],
   "source": [
    "p_cols = players.columns.str.startswith('p')\n",
    "p_cols"
   ]
  },
  {
   "cell_type": "code",
   "execution_count": null,
   "id": "ce942fd2",
   "metadata": {},
   "outputs": [],
   "source": [
    "players.loc[chelsea_23under, p_cols]"
   ]
  },
  {
   "cell_type": "code",
   "execution_count": null,
   "id": "8a2efdc7",
   "metadata": {},
   "outputs": [],
   "source": [
    "players[chelsea_23under]['position']"
   ]
  },
  {
   "cell_type": "code",
   "execution_count": null,
   "id": "1a1f21d9",
   "metadata": {},
   "outputs": [],
   "source": [
    "players.loc[chelsea_23under, 'position']"
   ]
  },
  {
   "cell_type": "code",
   "execution_count": null,
   "id": "45659646",
   "metadata": {},
   "outputs": [],
   "source": [
    "players.loc[[0,132],('name','market_value')]"
   ]
  },
  {
   "cell_type": "code",
   "execution_count": null,
   "id": "0cc17040",
   "metadata": {},
   "outputs": [],
   "source": [
    "players.duplicated()"
   ]
  },
  {
   "cell_type": "code",
   "execution_count": null,
   "id": "6d5c5b11",
   "metadata": {},
   "outputs": [],
   "source": [
    "players[players.duplicated()]"
   ]
  },
  {
   "cell_type": "code",
   "execution_count": null,
   "id": "34e52e72",
   "metadata": {},
   "outputs": [],
   "source": [
    "players.loc[players.duplicated(subset=['club', 'age', 'position', 'market_value'])]"
   ]
  },
  {
   "cell_type": "code",
   "execution_count": null,
   "id": "5125c606",
   "metadata": {},
   "outputs": [],
   "source": [
    "players.loc[players.duplicated(subset=['club', 'age', 'position', 'market_value'])].shape"
   ]
  },
  {
   "cell_type": "code",
   "execution_count": null,
   "id": "51b18477",
   "metadata": {},
   "outputs": [],
   "source": [
    "players.loc[players.duplicated(subset=['club', 'age', 'position', 'market_value'],keep = 'last')]"
   ]
  },
  {
   "cell_type": "code",
   "execution_count": null,
   "id": "c9e72bad",
   "metadata": {},
   "outputs": [],
   "source": [
    "players.loc[players.duplicated(subset=['club', 'age', 'position', 'market_value'], keep = False)]"
   ]
  },
  {
   "cell_type": "code",
   "execution_count": null,
   "id": "57594980",
   "metadata": {},
   "outputs": [],
   "source": [
    "players.drop_duplicates(keep = 'first')"
   ]
  },
  {
   "cell_type": "code",
   "execution_count": null,
   "id": "e95c73f9",
   "metadata": {},
   "outputs": [],
   "source": [
    "players.drop(labels = 19, axis = 0)"
   ]
  },
  {
   "cell_type": "code",
   "execution_count": null,
   "id": "17e33b58",
   "metadata": {},
   "outputs": [],
   "source": [
    "players.drop(index = 19)"
   ]
  },
  {
   "cell_type": "code",
   "execution_count": null,
   "id": "d63c8b06",
   "metadata": {},
   "outputs": [],
   "source": [
    "players.drop(index = [19, 20, 21, 231, 10])"
   ]
  },
  {
   "cell_type": "code",
   "execution_count": null,
   "id": "1fefac84",
   "metadata": {},
   "outputs": [],
   "source": [
    "players.drop(labels = ['age', 'market_value'], axis = 'columns')"
   ]
  },
  {
   "cell_type": "code",
   "execution_count": null,
   "id": "e4be80d2",
   "metadata": {},
   "outputs": [],
   "source": [
    "players.drop(columns = ['age', 'market_value', 'name'])"
   ]
  },
  {
   "cell_type": "code",
   "execution_count": null,
   "id": "226fd2ab",
   "metadata": {},
   "outputs": [],
   "source": [
    "players.fillna({\n",
    "    'market_value': 100,\n",
    "    'position': 'RM'\n",
    "}).loc[[30,192,195]]"
   ]
  },
  {
   "cell_type": "code",
   "execution_count": null,
   "id": "ed6ded6f",
   "metadata": {},
   "outputs": [],
   "source": [
    "players.fillna({\n",
    "    'market_value': players.market_value.mean(),\n",
    "    'position': 'RM'\n",
    "}).loc[[30,192,195]]"
   ]
  },
  {
   "cell_type": "code",
   "execution_count": null,
   "id": "ea43a4fb",
   "metadata": {},
   "outputs": [],
   "source": [
    "players[[\"age\", \"position_cat\"]].agg('mean')"
   ]
  },
  {
   "cell_type": "code",
   "execution_count": null,
   "id": "c38d11da",
   "metadata": {},
   "outputs": [],
   "source": [
    "players.new_signing.mean()"
   ]
  },
  {
   "cell_type": "code",
   "execution_count": null,
   "id": "1bdc817d",
   "metadata": {},
   "outputs": [],
   "source": [
    "players.select_dtypes(np.number).agg(np.min)"
   ]
  },
  {
   "cell_type": "code",
   "execution_count": null,
   "id": "c3c8c9f7",
   "metadata": {},
   "outputs": [],
   "source": [
    "players.select_dtypes(np.number).agg(['min', 'max', 'mean'])"
   ]
  },
  {
   "cell_type": "code",
   "execution_count": null,
   "id": "8efea14a",
   "metadata": {},
   "outputs": [],
   "source": [
    "players.loc[:, ['market_value', 'fpl_value']].transform(lambda x:x * 0.91)"
   ]
  },
  {
   "cell_type": "code",
   "execution_count": null,
   "id": "a5a1d160",
   "metadata": {},
   "outputs": [],
   "source": [
    "players.loc[:, ['market_value', 'fpl_value']] * 0.91"
   ]
  },
  {
   "cell_type": "code",
   "execution_count": null,
   "id": "444ec051",
   "metadata": {},
   "outputs": [],
   "source": [
    "def round_floats(x):\n",
    "    if x.dtype == np.float64:\n",
    "        return round(x)\n",
    "    return x\n",
    "\n",
    "players.apply(round_floats)"
   ]
  },
  {
   "cell_type": "code",
   "execution_count": null,
   "id": "c29dbf20",
   "metadata": {},
   "outputs": [],
   "source": [
    "players.apply(round_floats).head()"
   ]
  },
  {
   "cell_type": "code",
   "execution_count": null,
   "id": "f4337e2e",
   "metadata": {},
   "outputs": [],
   "source": [
    "players.apply(round_floats).apply(round_floats).head()"
   ]
  },
  {
   "cell_type": "markdown",
   "id": "fa7fa185",
   "metadata": {},
   "source": [
    "---"
   ]
  },
  {
   "cell_type": "markdown",
   "id": "40c760ef",
   "metadata": {},
   "source": [
    "### 5주차 (numpy)"
   ]
  },
  {
   "cell_type": "code",
   "execution_count": 37,
   "id": "fed16523",
   "metadata": {},
   "outputs": [
    {
     "data": {
      "text/plain": [
       "list"
      ]
     },
     "execution_count": 37,
     "metadata": {},
     "output_type": "execute_result"
    }
   ],
   "source": [
    "# lists in python\n",
    "list1 = [\"dance\", 9, 5.3, \"disco\", 8]\n",
    "list1[3]\n",
    "\n",
    "type(list1)"
   ]
  },
  {
   "cell_type": "code",
   "execution_count": 62,
   "id": "f4844d4d",
   "metadata": {},
   "outputs": [
    {
     "data": {
      "text/plain": [
       "numpy.ndarray"
      ]
     },
     "execution_count": 62,
     "metadata": {},
     "output_type": "execute_result"
    }
   ],
   "source": [
    "#numpy lists\n",
    "import numpy as np\n",
    "import pandas as pd\n",
    "a = np.array([9,5,7,6,8])\n",
    "a[1]\n",
    "\n",
    "type(a)"
   ]
  },
  {
   "cell_type": "code",
   "execution_count": 63,
   "id": "55207dd0",
   "metadata": {},
   "outputs": [
    {
     "data": {
      "text/plain": [
       "dtype('int32')"
      ]
     },
     "execution_count": 63,
     "metadata": {},
     "output_type": "execute_result"
    }
   ],
   "source": [
    "a.dtype"
   ]
  },
  {
   "cell_type": "code",
   "execution_count": 64,
   "id": "00a3ef90",
   "metadata": {},
   "outputs": [
    {
     "data": {
      "text/plain": [
       "5"
      ]
     },
     "execution_count": 64,
     "metadata": {},
     "output_type": "execute_result"
    }
   ],
   "source": [
    "a.size"
   ]
  },
  {
   "cell_type": "code",
   "execution_count": 65,
   "id": "106605a7",
   "metadata": {},
   "outputs": [
    {
     "data": {
      "text/plain": [
       "1"
      ]
     },
     "execution_count": 65,
     "metadata": {},
     "output_type": "execute_result"
    }
   ],
   "source": [
    "a.ndim"
   ]
  },
  {
   "cell_type": "code",
   "execution_count": 66,
   "id": "edbd04c7",
   "metadata": {},
   "outputs": [
    {
     "data": {
      "text/plain": [
       "(5,)"
      ]
     },
     "execution_count": 66,
     "metadata": {},
     "output_type": "execute_result"
    }
   ],
   "source": [
    "a.shape"
   ]
  },
  {
   "cell_type": "code",
   "execution_count": 67,
   "id": "7466fd15",
   "metadata": {},
   "outputs": [
    {
     "data": {
      "text/plain": [
       "array([9, 5, 7, 6, 8])"
      ]
     },
     "execution_count": 67,
     "metadata": {},
     "output_type": "execute_result"
    }
   ],
   "source": [
    "a"
   ]
  },
  {
   "cell_type": "code",
   "execution_count": 68,
   "id": "7c50a74e",
   "metadata": {},
   "outputs": [],
   "source": [
    "a[0] = 100"
   ]
  },
  {
   "cell_type": "code",
   "execution_count": 69,
   "id": "9ac29e95",
   "metadata": {},
   "outputs": [
    {
     "data": {
      "text/plain": [
       "array([100,   5,   7,   6,   8])"
      ]
     },
     "execution_count": 69,
     "metadata": {},
     "output_type": "execute_result"
    }
   ],
   "source": [
    "a"
   ]
  },
  {
   "cell_type": "code",
   "execution_count": 70,
   "id": "0e6161d5",
   "metadata": {},
   "outputs": [
    {
     "data": {
      "text/plain": [
       "array([5, 7, 6])"
      ]
     },
     "execution_count": 70,
     "metadata": {},
     "output_type": "execute_result"
    }
   ],
   "source": [
    "c = a[1:4]\n",
    "c"
   ]
  },
  {
   "cell_type": "code",
   "execution_count": 71,
   "id": "218cda6a",
   "metadata": {},
   "outputs": [
    {
     "data": {
      "text/plain": [
       "array([100,   5,   7,   1,   2])"
      ]
     },
     "execution_count": 71,
     "metadata": {},
     "output_type": "execute_result"
    }
   ],
   "source": [
    "a[3:5] = 1,2\n",
    "a"
   ]
  },
  {
   "cell_type": "code",
   "execution_count": 72,
   "id": "8b33b2b5",
   "metadata": {},
   "outputs": [
    {
     "data": {
      "text/plain": [
       "array([1, 2, 3])"
      ]
     },
     "execution_count": 72,
     "metadata": {},
     "output_type": "execute_result"
    }
   ],
   "source": [
    "# 1 dimensional array aka vector\n",
    "a1 = np.array([1,2,3])\n",
    "a1"
   ]
  },
  {
   "cell_type": "code",
   "execution_count": 73,
   "id": "1f7fc0bf",
   "metadata": {},
   "outputs": [
    {
     "data": {
      "text/plain": [
       "array([[1. , 2. , 3.3],\n",
       "       [4. , 5. , 6. ]])"
      ]
     },
     "execution_count": 73,
     "metadata": {},
     "output_type": "execute_result"
    }
   ],
   "source": [
    "# 2 dimensional array aka matrix\n",
    "a2 = np.array([\n",
    "    [1, 2.0, 3.3],\n",
    "    [4, 5, 6]\n",
    "])\n",
    "a2"
   ]
  },
  {
   "cell_type": "code",
   "execution_count": 74,
   "id": "83e44687",
   "metadata": {},
   "outputs": [
    {
     "data": {
      "text/plain": [
       "array([[[ 1,  2,  3],\n",
       "        [ 4,  5,  6],\n",
       "        [ 7,  8,  9]],\n",
       "\n",
       "       [[10, 11, 12],\n",
       "        [13, 14, 15],\n",
       "        [16, 17, 18]]])"
      ]
     },
     "execution_count": 74,
     "metadata": {},
     "output_type": "execute_result"
    }
   ],
   "source": [
    "# 3 dimensional array aka matrix\n",
    "a3 = np.array([[\n",
    "    [1,2,3],\n",
    "    [4,5,6],\n",
    "    [7,8,9]],\n",
    "   [[10,11,12],\n",
    "    [13,14,15],\n",
    "    [16,17,18]\n",
    "]])\n",
    "a3"
   ]
  },
  {
   "cell_type": "code",
   "execution_count": 75,
   "id": "6ced9a28",
   "metadata": {},
   "outputs": [
    {
     "name": "stdout",
     "output_type": "stream",
     "text": [
      "(3,) 1 int32 <class 'numpy.ndarray'>\n",
      "(2, 3) 2 float64 <class 'numpy.ndarray'>\n",
      "(2, 3, 3) 3 int32 <class 'numpy.ndarray'>\n"
     ]
    }
   ],
   "source": [
    "print(a1.shape, a1.ndim, a1.dtype, type(a1))\n",
    "print(a2.shape, a2.ndim, a2.dtype, type(a2))\n",
    "print(a3.shape, a3.ndim, a3.dtype, type(a3))"
   ]
  },
  {
   "cell_type": "code",
   "execution_count": 76,
   "id": "4d0f615f",
   "metadata": {},
   "outputs": [
    {
     "data": {
      "text/plain": [
       "array([[1., 1.],\n",
       "       [1., 1.],\n",
       "       [1., 1.],\n",
       "       [1., 1.],\n",
       "       [1., 1.],\n",
       "       [1., 1.],\n",
       "       [1., 1.],\n",
       "       [1., 1.],\n",
       "       [1., 1.],\n",
       "       [1., 1.]])"
      ]
     },
     "execution_count": 76,
     "metadata": {},
     "output_type": "execute_result"
    }
   ],
   "source": [
    "#create an array of ones\n",
    "ones = np.ones((10,2))\n",
    "ones"
   ]
  },
  {
   "cell_type": "code",
   "execution_count": 77,
   "id": "da31efb0",
   "metadata": {},
   "outputs": [
    {
     "data": {
      "text/plain": [
       "dtype('float64')"
      ]
     },
     "execution_count": 77,
     "metadata": {},
     "output_type": "execute_result"
    }
   ],
   "source": [
    "ones.dtype"
   ]
  },
  {
   "cell_type": "code",
   "execution_count": 78,
   "id": "f62e3c69",
   "metadata": {},
   "outputs": [
    {
     "data": {
      "text/plain": [
       "array([[1, 1],\n",
       "       [1, 1],\n",
       "       [1, 1],\n",
       "       [1, 1],\n",
       "       [1, 1],\n",
       "       [1, 1],\n",
       "       [1, 1],\n",
       "       [1, 1],\n",
       "       [1, 1],\n",
       "       [1, 1]])"
      ]
     },
     "execution_count": 78,
     "metadata": {},
     "output_type": "execute_result"
    }
   ],
   "source": [
    "ones.astype(int)"
   ]
  },
  {
   "cell_type": "code",
   "execution_count": 79,
   "id": "f07f049e",
   "metadata": {},
   "outputs": [
    {
     "data": {
      "text/plain": [
       "dtype('float64')"
      ]
     },
     "execution_count": 79,
     "metadata": {},
     "output_type": "execute_result"
    }
   ],
   "source": [
    "zeros = np.zeros((5,3,3))\n",
    "zeros\n",
    "zeros.dtype"
   ]
  },
  {
   "cell_type": "code",
   "execution_count": 80,
   "id": "fb54ffc0",
   "metadata": {},
   "outputs": [
    {
     "data": {
      "text/plain": [
       "array([[0.5488135 , 0.71518937, 0.60276338],\n",
       "       [0.54488318, 0.4236548 , 0.64589411],\n",
       "       [0.43758721, 0.891773  , 0.96366276],\n",
       "       [0.38344152, 0.79172504, 0.52889492],\n",
       "       [0.56804456, 0.92559664, 0.07103606]])"
      ]
     },
     "execution_count": 80,
     "metadata": {},
     "output_type": "execute_result"
    }
   ],
   "source": [
    "np.random.random((5,3))"
   ]
  },
  {
   "cell_type": "code",
   "execution_count": 81,
   "id": "15733e54",
   "metadata": {},
   "outputs": [
    {
     "data": {
      "text/plain": [
       "array([0.0871293 , 0.0202184 , 0.83261985, 0.77815675, 0.87001215])"
      ]
     },
     "execution_count": 81,
     "metadata": {},
     "output_type": "execute_result"
    }
   ],
   "source": [
    "np.random.random(5)"
   ]
  },
  {
   "cell_type": "code",
   "execution_count": 82,
   "id": "2e2741bf",
   "metadata": {},
   "outputs": [
    {
     "data": {
      "text/plain": [
       "array([[2, 3, 8],\n",
       "       [1, 3, 3],\n",
       "       [3, 7, 0],\n",
       "       [1, 9, 9],\n",
       "       [0, 4, 7]])"
      ]
     },
     "execution_count": 82,
     "metadata": {},
     "output_type": "execute_result"
    }
   ],
   "source": [
    "np.random.randint(10, size=(5,3))"
   ]
  },
  {
   "cell_type": "code",
   "execution_count": 83,
   "id": "acc81f4b",
   "metadata": {},
   "outputs": [
    {
     "name": "stdout",
     "output_type": "stream",
     "text": [
      "None\n"
     ]
    }
   ],
   "source": [
    "print(np.random.seed(0))"
   ]
  },
  {
   "cell_type": "code",
   "execution_count": 84,
   "id": "def0281a",
   "metadata": {},
   "outputs": [
    {
     "data": {
      "text/html": [
       "<div>\n",
       "<style scoped>\n",
       "    .dataframe tbody tr th:only-of-type {\n",
       "        vertical-align: middle;\n",
       "    }\n",
       "\n",
       "    .dataframe tbody tr th {\n",
       "        vertical-align: top;\n",
       "    }\n",
       "\n",
       "    .dataframe thead th {\n",
       "        text-align: right;\n",
       "    }\n",
       "</style>\n",
       "<table border=\"1\" class=\"dataframe\">\n",
       "  <thead>\n",
       "    <tr style=\"text-align: right;\">\n",
       "      <th></th>\n",
       "      <th>0</th>\n",
       "      <th>1</th>\n",
       "      <th>2</th>\n",
       "    </tr>\n",
       "  </thead>\n",
       "  <tbody>\n",
       "    <tr>\n",
       "      <th>0</th>\n",
       "      <td>5</td>\n",
       "      <td>0</td>\n",
       "      <td>3</td>\n",
       "    </tr>\n",
       "    <tr>\n",
       "      <th>1</th>\n",
       "      <td>3</td>\n",
       "      <td>7</td>\n",
       "      <td>9</td>\n",
       "    </tr>\n",
       "    <tr>\n",
       "      <th>2</th>\n",
       "      <td>3</td>\n",
       "      <td>5</td>\n",
       "      <td>2</td>\n",
       "    </tr>\n",
       "    <tr>\n",
       "      <th>3</th>\n",
       "      <td>4</td>\n",
       "      <td>7</td>\n",
       "      <td>6</td>\n",
       "    </tr>\n",
       "    <tr>\n",
       "      <th>4</th>\n",
       "      <td>8</td>\n",
       "      <td>8</td>\n",
       "      <td>1</td>\n",
       "    </tr>\n",
       "  </tbody>\n",
       "</table>\n",
       "</div>"
      ],
      "text/plain": [
       "   0  1  2\n",
       "0  5  0  3\n",
       "1  3  7  9\n",
       "2  3  5  2\n",
       "3  4  7  6\n",
       "4  8  8  1"
      ]
     },
     "execution_count": 84,
     "metadata": {},
     "output_type": "execute_result"
    }
   ],
   "source": [
    "df = pd.DataFrame(np.random.randint(10, size=(5,3)))\n",
    "df"
   ]
  },
  {
   "cell_type": "code",
   "execution_count": 85,
   "id": "c4a23e69",
   "metadata": {},
   "outputs": [
    {
     "data": {
      "text/plain": [
       "array([9, 5, 7, 6, 8])"
      ]
     },
     "execution_count": 85,
     "metadata": {},
     "output_type": "execute_result"
    }
   ],
   "source": [
    "a = np.array([9,5,7,6,8])\n",
    "a"
   ]
  },
  {
   "cell_type": "code",
   "execution_count": 86,
   "id": "25205c71",
   "metadata": {},
   "outputs": [
    {
     "data": {
      "text/plain": [
       "array([1, 1, 1, 1, 1])"
      ]
     },
     "execution_count": 86,
     "metadata": {},
     "output_type": "execute_result"
    }
   ],
   "source": [
    "b = np.array([1,1,1,1,1])\n",
    "b"
   ]
  },
  {
   "cell_type": "code",
   "execution_count": 87,
   "id": "c01f48c9",
   "metadata": {},
   "outputs": [
    {
     "data": {
      "text/plain": [
       "array([10,  6,  8,  7,  9])"
      ]
     },
     "execution_count": 87,
     "metadata": {},
     "output_type": "execute_result"
    }
   ],
   "source": [
    "c=a+b\n",
    "c"
   ]
  },
  {
   "cell_type": "code",
   "execution_count": 88,
   "id": "acd68c70",
   "metadata": {},
   "outputs": [
    {
     "data": {
      "text/plain": [
       "array([8, 4, 6, 5, 7])"
      ]
     },
     "execution_count": 88,
     "metadata": {},
     "output_type": "execute_result"
    }
   ],
   "source": [
    "d = a - b\n",
    "d"
   ]
  },
  {
   "cell_type": "code",
   "execution_count": 89,
   "id": "313f42e1",
   "metadata": {},
   "outputs": [
    {
     "data": {
      "text/plain": [
       "array([18, 10, 14, 12, 16])"
      ]
     },
     "execution_count": 89,
     "metadata": {},
     "output_type": "execute_result"
    }
   ],
   "source": [
    "e = 2*a\n",
    "e"
   ]
  },
  {
   "cell_type": "code",
   "execution_count": 90,
   "id": "0cbfb6a6",
   "metadata": {},
   "outputs": [
    {
     "data": {
      "text/plain": [
       "array([9, 5, 7, 6, 8])"
      ]
     },
     "execution_count": 90,
     "metadata": {},
     "output_type": "execute_result"
    }
   ],
   "source": [
    "f = a * b\n",
    "f"
   ]
  },
  {
   "cell_type": "code",
   "execution_count": 91,
   "id": "a2f821a7",
   "metadata": {},
   "outputs": [
    {
     "data": {
      "text/plain": [
       "35"
      ]
     },
     "execution_count": 91,
     "metadata": {},
     "output_type": "execute_result"
    }
   ],
   "source": [
    "g = np.dot(a,b)\n",
    "g"
   ]
  },
  {
   "cell_type": "code",
   "execution_count": 92,
   "id": "8f480c99",
   "metadata": {},
   "outputs": [
    {
     "data": {
      "text/plain": [
       "array([10,  6,  8,  7,  9])"
      ]
     },
     "execution_count": 92,
     "metadata": {},
     "output_type": "execute_result"
    }
   ],
   "source": [
    "h = a + 1\n",
    "h"
   ]
  },
  {
   "cell_type": "code",
   "execution_count": 93,
   "id": "16ccc935",
   "metadata": {},
   "outputs": [
    {
     "data": {
      "text/plain": [
       "7.0"
      ]
     },
     "execution_count": 93,
     "metadata": {},
     "output_type": "execute_result"
    }
   ],
   "source": [
    "mean_a = a.mean()\n",
    "mean_a"
   ]
  },
  {
   "cell_type": "code",
   "execution_count": 94,
   "id": "e5f17bac",
   "metadata": {},
   "outputs": [
    {
     "data": {
      "text/plain": [
       "7"
      ]
     },
     "execution_count": 94,
     "metadata": {},
     "output_type": "execute_result"
    }
   ],
   "source": [
    "mean_a.astype(int)"
   ]
  },
  {
   "cell_type": "code",
   "execution_count": 95,
   "id": "479e88bf",
   "metadata": {},
   "outputs": [
    {
     "data": {
      "text/plain": [
       "9"
      ]
     },
     "execution_count": 95,
     "metadata": {},
     "output_type": "execute_result"
    }
   ],
   "source": [
    "max_a = a.max()\n",
    "max_a"
   ]
  },
  {
   "cell_type": "code",
   "execution_count": 96,
   "id": "6335a084",
   "metadata": {},
   "outputs": [
    {
     "data": {
      "text/plain": [
       "3.141592653589793"
      ]
     },
     "execution_count": 96,
     "metadata": {},
     "output_type": "execute_result"
    }
   ],
   "source": [
    "np.pi"
   ]
  },
  {
   "cell_type": "code",
   "execution_count": 97,
   "id": "a819ed28",
   "metadata": {},
   "outputs": [
    {
     "data": {
      "text/plain": [
       "array([0.        , 1.57079633])"
      ]
     },
     "execution_count": 97,
     "metadata": {},
     "output_type": "execute_result"
    }
   ],
   "source": [
    "x = np.array([0, np.pi / 2])\n",
    "x"
   ]
  },
  {
   "cell_type": "code",
   "execution_count": 98,
   "id": "e45c1cfc",
   "metadata": {},
   "outputs": [
    {
     "data": {
      "text/plain": [
       "array([0., 1.])"
      ]
     },
     "execution_count": 98,
     "metadata": {},
     "output_type": "execute_result"
    }
   ],
   "source": [
    "y = np.sin(x)\n",
    "y"
   ]
  },
  {
   "cell_type": "code",
   "execution_count": 101,
   "id": "e718da42",
   "metadata": {},
   "outputs": [
    {
     "data": {
      "text/plain": [
       "array([-2., -1.,  0.,  1.,  2.])"
      ]
     },
     "execution_count": 101,
     "metadata": {},
     "output_type": "execute_result"
    }
   ],
   "source": [
    "z = np.linspace(-2,2,num=5) # 수열 생성\n",
    "z"
   ]
  },
  {
   "cell_type": "code",
   "execution_count": 105,
   "id": "38f71fa0",
   "metadata": {},
   "outputs": [
    {
     "name": "stdout",
     "output_type": "stream",
     "text": [
      "6\n",
      "3.5500000000000003\n",
      "6.0\n",
      "1.0\n",
      "[0.         0.69314718 1.09861229]\n",
      "[ 2.71828183  7.3890561  20.08553692]\n",
      "[1 4 9]\n"
     ]
    }
   ],
   "source": [
    "print(np.sum(a1))\n",
    "print(np.mean(a2))\n",
    "print(np.max(a2))\n",
    "print(np.min(a2))\n",
    "print(np.log(a1))\n",
    "print(np.exp(a1))\n",
    "print(np.square(a1))"
   ]
  },
  {
   "cell_type": "code",
   "execution_count": 106,
   "id": "d39549ff",
   "metadata": {},
   "outputs": [],
   "source": [
    "high_var_array = np.array([1,100,200,300,4000,5000])\n",
    "low_var_array = np.array([2,4,6,8,10])"
   ]
  },
  {
   "cell_type": "code",
   "execution_count": 107,
   "id": "eb71bb25",
   "metadata": {},
   "outputs": [
    {
     "data": {
      "text/plain": [
       "(4296133.472222221, 8.0)"
      ]
     },
     "execution_count": 107,
     "metadata": {},
     "output_type": "execute_result"
    }
   ],
   "source": [
    "np.var(high_var_array), np.var(low_var_array) # variance"
   ]
  },
  {
   "cell_type": "code",
   "execution_count": 108,
   "id": "5410ca28",
   "metadata": {},
   "outputs": [
    {
     "data": {
      "text/plain": [
       "(2072.711623024829, 2.8284271247461903)"
      ]
     },
     "execution_count": 108,
     "metadata": {},
     "output_type": "execute_result"
    }
   ],
   "source": [
    "np.std(high_var_array), np.std(low_var_array) # standard deviation"
   ]
  },
  {
   "cell_type": "code",
   "execution_count": 109,
   "id": "c667f9b0",
   "metadata": {},
   "outputs": [
    {
     "data": {
      "text/plain": [
       "2072.711623024829"
      ]
     },
     "execution_count": 109,
     "metadata": {},
     "output_type": "execute_result"
    }
   ],
   "source": [
    "np.sqrt(np.var(high_var_array))"
   ]
  },
  {
   "cell_type": "code",
   "execution_count": 112,
   "id": "dce4a9dc",
   "metadata": {},
   "outputs": [
    {
     "data": {
      "text/plain": [
       "array([[False, False, False],\n",
       "       [False, False, False]])"
      ]
     },
     "execution_count": 112,
     "metadata": {},
     "output_type": "execute_result"
    }
   ],
   "source": [
    "a1 > a2"
   ]
  },
  {
   "cell_type": "code",
   "execution_count": 125,
   "id": "4aa1ab85",
   "metadata": {},
   "outputs": [
    {
     "data": {
      "text/plain": [
       "array([ True,  True, False])"
      ]
     },
     "execution_count": 125,
     "metadata": {},
     "output_type": "execute_result"
    }
   ],
   "source": [
    "a1 >= a2[0, :]"
   ]
  },
  {
   "cell_type": "code",
   "execution_count": 115,
   "id": "16b6393f",
   "metadata": {},
   "outputs": [
    {
     "data": {
      "text/plain": [
       "array([False, False, False])"
      ]
     },
     "execution_count": 115,
     "metadata": {},
     "output_type": "execute_result"
    }
   ],
   "source": [
    "a1 > 5"
   ]
  },
  {
   "cell_type": "code",
   "execution_count": 116,
   "id": "18c32906",
   "metadata": {},
   "outputs": [
    {
     "data": {
      "text/plain": [
       "array([ True,  True,  True])"
      ]
     },
     "execution_count": 116,
     "metadata": {},
     "output_type": "execute_result"
    }
   ],
   "source": [
    "a1 == a1"
   ]
  },
  {
   "cell_type": "code",
   "execution_count": 117,
   "id": "72409d18",
   "metadata": {},
   "outputs": [
    {
     "data": {
      "text/plain": [
       "array([[ True,  True, False],\n",
       "       [False, False, False]])"
      ]
     },
     "execution_count": 117,
     "metadata": {},
     "output_type": "execute_result"
    }
   ],
   "source": [
    "a1 == a2 # Propagation"
   ]
  },
  {
   "cell_type": "code",
   "execution_count": 118,
   "id": "56e9d33e",
   "metadata": {},
   "outputs": [
    {
     "data": {
      "text/plain": [
       "array([0, 1, 2], dtype=int64)"
      ]
     },
     "execution_count": 118,
     "metadata": {},
     "output_type": "execute_result"
    }
   ],
   "source": [
    "np.argsort(a1) # Argument"
   ]
  },
  {
   "cell_type": "code",
   "execution_count": 120,
   "id": "5a12ae48",
   "metadata": {},
   "outputs": [
    {
     "data": {
      "text/plain": [
       "0"
      ]
     },
     "execution_count": 120,
     "metadata": {},
     "output_type": "execute_result"
    }
   ],
   "source": [
    "np.argmin(a1)"
   ]
  },
  {
   "cell_type": "code",
   "execution_count": 124,
   "id": "4d954311",
   "metadata": {},
   "outputs": [
    {
     "data": {
      "text/plain": [
       "array([0, 0, 0], dtype=int64)"
      ]
     },
     "execution_count": 124,
     "metadata": {},
     "output_type": "execute_result"
    }
   ],
   "source": [
    "np.argmin(a2, axis=0)"
   ]
  },
  {
   "cell_type": "code",
   "execution_count": 128,
   "id": "2c0bfbce",
   "metadata": {},
   "outputs": [
    {
     "data": {
      "text/plain": [
       "array([[1, 1, 1, 1],\n",
       "       [2, 2, 2, 2],\n",
       "       [3, 3, 3, 3]])"
      ]
     },
     "execution_count": 128,
     "metadata": {},
     "output_type": "execute_result"
    }
   ],
   "source": [
    "a = [[1,1,1,1,],[2,2,2,2],[3,3,3,3]]\n",
    "A = np.array(a)\n",
    "A"
   ]
  },
  {
   "cell_type": "code",
   "execution_count": 129,
   "id": "aae059bd",
   "metadata": {},
   "outputs": [
    {
     "data": {
      "text/plain": [
       "2"
      ]
     },
     "execution_count": 129,
     "metadata": {},
     "output_type": "execute_result"
    }
   ],
   "source": [
    "A.ndim # dimension"
   ]
  },
  {
   "cell_type": "code",
   "execution_count": 131,
   "id": "1a44a71e",
   "metadata": {},
   "outputs": [
    {
     "data": {
      "text/plain": [
       "(3, 4)"
      ]
     },
     "execution_count": 131,
     "metadata": {},
     "output_type": "execute_result"
    }
   ],
   "source": [
    "A.shape # (row, column)"
   ]
  },
  {
   "cell_type": "code",
   "execution_count": 133,
   "id": "216ef9ee",
   "metadata": {},
   "outputs": [
    {
     "data": {
      "text/plain": [
       "12"
      ]
     },
     "execution_count": 133,
     "metadata": {},
     "output_type": "execute_result"
    }
   ],
   "source": [
    "A.size # 3*4"
   ]
  },
  {
   "cell_type": "code",
   "execution_count": 135,
   "id": "9ca9455f",
   "metadata": {},
   "outputs": [
    {
     "data": {
      "text/plain": [
       "1"
      ]
     },
     "execution_count": 135,
     "metadata": {},
     "output_type": "execute_result"
    }
   ],
   "source": [
    "A[0][1]"
   ]
  },
  {
   "cell_type": "code",
   "execution_count": 136,
   "id": "5e1e1c7f",
   "metadata": {},
   "outputs": [
    {
     "data": {
      "text/plain": [
       "3"
      ]
     },
     "execution_count": 136,
     "metadata": {},
     "output_type": "execute_result"
    }
   ],
   "source": [
    "A[2][3]"
   ]
  },
  {
   "cell_type": "code",
   "execution_count": 137,
   "id": "49b714cc",
   "metadata": {},
   "outputs": [
    {
     "data": {
      "text/plain": [
       "array([1, 2])"
      ]
     },
     "execution_count": 137,
     "metadata": {},
     "output_type": "execute_result"
    }
   ],
   "source": [
    "A[0:2, 2]"
   ]
  },
  {
   "cell_type": "code",
   "execution_count": 138,
   "id": "6c2dbf52",
   "metadata": {},
   "outputs": [
    {
     "data": {
      "text/plain": [
       "array([[1, 1],\n",
       "       [2, 2]])"
      ]
     },
     "execution_count": 138,
     "metadata": {},
     "output_type": "execute_result"
    }
   ],
   "source": [
    "A[0:2, 0:2]"
   ]
  },
  {
   "cell_type": "code",
   "execution_count": 139,
   "id": "944e872c",
   "metadata": {},
   "outputs": [
    {
     "data": {
      "text/plain": [
       "array([[1, 1],\n",
       "       [2, 2]])"
      ]
     },
     "execution_count": 139,
     "metadata": {},
     "output_type": "execute_result"
    }
   ],
   "source": [
    "a = [[1,1],[2,2]]\n",
    "A = np.array(a)\n",
    "A"
   ]
  },
  {
   "cell_type": "code",
   "execution_count": 140,
   "id": "5786be1a",
   "metadata": {},
   "outputs": [
    {
     "data": {
      "text/plain": [
       "array([[3, 3],\n",
       "       [4, 4]])"
      ]
     },
     "execution_count": 140,
     "metadata": {},
     "output_type": "execute_result"
    }
   ],
   "source": [
    "b = [[3,3],[4,4]]\n",
    "B = np.array(b)\n",
    "B"
   ]
  },
  {
   "cell_type": "code",
   "execution_count": 142,
   "id": "56b0b95b",
   "metadata": {},
   "outputs": [
    {
     "data": {
      "text/plain": [
       "array([[4, 4],\n",
       "       [6, 6]])"
      ]
     },
     "execution_count": 142,
     "metadata": {},
     "output_type": "execute_result"
    }
   ],
   "source": [
    "C = A + B\n",
    "C"
   ]
  },
  {
   "cell_type": "code",
   "execution_count": 143,
   "id": "2e69ac65",
   "metadata": {},
   "outputs": [
    {
     "data": {
      "text/plain": [
       "array([[-2, -2],\n",
       "       [-2, -2]])"
      ]
     },
     "execution_count": 143,
     "metadata": {},
     "output_type": "execute_result"
    }
   ],
   "source": [
    "D = A - B\n",
    "D"
   ]
  },
  {
   "cell_type": "code",
   "execution_count": 144,
   "id": "0a6eacd7",
   "metadata": {},
   "outputs": [
    {
     "data": {
      "text/plain": [
       "array([[2, 2],\n",
       "       [4, 4]])"
      ]
     },
     "execution_count": 144,
     "metadata": {},
     "output_type": "execute_result"
    }
   ],
   "source": [
    "E = 2 * A\n",
    "E"
   ]
  },
  {
   "cell_type": "code",
   "execution_count": 145,
   "id": "d98932f4",
   "metadata": {},
   "outputs": [
    {
     "data": {
      "text/plain": [
       "array([[3, 3],\n",
       "       [8, 8]])"
      ]
     },
     "execution_count": 145,
     "metadata": {},
     "output_type": "execute_result"
    }
   ],
   "source": [
    "F = A * B\n",
    "F"
   ]
  },
  {
   "cell_type": "code",
   "execution_count": 146,
   "id": "db47d085",
   "metadata": {},
   "outputs": [
    {
     "data": {
      "text/plain": [
       "array([[ 7,  7],\n",
       "       [14, 14]])"
      ]
     },
     "execution_count": 146,
     "metadata": {},
     "output_type": "execute_result"
    }
   ],
   "source": [
    "G = np.dot(A, B) # matrix multiplications\n",
    "G"
   ]
  },
  {
   "cell_type": "code",
   "execution_count": 152,
   "id": "ea04635a",
   "metadata": {},
   "outputs": [
    {
     "data": {
      "text/plain": [
       "array([[1. , 2. , 3.3],\n",
       "       [4. , 5. , 6. ]])"
      ]
     },
     "execution_count": 152,
     "metadata": {},
     "output_type": "execute_result"
    }
   ],
   "source": [
    "a2"
   ]
  },
  {
   "cell_type": "code",
   "execution_count": 148,
   "id": "b280b6a1",
   "metadata": {},
   "outputs": [
    {
     "data": {
      "text/plain": [
       "array([[[1. ],\n",
       "        [2. ],\n",
       "        [3.3]],\n",
       "\n",
       "       [[4. ],\n",
       "        [5. ],\n",
       "        [6. ]]])"
      ]
     },
     "execution_count": 148,
     "metadata": {},
     "output_type": "execute_result"
    }
   ],
   "source": [
    "a2.reshape(2,3,1)"
   ]
  },
  {
   "cell_type": "code",
   "execution_count": 149,
   "id": "f3e2687b",
   "metadata": {},
   "outputs": [
    {
     "data": {
      "text/plain": [
       "array([[1. , 4. ],\n",
       "       [2. , 5. ],\n",
       "       [3.3, 6. ]])"
      ]
     },
     "execution_count": 149,
     "metadata": {},
     "output_type": "execute_result"
    }
   ],
   "source": [
    "a2.T # transpose"
   ]
  },
  {
   "cell_type": "code",
   "execution_count": 150,
   "id": "41b41cd5",
   "metadata": {},
   "outputs": [
    {
     "data": {
      "text/plain": [
       "(3, 2)"
      ]
     },
     "execution_count": 150,
     "metadata": {},
     "output_type": "execute_result"
    }
   ],
   "source": [
    "a2.T.shape"
   ]
  },
  {
   "cell_type": "code",
   "execution_count": 151,
   "id": "c26c0322",
   "metadata": {},
   "outputs": [
    {
     "data": {
      "text/plain": [
       "array([[[0.79172504, 0.52889492, 0.56804456],\n",
       "        [0.92559664, 0.07103606, 0.0871293 ],\n",
       "        [0.0202184 , 0.83261985, 0.77815675]],\n",
       "\n",
       "       [[0.87001215, 0.97861834, 0.79915856],\n",
       "        [0.46147936, 0.78052918, 0.11827443],\n",
       "        [0.63992102, 0.14335329, 0.94466892]],\n",
       "\n",
       "       [[0.52184832, 0.41466194, 0.26455561],\n",
       "        [0.77423369, 0.45615033, 0.56843395],\n",
       "        [0.0187898 , 0.6176355 , 0.61209572]],\n",
       "\n",
       "       [[0.616934  , 0.94374808, 0.6818203 ],\n",
       "        [0.3595079 , 0.43703195, 0.6976312 ],\n",
       "        [0.06022547, 0.66676672, 0.67063787]],\n",
       "\n",
       "       [[0.21038256, 0.1289263 , 0.31542835],\n",
       "        [0.36371077, 0.57019677, 0.43860151],\n",
       "        [0.98837384, 0.10204481, 0.20887676]]])"
      ]
     },
     "execution_count": 151,
     "metadata": {},
     "output_type": "execute_result"
    }
   ],
   "source": [
    "matrix = np.random.random(size=(5,3,3))\n",
    "matrix"
   ]
  },
  {
   "cell_type": "code",
   "execution_count": 153,
   "id": "ba4722e5",
   "metadata": {},
   "outputs": [
    {
     "data": {
      "text/plain": [
       "(5, 3, 3)"
      ]
     },
     "execution_count": 153,
     "metadata": {},
     "output_type": "execute_result"
    }
   ],
   "source": [
    "matrix.shape"
   ]
  },
  {
   "cell_type": "code",
   "execution_count": 154,
   "id": "20afec88",
   "metadata": {},
   "outputs": [
    {
     "data": {
      "text/plain": [
       "array([[[0.79172504, 0.87001215, 0.52184832, 0.616934  , 0.21038256],\n",
       "        [0.92559664, 0.46147936, 0.77423369, 0.3595079 , 0.36371077],\n",
       "        [0.0202184 , 0.63992102, 0.0187898 , 0.06022547, 0.98837384]],\n",
       "\n",
       "       [[0.52889492, 0.97861834, 0.41466194, 0.94374808, 0.1289263 ],\n",
       "        [0.07103606, 0.78052918, 0.45615033, 0.43703195, 0.57019677],\n",
       "        [0.83261985, 0.14335329, 0.6176355 , 0.66676672, 0.10204481]],\n",
       "\n",
       "       [[0.56804456, 0.79915856, 0.26455561, 0.6818203 , 0.31542835],\n",
       "        [0.0871293 , 0.11827443, 0.56843395, 0.6976312 , 0.43860151],\n",
       "        [0.77815675, 0.94466892, 0.61209572, 0.67063787, 0.20887676]]])"
      ]
     },
     "execution_count": 154,
     "metadata": {},
     "output_type": "execute_result"
    }
   ],
   "source": [
    "matrix.T"
   ]
  },
  {
   "cell_type": "code",
   "execution_count": 155,
   "id": "53f74c7b",
   "metadata": {},
   "outputs": [
    {
     "data": {
      "text/plain": [
       "(3, 3, 5)"
      ]
     },
     "execution_count": 155,
     "metadata": {},
     "output_type": "execute_result"
    }
   ],
   "source": [
    "matrix.T.shape"
   ]
  },
  {
   "cell_type": "markdown",
   "id": "1502d041",
   "metadata": {},
   "source": [
    "---"
   ]
  },
  {
   "cell_type": "markdown",
   "id": "d192435d",
   "metadata": {},
   "source": [
    "### 6주차 (Regular Expressions)"
   ]
  },
  {
   "cell_type": "code",
   "execution_count": 156,
   "id": "08c2471b",
   "metadata": {},
   "outputs": [
    {
     "data": {
      "text/plain": [
       "'\\nand del from None True as elif global nonlocal \\ntry assert else if not while break except import \\nor with class False in pass yield continue finally \\nis raise async def for lambda return await\\n\\npattern이 있는 정보를 뽑아내는 걸 = regular expression\\n\\ntensorflow\\n'"
      ]
     },
     "execution_count": 156,
     "metadata": {},
     "output_type": "execute_result"
    }
   ],
   "source": [
    "\"\"\"\n",
    "and del from None True as elif global nonlocal \n",
    "try assert else if not while break except import \n",
    "or with class False in pass yield continue finally \n",
    "is raise async def for lambda return await\n",
    "\n",
    "pattern이 있는 정보를 뽑아내는 걸 = regular expression\n",
    "\n",
    "tensorflow\n",
    "\"\"\"\n",
    "\n",
    "# ^ matches the beginning of a line\n",
    "# $ matches the end of the line\n",
    "# . matches any character\n",
    "# \\s matches whitespace same as [\\t\\n\\r\\f\\v]\n",
    "# \\S matches any non-shitespace character same as [^\\t\\n\\r\\f\\v]\n",
    "# * repeats a character zero or more times\n",
    "# *? repeats a character zero or more times (non-greedy)\n",
    "# + repeats a character one or more times\n",
    "# +? repeats a character one or more times (non-greedy)\n",
    "# {} determines the range of repetition\n",
    "# [aeiou] matches a single character in the listed set\n",
    "# [^XYZ] matches a single character not in the listed set\n",
    "# [a-z0-9] the set of characters can include a range\n",
    "# ( indicates where string extraction is to start\n",
    "# ) indicates where string extraction is to end\n",
    "# \\d integers same as [0-9]\n",
    "# \\D non integers same as [^0-9]\n",
    "# \\w alphabet and integers same as [a-zA-Z0-9_]\n",
    "# \\W non alphabet and integers same as [^a-zA-Z0-9_]\n",
    "# . every letter except for \\n \n",
    "# match()\n",
    "# search()\n",
    "# findall()\n",
    "# finditer()"
   ]
  },
  {
   "cell_type": "code",
   "execution_count": 157,
   "id": "7ebf2cb0",
   "metadata": {},
   "outputs": [],
   "source": [
    "import numpy as np\n",
    "import pandas as pd\n",
    "import re"
   ]
  },
  {
   "cell_type": "code",
   "execution_count": 160,
   "id": "63434519",
   "metadata": {
    "scrolled": true
   },
   "outputs": [
    {
     "name": "stdout",
     "output_type": "stream",
     "text": [
      "From: stephen.marquard@uct.ac.za\n",
      "From: louis@media.berkeley.edu\n",
      "From: zqian@umich.edu\n",
      "From: rjlowe@iupui.edu\n",
      "From: zqian@umich.edu\n",
      "From: rjlowe@iupui.edu\n",
      "From: cwen@iupui.edu\n",
      "From: cwen@iupui.edu\n",
      "From: gsilver@umich.edu\n",
      "From: gsilver@umich.edu\n",
      "From: zqian@umich.edu\n",
      "From: gsilver@umich.edu\n",
      "From: wagnermr@iupui.edu\n",
      "From: zqian@umich.edu\n",
      "From: antranig@caret.cam.ac.uk\n",
      "From: gopal.ramasammycook@gmail.com\n",
      "From: david.horwitz@uct.ac.za\n",
      "From: david.horwitz@uct.ac.za\n",
      "From: david.horwitz@uct.ac.za\n",
      "From: david.horwitz@uct.ac.za\n",
      "From: stephen.marquard@uct.ac.za\n",
      "From: louis@media.berkeley.edu\n",
      "From: louis@media.berkeley.edu\n",
      "From: ray@media.berkeley.edu\n",
      "From: cwen@iupui.edu\n",
      "From: cwen@iupui.edu\n",
      "From: cwen@iupui.edu\n"
     ]
    }
   ],
   "source": [
    "hand = open('mbox-short.txt')\n",
    "for line in hand:\n",
    "    line = line.rstrip()\n",
    "    if re.search('^From:.+@', line):\n",
    "        print(line)\n",
    "\n",
    "# \"From:\" 에서 시작해서 아무 문자나 한번 이상 반복 (.+), @ 사인이 최종적인 것을 서치"
   ]
  },
  {
   "cell_type": "code",
   "execution_count": 159,
   "id": "d7056916",
   "metadata": {
    "scrolled": true
   },
   "outputs": [
    {
     "name": "stdout",
     "output_type": "stream",
     "text": [
      "['stephen.marquard@uct.ac.za']\n",
      "['postmaster@collab.sakaiproject.org']\n",
      "['200801051412.m05ECIaH010327@nakamura.uits.iupui.edu']\n",
      "['source@collab.sakaiproject.org']\n",
      "['source@collab.sakaiproject.org']\n",
      "['source@collab.sakaiproject.org']\n",
      "['apache@localhost']\n",
      "['source@collab.sakaiproject.org']\n",
      "['stephen.marquard@uct.ac.za']\n",
      "['source@collab.sakaiproject.org']\n",
      "['stephen.marquard@uct.ac.za']\n",
      "['stephen.marquard@uct.ac.za']\n",
      "['louis@media.berkeley.edu']\n",
      "['postmaster@collab.sakaiproject.org']\n",
      "['200801042308.m04N8v6O008125@nakamura.uits.iupui.edu']\n",
      "['source@collab.sakaiproject.org']\n",
      "['source@collab.sakaiproject.org']\n",
      "['source@collab.sakaiproject.org']\n",
      "['apache@localhost']\n",
      "['source@collab.sakaiproject.org']\n",
      "['louis@media.berkeley.edu']\n",
      "['source@collab.sakaiproject.org']\n",
      "['louis@media.berkeley.edu']\n",
      "['louis@media.berkeley.edu']\n",
      "['zqian@umich.edu']\n",
      "['postmaster@collab.sakaiproject.org']\n",
      "['200801042109.m04L92hb007923@nakamura.uits.iupui.edu']\n",
      "['source@collab.sakaiproject.org']\n",
      "['source@collab.sakaiproject.org']\n",
      "['source@collab.sakaiproject.org']\n",
      "['apache@localhost']\n",
      "['source@collab.sakaiproject.org']\n",
      "['zqian@umich.edu']\n",
      "['source@collab.sakaiproject.org']\n",
      "['zqian@umich.edu']\n",
      "['zqian@umich.edu']\n",
      "['rjlowe@iupui.edu']\n",
      "['postmaster@collab.sakaiproject.org']\n",
      "['200801042044.m04Kiem3007881@nakamura.uits.iupui.edu']\n",
      "['source@collab.sakaiproject.org']\n",
      "['source@collab.sakaiproject.org']\n",
      "['source@collab.sakaiproject.org']\n",
      "['apache@localhost']\n",
      "['source@collab.sakaiproject.org']\n",
      "['rjlowe@iupui.edu']\n",
      "['source@collab.sakaiproject.org']\n",
      "['rjlowe@iupui.edu']\n",
      "['rjlowe@iupui.edu']\n",
      "['zqian@umich.edu']\n",
      "['postmaster@collab.sakaiproject.org']\n",
      "['200801042001.m04K1cO0007738@nakamura.uits.iupui.edu']\n",
      "['source@collab.sakaiproject.org']\n",
      "['source@collab.sakaiproject.org']\n",
      "['source@collab.sakaiproject.org']\n",
      "['apache@localhost']\n",
      "['source@collab.sakaiproject.org']\n",
      "['zqian@umich.edu']\n",
      "['source@collab.sakaiproject.org']\n",
      "['zqian@umich.edu']\n",
      "['zqian@umich.edu']\n",
      "['zqian@umich.edu']\n",
      "['rjlowe@iupui.edu']\n",
      "['postmaster@collab.sakaiproject.org']\n",
      "['200801041948.m04JmdwO007705@nakamura.uits.iupui.edu']\n",
      "['source@collab.sakaiproject.org']\n",
      "['source@collab.sakaiproject.org']\n",
      "['source@collab.sakaiproject.org']\n",
      "['apache@localhost']\n",
      "['source@collab.sakaiproject.org']\n",
      "['rjlowe@iupui.edu']\n",
      "['source@collab.sakaiproject.org']\n",
      "['rjlowe@iupui.edu']\n",
      "['rjlowe@iupui.edu']\n",
      "['cwen@iupui.edu']\n",
      "['postmaster@collab.sakaiproject.org']\n",
      "['200801041635.m04GZQGZ007313@nakamura.uits.iupui.edu']\n",
      "['source@collab.sakaiproject.org']\n",
      "['source@collab.sakaiproject.org']\n",
      "['source@collab.sakaiproject.org']\n",
      "['apache@localhost']\n",
      "['source@collab.sakaiproject.org']\n",
      "['cwen@iupui.edu']\n",
      "['source@collab.sakaiproject.org']\n",
      "['cwen@iupui.edu']\n",
      "['cwen@iupui.edu']\n",
      "['hu2@iupui.edu']\n",
      "['cwen@iupui.edu']\n",
      "['postmaster@collab.sakaiproject.org']\n",
      "['200801041633.m04GX6eG007292@nakamura.uits.iupui.edu']\n",
      "['source@collab.sakaiproject.org']\n",
      "['source@collab.sakaiproject.org']\n",
      "['source@collab.sakaiproject.org']\n",
      "['apache@localhost']\n",
      "['source@collab.sakaiproject.org']\n",
      "['cwen@iupui.edu']\n",
      "['source@collab.sakaiproject.org']\n",
      "['cwen@iupui.edu']\n",
      "['cwen@iupui.edu']\n",
      "['hu2@iupui.edu']\n",
      "['gsilver@umich.edu']\n",
      "['postmaster@collab.sakaiproject.org']\n",
      "['200801041611.m04GB1Lb007221@nakamura.uits.iupui.edu']\n",
      "['source@collab.sakaiproject.org']\n",
      "['source@collab.sakaiproject.org']\n",
      "['source@collab.sakaiproject.org']\n",
      "['apache@localhost']\n",
      "['source@collab.sakaiproject.org']\n",
      "['gsilver@umich.edu']\n",
      "['source@collab.sakaiproject.org']\n",
      "['gsilver@umich.edu']\n",
      "['gsilver@umich.edu']\n",
      "['gsilver@umich.edu']\n",
      "['postmaster@collab.sakaiproject.org']\n",
      "['200801041610.m04GA5KP007209@nakamura.uits.iupui.edu']\n",
      "['source@collab.sakaiproject.org']\n",
      "['source@collab.sakaiproject.org']\n",
      "['source@collab.sakaiproject.org']\n",
      "['apache@localhost']\n",
      "['source@collab.sakaiproject.org']\n",
      "['gsilver@umich.edu']\n",
      "['source@collab.sakaiproject.org']\n",
      "['gsilver@umich.edu']\n",
      "['gsilver@umich.edu']\n",
      "['zqian@umich.edu']\n",
      "['postmaster@collab.sakaiproject.org']\n",
      "['200801041609.m04G9EuX007197@nakamura.uits.iupui.edu']\n",
      "['source@collab.sakaiproject.org']\n",
      "['source@collab.sakaiproject.org']\n",
      "['source@collab.sakaiproject.org']\n",
      "['apache@localhost']\n",
      "['source@collab.sakaiproject.org']\n",
      "['zqian@umich.edu']\n",
      "['source@collab.sakaiproject.org']\n",
      "['zqian@umich.edu']\n",
      "['zqian@umich.edu']\n",
      "['gsilver@umich.edu']\n",
      "['postmaster@collab.sakaiproject.org']\n",
      "['200801041608.m04G8d7w007184@nakamura.uits.iupui.edu']\n",
      "['source@collab.sakaiproject.org']\n",
      "['source@collab.sakaiproject.org']\n",
      "['source@collab.sakaiproject.org']\n",
      "['apache@localhost']\n",
      "['source@collab.sakaiproject.org']\n",
      "['gsilver@umich.edu']\n",
      "['source@collab.sakaiproject.org']\n",
      "['gsilver@umich.edu']\n",
      "['gsilver@umich.edu']\n",
      "['wagnermr@iupui.edu']\n",
      "['postmaster@collab.sakaiproject.org']\n",
      "['200801041537.m04Fb6Ci007092@nakamura.uits.iupui.edu']\n",
      "['source@collab.sakaiproject.org']\n",
      "['source@collab.sakaiproject.org']\n",
      "['source@collab.sakaiproject.org']\n",
      "['apache@localhost']\n",
      "['source@collab.sakaiproject.org']\n",
      "['wagnermr@iupui.edu']\n",
      "['source@collab.sakaiproject.org']\n",
      "['wagnermr@iupui.edu']\n",
      "['wagnermr@iupui.edu']\n",
      "['zqian@umich.edu']\n",
      "['postmaster@collab.sakaiproject.org']\n",
      "['200801041515.m04FFv42007050@nakamura.uits.iupui.edu']\n",
      "['source@collab.sakaiproject.org']\n",
      "['source@collab.sakaiproject.org']\n",
      "['source@collab.sakaiproject.org']\n",
      "['apache@localhost']\n",
      "['source@collab.sakaiproject.org']\n",
      "['zqian@umich.edu']\n",
      "['source@collab.sakaiproject.org']\n",
      "['zqian@umich.edu']\n",
      "['zqian@umich.edu']\n",
      "['antranig@caret.cam.ac.uk']\n",
      "['postmaster@collab.sakaiproject.org']\n",
      "['200801041502.m04F21Jo007031@nakamura.uits.iupui.edu']\n",
      "['source@collab.sakaiproject.org']\n",
      "['source@collab.sakaiproject.org']\n",
      "['source@collab.sakaiproject.org']\n",
      "['apache@localhost']\n",
      "['source@collab.sakaiproject.org']\n",
      "['antranig@caret.cam.ac.uk']\n",
      "['source@collab.sakaiproject.org']\n",
      "['antranig@caret.cam.ac.uk']\n",
      "['antranig@caret.cam.ac.uk']\n",
      "['gopal.ramasammycook@gmail.com']\n",
      "['postmaster@collab.sakaiproject.org']\n",
      "['200801041403.m04E3psW006926@nakamura.uits.iupui.edu']\n",
      "['source@collab.sakaiproject.org']\n",
      "['source@collab.sakaiproject.org']\n",
      "['source@collab.sakaiproject.org']\n",
      "['apache@localhost']\n",
      "['source@collab.sakaiproject.org']\n",
      "['gopal.ramasammycook@gmail.com']\n",
      "['source@collab.sakaiproject.org']\n",
      "['gopal.ramasammycook@gmail.com']\n",
      "['gopal.ramasammycook@gmail.com']\n",
      "['david.horwitz@uct.ac.za']\n",
      "['postmaster@collab.sakaiproject.org']\n",
      "['200801041200.m04C0gfK006793@nakamura.uits.iupui.edu']\n",
      "['source@collab.sakaiproject.org']\n",
      "['source@collab.sakaiproject.org']\n",
      "['source@collab.sakaiproject.org']\n",
      "['apache@localhost']\n",
      "['source@collab.sakaiproject.org']\n",
      "['david.horwitz@uct.ac.za']\n",
      "['source@collab.sakaiproject.org']\n",
      "['david.horwitz@uct.ac.za']\n",
      "['david.horwitz@uct.ac.za']\n",
      "['david.horwitz@uct.ac.za']\n",
      "['dhorwitz@david-horwitz-6:~/branchManagemnt/sakai_2-5-x']\n",
      "['dhorwitz@david-horwitz-6:~/branchManagemnt/sakai_2-5-x']\n",
      "['david.horwitz@uct.ac.za']\n",
      "['postmaster@collab.sakaiproject.org']\n",
      "['200801041106.m04B6lK3006677@nakamura.uits.iupui.edu']\n",
      "['source@collab.sakaiproject.org']\n",
      "['source@collab.sakaiproject.org']\n",
      "['source@collab.sakaiproject.org']\n",
      "['apache@localhost']\n",
      "['source@collab.sakaiproject.org']\n",
      "['david.horwitz@uct.ac.za']\n",
      "['source@collab.sakaiproject.org']\n",
      "['david.horwitz@uct.ac.za']\n",
      "['david.horwitz@uct.ac.za']\n",
      "['david.horwitz@uct.ac.za']\n",
      "['postmaster@collab.sakaiproject.org']\n",
      "['200801040947.m049lUxo006517@nakamura.uits.iupui.edu']\n",
      "['source@collab.sakaiproject.org']\n",
      "['source@collab.sakaiproject.org']\n",
      "['source@collab.sakaiproject.org']\n",
      "['apache@localhost']\n",
      "['source@collab.sakaiproject.org']\n",
      "['david.horwitz@uct.ac.za']\n",
      "['source@collab.sakaiproject.org']\n",
      "['david.horwitz@uct.ac.za']\n",
      "['david.horwitz@uct.ac.za']\n",
      "['josrodri@iupui.edu']\n",
      "['dhorwitz@david-horwitz-6:~/branchManagemnt/sakai_2-5-x']\n",
      "['david.horwitz@uct.ac.za']\n",
      "['postmaster@collab.sakaiproject.org']\n",
      "['200801040932.m049W2i5006493@nakamura.uits.iupui.edu']\n",
      "['source@collab.sakaiproject.org']\n",
      "['source@collab.sakaiproject.org']\n",
      "['source@collab.sakaiproject.org']\n",
      "['apache@localhost']\n",
      "['source@collab.sakaiproject.org']\n",
      "['david.horwitz@uct.ac.za']\n",
      "['source@collab.sakaiproject.org']\n",
      "['david.horwitz@uct.ac.za']\n",
      "['david.horwitz@uct.ac.za']\n",
      "['josrodri@iupui.edu']\n",
      "['dhorwitz@david-horwitz-6:~/branchManagemnt/sakai_2-5-x']\n",
      "['stephen.marquard@uct.ac.za']\n",
      "['postmaster@collab.sakaiproject.org']\n",
      "['200801040905.m0495rWB006420@nakamura.uits.iupui.edu']\n",
      "['source@collab.sakaiproject.org']\n",
      "['source@collab.sakaiproject.org']\n",
      "['source@collab.sakaiproject.org']\n",
      "['apache@localhost']\n",
      "['source@collab.sakaiproject.org']\n",
      "['stephen.marquard@uct.ac.za']\n",
      "['source@collab.sakaiproject.org']\n",
      "['stephen.marquard@uct.ac.za']\n",
      "['stephen.marquard@uct.ac.za']\n",
      "['louis@media.berkeley.edu']\n",
      "['postmaster@collab.sakaiproject.org']\n",
      "['200801040023.m040NpCc005473@nakamura.uits.iupui.edu']\n",
      "['source@collab.sakaiproject.org']\n",
      "['source@collab.sakaiproject.org']\n",
      "['source@collab.sakaiproject.org']\n",
      "['apache@localhost']\n",
      "['source@collab.sakaiproject.org']\n",
      "['louis@media.berkeley.edu']\n",
      "['source@collab.sakaiproject.org']\n",
      "['louis@media.berkeley.edu']\n",
      "['louis@media.berkeley.edu']\n",
      "['louis@media.berkeley.edu']\n",
      "['postmaster@collab.sakaiproject.org']\n",
      "['200801032216.m03MGhDa005292@nakamura.uits.iupui.edu']\n",
      "['source@collab.sakaiproject.org']\n",
      "['source@collab.sakaiproject.org']\n",
      "['source@collab.sakaiproject.org']\n",
      "['apache@localhost']\n",
      "['source@collab.sakaiproject.org']\n",
      "['louis@media.berkeley.edu']\n",
      "['source@collab.sakaiproject.org']\n",
      "['louis@media.berkeley.edu']\n",
      "['louis@media.berkeley.edu']\n",
      "['ray@media.berkeley.edu']\n",
      "['postmaster@collab.sakaiproject.org']\n",
      "['200801032205.m03M5Ea7005273@nakamura.uits.iupui.edu']\n",
      "['source@collab.sakaiproject.org']\n",
      "['source@collab.sakaiproject.org']\n",
      "['source@collab.sakaiproject.org']\n",
      "['apache@localhost']\n",
      "['source@collab.sakaiproject.org']\n",
      "['ray@media.berkeley.edu']\n",
      "['source@collab.sakaiproject.org']\n",
      "['ray@media.berkeley.edu']\n",
      "['ray@media.berkeley.edu']\n",
      "['cwen@iupui.edu']\n",
      "['postmaster@collab.sakaiproject.org']\n",
      "['200801032133.m03LX3gG005191@nakamura.uits.iupui.edu']\n",
      "['source@collab.sakaiproject.org']\n",
      "['source@collab.sakaiproject.org']\n",
      "['source@collab.sakaiproject.org']\n",
      "['apache@localhost']\n",
      "['source@collab.sakaiproject.org']\n",
      "['cwen@iupui.edu']\n",
      "['source@collab.sakaiproject.org']\n",
      "['cwen@iupui.edu']\n",
      "['cwen@iupui.edu']\n",
      "['cwen@iupui.edu']\n",
      "['postmaster@collab.sakaiproject.org']\n",
      "['200801032127.m03LRUqH005177@nakamura.uits.iupui.edu']\n",
      "['source@collab.sakaiproject.org']\n",
      "['source@collab.sakaiproject.org']\n",
      "['source@collab.sakaiproject.org']\n",
      "['apache@localhost']\n",
      "['source@collab.sakaiproject.org']\n",
      "['cwen@iupui.edu']\n",
      "['source@collab.sakaiproject.org']\n",
      "['cwen@iupui.edu']\n",
      "['cwen@iupui.edu']\n",
      "['wagnermr@iupui.edu']\n",
      "['cwen@iupui.edu']\n",
      "['postmaster@collab.sakaiproject.org']\n",
      "['200801032122.m03LMFo4005148@nakamura.uits.iupui.edu']\n",
      "['source@collab.sakaiproject.org']\n",
      "['source@collab.sakaiproject.org']\n",
      "['source@collab.sakaiproject.org']\n",
      "['apache@localhost']\n",
      "['source@collab.sakaiproject.org']\n",
      "['cwen@iupui.edu']\n",
      "['source@collab.sakaiproject.org']\n",
      "['cwen@iupui.edu']\n",
      "['cwen@iupui.edu']\n",
      "['wagnermr@iupui.edu']\n"
     ]
    }
   ],
   "source": [
    "hand = open('mbox-short.txt')\n",
    "for line in hand:\n",
    "    line = line.rstrip()\n",
    "    x = re.findall('[a-zA-Z0-9]\\S+@\\S+[a-zA-Z]',line)\n",
    "    # 소문자 대문자 숫자: [a-zA-Z0-9]\n",
    "    # 공백이 아닌 문자열이 1번 이상: \\S+\n",
    "    # @\n",
    "    # 공백이 아닌 문자열이 1번 이상: \\S+\n",
    "    # 대문자나 소문자를 찾아서 추출: [a-zA-Z]\n",
    "    if len(x) > 0:\n",
    "        print(x)\n",
    "\n",
    "# search for lines that have an at sign between characters. The characters must be a letter or number"
   ]
  },
  {
   "cell_type": "markdown",
   "id": "7051be37",
   "metadata": {},
   "source": [
    "### ??????????????????????????????????????????????????????????????????"
   ]
  },
  {
   "cell_type": "code",
   "execution_count": 233,
   "id": "2e073680",
   "metadata": {
    "scrolled": true
   },
   "outputs": [
    {
     "name": "stdout",
     "output_type": "stream",
     "text": [
      "['X-DSPAM-Confidence: 0.8475']\n",
      "['X-DSPAM-Probability: 0.0000']\n",
      "['X-DSPAM-Confidence: 0.6178']\n",
      "['X-DSPAM-Probability: 0.0000']\n",
      "['X-DSPAM-Confidence: 0.6961']\n",
      "['X-DSPAM-Probability: 0.0000']\n",
      "['X-DSPAM-Confidence: 0.7565']\n",
      "['X-DSPAM-Probability: 0.0000']\n",
      "['X-DSPAM-Confidence: 0.7626']\n",
      "['X-DSPAM-Probability: 0.0000']\n",
      "['X-DSPAM-Confidence: 0.7556']\n",
      "['X-DSPAM-Probability: 0.0000']\n",
      "['X-DSPAM-Confidence: 0.7002']\n",
      "['X-DSPAM-Probability: 0.0000']\n",
      "['X-DSPAM-Confidence: 0.7615']\n",
      "['X-DSPAM-Probability: 0.0000']\n",
      "['X-DSPAM-Confidence: 0.7601']\n",
      "['X-DSPAM-Probability: 0.0000']\n",
      "['X-DSPAM-Confidence: 0.7605']\n",
      "['X-DSPAM-Probability: 0.0000']\n",
      "['X-DSPAM-Confidence: 0.6959']\n",
      "['X-DSPAM-Probability: 0.0000']\n",
      "['X-DSPAM-Confidence: 0.7606']\n",
      "['X-DSPAM-Probability: 0.0000']\n",
      "['X-DSPAM-Confidence: 0.7559']\n",
      "['X-DSPAM-Probability: 0.0000']\n",
      "['X-DSPAM-Confidence: 0.7605']\n",
      "['X-DSPAM-Probability: 0.0000']\n",
      "['X-DSPAM-Confidence: 0.6932']\n",
      "['X-DSPAM-Probability: 0.0000']\n",
      "['X-DSPAM-Confidence: 0.7558']\n",
      "['X-DSPAM-Probability: 0.0000']\n",
      "['X-DSPAM-Confidence: 0.6526']\n",
      "['X-DSPAM-Probability: 0.0000']\n",
      "['X-DSPAM-Confidence: 0.6948']\n",
      "['X-DSPAM-Probability: 0.0000']\n",
      "['X-DSPAM-Confidence: 0.6528']\n",
      "['X-DSPAM-Probability: 0.0000']\n",
      "['X-DSPAM-Confidence: 0.7002']\n",
      "['X-DSPAM-Probability: 0.0000']\n",
      "['X-DSPAM-Confidence: 0.7554']\n",
      "['X-DSPAM-Probability: 0.0000']\n",
      "['X-DSPAM-Confidence: 0.6956']\n",
      "['X-DSPAM-Probability: 0.0000']\n",
      "['X-DSPAM-Confidence: 0.6959']\n",
      "['X-DSPAM-Probability: 0.0000']\n",
      "['X-DSPAM-Confidence: 0.7556']\n",
      "['X-DSPAM-Probability: 0.0000']\n",
      "['X-DSPAM-Confidence: 0.9846']\n",
      "['X-DSPAM-Probability: 0.0000']\n",
      "['X-DSPAM-Confidence: 0.8509']\n",
      "['X-DSPAM-Probability: 0.0000']\n",
      "['X-DSPAM-Confidence: 0.9907']\n",
      "['X-DSPAM-Probability: 0.0000']\n"
     ]
    }
   ],
   "source": [
    "hand = open('mbox-short.txt')\n",
    "for line in hand:\n",
    "    line = line.rstrip()\n",
    "    x = re.findall('^X\\S*: [0-9.]+',line)\n",
    "    if len(x) > 0:\n",
    "        print(x)"
   ]
  },
  {
   "cell_type": "code",
   "execution_count": 236,
   "id": "f4658235",
   "metadata": {
    "scrolled": true
   },
   "outputs": [
    {
     "name": "stdout",
     "output_type": "stream",
     "text": [
      "['rev=39772']\n",
      "['rev=39771']\n",
      "['rev=39770']\n",
      "['rev=39769']\n",
      "['rev=39766']\n",
      "['rev=39765']\n",
      "['rev=39764']\n",
      "['rev=39763']\n",
      "['rev=39762']\n",
      "['rev=39761']\n",
      "['rev=39760']\n",
      "['rev=39759']\n",
      "['rev=39758']\n",
      "['rev=39757']\n",
      "['rev=39756']\n",
      "['rev=39755']\n",
      "['rev=39754']\n",
      "['rev=39753']\n",
      "['rev=39752']\n",
      "['rev=39751']\n",
      "['rev=39750']\n",
      "['rev=39749']\n",
      "['rev=39746']\n",
      "['rev=39745']\n",
      "['rev=39744']\n",
      "['rev=39743']\n",
      "['rev=39742']\n"
     ]
    }
   ],
   "source": [
    "hand = open('mbox-short.txt')\n",
    "for line in hand:\n",
    "    line = line.rstrip()\n",
    "    x = re.findall('rev=[0-9.]+',line)\n",
    "    if len(x) > 0:\n",
    "        print(x)"
   ]
  },
  {
   "cell_type": "code",
   "execution_count": 165,
   "id": "684257d1",
   "metadata": {},
   "outputs": [
    {
     "data": {
      "text/plain": [
       "<re.Match object; span=(0, 6), match='python'>"
      ]
     },
     "execution_count": 165,
     "metadata": {},
     "output_type": "execute_result"
    }
   ],
   "source": [
    "m = re.match('[a-z]+', \"python\")\n",
    "m"
   ]
  },
  {
   "cell_type": "code",
   "execution_count": 238,
   "id": "ea41dd73",
   "metadata": {},
   "outputs": [
    {
     "name": "stdout",
     "output_type": "stream",
     "text": [
      "<callable_iterator object at 0x000002118D8C37C0>\n"
     ]
    }
   ],
   "source": [
    "p = re.compile('[a-z]+')\n",
    "m = p.match(\"python\")\n",
    "print(m)"
   ]
  },
  {
   "cell_type": "code",
   "execution_count": 174,
   "id": "285d2284",
   "metadata": {},
   "outputs": [
    {
     "name": "stdout",
     "output_type": "stream",
     "text": [
      "None\n"
     ]
    }
   ],
   "source": [
    "m = p.match(\"3 python\")\n",
    "print(m)"
   ]
  },
  {
   "cell_type": "code",
   "execution_count": 175,
   "id": "f182f109",
   "metadata": {},
   "outputs": [
    {
     "name": "stdout",
     "output_type": "stream",
     "text": [
      "<re.Match object; span=(2, 8), match='python'>\n"
     ]
    }
   ],
   "source": [
    "m = p.search(\"3 python\")\n",
    "print(m)"
   ]
  },
  {
   "cell_type": "code",
   "execution_count": 176,
   "id": "7046a4fc",
   "metadata": {},
   "outputs": [
    {
     "name": "stdout",
     "output_type": "stream",
     "text": [
      "['life', 'is', 'too', 'short']\n"
     ]
    }
   ],
   "source": [
    "result = p.findall(\"life is too short\")\n",
    "print(result)"
   ]
  },
  {
   "cell_type": "code",
   "execution_count": 177,
   "id": "d7775d74",
   "metadata": {},
   "outputs": [
    {
     "name": "stdout",
     "output_type": "stream",
     "text": [
      "<callable_iterator object at 0x000002118BA1D9D0>\n",
      "<re.Match object; span=(0, 4), match='life'>\n",
      "<re.Match object; span=(5, 7), match='is'>\n",
      "<re.Match object; span=(8, 11), match='too'>\n",
      "<re.Match object; span=(12, 17), match='short'>\n"
     ]
    }
   ],
   "source": [
    "result = p.finditer(\"life is too short\")\n",
    "print(result)\n",
    "for r in result: print(r)"
   ]
  },
  {
   "cell_type": "code",
   "execution_count": 178,
   "id": "0d26dc4c",
   "metadata": {},
   "outputs": [
    {
     "data": {
      "text/plain": [
       "'python'"
      ]
     },
     "execution_count": 178,
     "metadata": {},
     "output_type": "execute_result"
    }
   ],
   "source": [
    "m = p.match(\"python\")\n",
    "m.group()"
   ]
  },
  {
   "cell_type": "code",
   "execution_count": 179,
   "id": "6bb76a1a",
   "metadata": {},
   "outputs": [
    {
     "data": {
      "text/plain": [
       "0"
      ]
     },
     "execution_count": 179,
     "metadata": {},
     "output_type": "execute_result"
    }
   ],
   "source": [
    "m.start()"
   ]
  },
  {
   "cell_type": "code",
   "execution_count": 180,
   "id": "cec3e937",
   "metadata": {},
   "outputs": [
    {
     "data": {
      "text/plain": [
       "6"
      ]
     },
     "execution_count": 180,
     "metadata": {},
     "output_type": "execute_result"
    }
   ],
   "source": [
    "m.end()"
   ]
  },
  {
   "cell_type": "code",
   "execution_count": 181,
   "id": "d45bcb80",
   "metadata": {},
   "outputs": [
    {
     "data": {
      "text/plain": [
       "(0, 6)"
      ]
     },
     "execution_count": 181,
     "metadata": {},
     "output_type": "execute_result"
    }
   ],
   "source": [
    "m.span()"
   ]
  },
  {
   "cell_type": "code",
   "execution_count": 184,
   "id": "c170e830",
   "metadata": {},
   "outputs": [
    {
     "data": {
      "text/plain": [
       "'python'"
      ]
     },
     "execution_count": 184,
     "metadata": {},
     "output_type": "execute_result"
    }
   ],
   "source": [
    "m = p.search(\"3 python\")\n",
    "m.group()"
   ]
  },
  {
   "cell_type": "code",
   "execution_count": 185,
   "id": "7fcf5023",
   "metadata": {},
   "outputs": [
    {
     "data": {
      "text/plain": [
       "2"
      ]
     },
     "execution_count": 185,
     "metadata": {},
     "output_type": "execute_result"
    }
   ],
   "source": [
    "m.start()"
   ]
  },
  {
   "cell_type": "code",
   "execution_count": 187,
   "id": "aa27b0d7",
   "metadata": {},
   "outputs": [
    {
     "data": {
      "text/plain": [
       "8"
      ]
     },
     "execution_count": 187,
     "metadata": {},
     "output_type": "execute_result"
    }
   ],
   "source": [
    "m.end()"
   ]
  },
  {
   "cell_type": "code",
   "execution_count": 189,
   "id": "9f36501c",
   "metadata": {},
   "outputs": [
    {
     "data": {
      "text/plain": [
       "(2, 8)"
      ]
     },
     "execution_count": 189,
     "metadata": {},
     "output_type": "execute_result"
    }
   ],
   "source": [
    "m.span()"
   ]
  },
  {
   "cell_type": "code",
   "execution_count": 191,
   "id": "5b46cf9b",
   "metadata": {},
   "outputs": [
    {
     "name": "stdout",
     "output_type": "stream",
     "text": [
      "<class 'pandas.core.frame.DataFrame'>\n",
      "RangeIndex: 1000 entries, 0 to 999\n",
      "Data columns (total 10 columns):\n",
      " #   Column         Non-Null Count  Dtype \n",
      "---  ------         --------------  ----- \n",
      " 0   Name           1000 non-null   object\n",
      " 1   Age            1000 non-null   int64 \n",
      " 2   M/F            1000 non-null   object\n",
      " 3   City           1000 non-null   object\n",
      " 4   State          807 non-null    object\n",
      " 5   Country        1000 non-null   object\n",
      " 6   Official Time  1000 non-null   object\n",
      " 7   Overall        1000 non-null   int64 \n",
      " 8   Gender         1000 non-null   int64 \n",
      " 9   Years Ran      315 non-null    object\n",
      "dtypes: int64(3), object(7)\n",
      "memory usage: 78.2+ KB\n"
     ]
    }
   ],
   "source": [
    "boston_url = 'https://andybek.com/pandas-marathon'\n",
    "boston = pd.read_csv(boston_url)\n",
    "boston.info()"
   ]
  },
  {
   "cell_type": "code",
   "execution_count": 192,
   "id": "c3d8f04b",
   "metadata": {},
   "outputs": [
    {
     "data": {
      "text/plain": [
       "(1000, 10)"
      ]
     },
     "execution_count": 192,
     "metadata": {},
     "output_type": "execute_result"
    }
   ],
   "source": [
    "boston.shape"
   ]
  },
  {
   "cell_type": "code",
   "execution_count": 193,
   "id": "bb974040",
   "metadata": {},
   "outputs": [
    {
     "data": {
      "text/plain": [
       "0           KERINGET\n",
       "1           PORTLAND\n",
       "2       MACHIDA-CITY\n",
       "3      MAMMOTH LAKES\n",
       "4           MARAKWET\n",
       "           ...      \n",
       "995    NORTH ANDOVER\n",
       "996          RALEIGH\n",
       "997        ARLINGTON\n",
       "998          DANBURY\n",
       "999         SANTA FE\n",
       "Name: City, Length: 1000, dtype: object"
      ]
     },
     "execution_count": 193,
     "metadata": {},
     "output_type": "execute_result"
    }
   ],
   "source": [
    "boston.City.str.upper()"
   ]
  },
  {
   "cell_type": "code",
   "execution_count": 194,
   "id": "426f7b10",
   "metadata": {},
   "outputs": [
    {
     "data": {
      "text/plain": [
       "0           keringet\n",
       "1           portland\n",
       "2       machida-city\n",
       "3      mammoth lakes\n",
       "4           marakwet\n",
       "           ...      \n",
       "995    north andover\n",
       "996          raleigh\n",
       "997        arlington\n",
       "998          danbury\n",
       "999         santa fe\n",
       "Name: City, Length: 1000, dtype: object"
      ]
     },
     "execution_count": 194,
     "metadata": {},
     "output_type": "execute_result"
    }
   ],
   "source": [
    "boston.City.str.lower()"
   ]
  },
  {
   "cell_type": "code",
   "execution_count": 195,
   "id": "30a81cc8",
   "metadata": {},
   "outputs": [
    {
     "data": {
      "text/plain": [
       "0           kERINGET\n",
       "1           pORTLAND\n",
       "2       mACHIDA-cITY\n",
       "3      mAMMOTH lAKES\n",
       "4           mARAKWET\n",
       "           ...      \n",
       "995    nORTH aNDOVER\n",
       "996          rALEIGH\n",
       "997        aRLINGTON\n",
       "998          dANBURY\n",
       "999         sANTA fE\n",
       "Name: City, Length: 1000, dtype: object"
      ]
     },
     "execution_count": 195,
     "metadata": {},
     "output_type": "execute_result"
    }
   ],
   "source": [
    "boston.City.str.swapcase()"
   ]
  },
  {
   "cell_type": "code",
   "execution_count": 196,
   "id": "081d7b7c",
   "metadata": {},
   "outputs": [
    {
     "data": {
      "text/plain": [
       "0           Keringet\n",
       "1           Portland\n",
       "2       Machida-city\n",
       "3      Mammoth lakes\n",
       "4           Marakwet\n",
       "           ...      \n",
       "995    North andover\n",
       "996          Raleigh\n",
       "997        Arlington\n",
       "998          Danbury\n",
       "999         Santa fe\n",
       "Name: City, Length: 1000, dtype: object"
      ]
     },
     "execution_count": 196,
     "metadata": {},
     "output_type": "execute_result"
    }
   ],
   "source": [
    "boston.City.str.capitalize()"
   ]
  },
  {
   "cell_type": "code",
   "execution_count": 197,
   "id": "e37562aa",
   "metadata": {},
   "outputs": [
    {
     "data": {
      "text/plain": [
       "0    Kirui, Geoffrey\n",
       "1        Rupp, Galen\n",
       "Name: Name, dtype: object"
      ]
     },
     "execution_count": 197,
     "metadata": {},
     "output_type": "execute_result"
    }
   ],
   "source": [
    "boston.Name.iloc[0:2].str.strip()"
   ]
  },
  {
   "cell_type": "code",
   "execution_count": 198,
   "id": "de9fdcc1",
   "metadata": {},
   "outputs": [
    {
     "data": {
      "text/plain": [
       "0        [ Kirui, Geoffrey ]\n",
       "1           [Rupp, Galen   ]\n",
       "2          [Osako, Suguru  ]\n",
       "3         [Biwott, Shadrack]\n",
       "4           [Chebet, Wilson]\n",
       "               ...          \n",
       "995           [Larosa, Mark]\n",
       "996    [Williamson, Jerry A]\n",
       "997        [Mccue, Daniel T]\n",
       "998           [Larosa, John]\n",
       "999         [Sanchez, Sam R]\n",
       "Name: Name, Length: 1000, dtype: object"
      ]
     },
     "execution_count": 198,
     "metadata": {},
     "output_type": "execute_result"
    }
   ],
   "source": [
    "boston.Name.str.split(', ')"
   ]
  },
  {
   "cell_type": "code",
   "execution_count": 199,
   "id": "c53f8c7c",
   "metadata": {},
   "outputs": [
    {
     "data": {
      "text/plain": [
       "[' Kirui', 'Geoffrey ']"
      ]
     },
     "execution_count": 199,
     "metadata": {},
     "output_type": "execute_result"
    }
   ],
   "source": [
    "boston.Name.str.split(', ')[0]"
   ]
  },
  {
   "cell_type": "code",
   "execution_count": 201,
   "id": "7232cb6b",
   "metadata": {},
   "outputs": [
    {
     "data": {
      "text/plain": [
       "0      Geoffrey \n",
       "1       Galen   \n",
       "2       Suguru  \n",
       "3       Shadrack\n",
       "4         Wilson\n",
       "         ...    \n",
       "995         Mark\n",
       "996      Jerry A\n",
       "997     Daniel T\n",
       "998         John\n",
       "999        Sam R\n",
       "Name: Name, Length: 1000, dtype: object"
      ]
     },
     "execution_count": 201,
     "metadata": {},
     "output_type": "execute_result"
    }
   ],
   "source": [
    "boston.Name.str.split(', ').str.get(1)"
   ]
  },
  {
   "cell_type": "code",
   "execution_count": 205,
   "id": "ebfd2f30",
   "metadata": {},
   "outputs": [
    {
     "data": {
      "text/plain": [
       "0      Geoffrey \n",
       "1       Galen   \n",
       "2       Suguru  \n",
       "3       Shadrack\n",
       "4         Wilson\n",
       "         ...    \n",
       "995         Mark\n",
       "996      Jerry A\n",
       "997     Daniel T\n",
       "998         John\n",
       "999        Sam R\n",
       "Name: First Name, Length: 1000, dtype: object"
      ]
     },
     "execution_count": 205,
     "metadata": {},
     "output_type": "execute_result"
    }
   ],
   "source": [
    "boston['First Name'] = boston.Name.str.split(', ').str.get(1)\n",
    "boston['First Name']"
   ]
  },
  {
   "cell_type": "code",
   "execution_count": 206,
   "id": "dfd5bf0b",
   "metadata": {},
   "outputs": [
    {
     "data": {
      "text/plain": [
       "0           Kirui\n",
       "1            Rupp\n",
       "2           Osako\n",
       "3          Biwott\n",
       "4          Chebet\n",
       "          ...    \n",
       "995        Larosa\n",
       "996    Williamson\n",
       "997         Mccue\n",
       "998        Larosa\n",
       "999       Sanchez\n",
       "Name: Last Name, Length: 1000, dtype: object"
      ]
     },
     "execution_count": 206,
     "metadata": {},
     "output_type": "execute_result"
    }
   ],
   "source": [
    "boston['Last Name'] = boston.Name.str.split(', ').str.get(0)\n",
    "boston['Last Name']"
   ]
  },
  {
   "cell_type": "code",
   "execution_count": 207,
   "id": "ea935031",
   "metadata": {},
   "outputs": [
    {
     "data": {
      "text/plain": [
       "0      M_24\n",
       "1      M_30\n",
       "2      M_25\n",
       "3      M_32\n",
       "4      M_31\n",
       "       ... \n",
       "995    M_38\n",
       "996    M_43\n",
       "997    M_40\n",
       "998    M_35\n",
       "999    M_35\n",
       "Name: M/F, Length: 1000, dtype: object"
      ]
     },
     "execution_count": 207,
     "metadata": {},
     "output_type": "execute_result"
    }
   ],
   "source": [
    "boston['M/F'].str.cat(boston.Age.astype(str), sep = '_')"
   ]
  },
  {
   "cell_type": "code",
   "execution_count": 208,
   "id": "582c7db2",
   "metadata": {},
   "outputs": [
    {
     "data": {
      "text/plain": [
       "0      KE\n",
       "1      US\n",
       "2      JP\n",
       "3      US\n",
       "4      KE\n",
       "       ..\n",
       "995    US\n",
       "996    US\n",
       "997    US\n",
       "998    US\n",
       "999    US\n",
       "Name: Country, Length: 1000, dtype: object"
      ]
     },
     "execution_count": 208,
     "metadata": {},
     "output_type": "execute_result"
    }
   ],
   "source": [
    "boston.Country.str.slice(0,2,1)"
   ]
  },
  {
   "cell_type": "code",
   "execution_count": 209,
   "id": "204b949d",
   "metadata": {},
   "outputs": [
    {
     "data": {
      "text/plain": [
       "0      EN\n",
       "1      SA\n",
       "2      PN\n",
       "3      SA\n",
       "4      EN\n",
       "       ..\n",
       "995    SA\n",
       "996    SA\n",
       "997    SA\n",
       "998    SA\n",
       "999    SA\n",
       "Name: Country, Length: 1000, dtype: object"
      ]
     },
     "execution_count": 209,
     "metadata": {},
     "output_type": "execute_result"
    }
   ],
   "source": [
    "boston.Country.str.slice(start = -2, step = 1, stop = None)"
   ]
  },
  {
   "cell_type": "code",
   "execution_count": 210,
   "id": "092bb6c8",
   "metadata": {},
   "outputs": [
    {
     "data": {
      "text/html": [
       "<div>\n",
       "<style scoped>\n",
       "    .dataframe tbody tr th:only-of-type {\n",
       "        vertical-align: middle;\n",
       "    }\n",
       "\n",
       "    .dataframe tbody tr th {\n",
       "        vertical-align: top;\n",
       "    }\n",
       "\n",
       "    .dataframe thead th {\n",
       "        text-align: right;\n",
       "    }\n",
       "</style>\n",
       "<table border=\"1\" class=\"dataframe\">\n",
       "  <thead>\n",
       "    <tr style=\"text-align: right;\">\n",
       "      <th></th>\n",
       "      <th>Name</th>\n",
       "      <th>Age</th>\n",
       "      <th>M/F</th>\n",
       "      <th>City</th>\n",
       "      <th>State</th>\n",
       "      <th>Country</th>\n",
       "      <th>Official Time</th>\n",
       "      <th>Overall</th>\n",
       "      <th>Gender</th>\n",
       "      <th>Years Ran</th>\n",
       "      <th>First Name</th>\n",
       "      <th>Last Name</th>\n",
       "    </tr>\n",
       "  </thead>\n",
       "  <tbody>\n",
       "    <tr>\n",
       "      <th>56</th>\n",
       "      <td>Boudalia, Said Sr.</td>\n",
       "      <td>48</td>\n",
       "      <td>M</td>\n",
       "      <td>Belluno</td>\n",
       "      <td>NaN</td>\n",
       "      <td>ITA</td>\n",
       "      <td>2:30:11</td>\n",
       "      <td>57</td>\n",
       "      <td>51</td>\n",
       "      <td>2015:2016</td>\n",
       "      <td>Said Sr.</td>\n",
       "      <td>Boudalia</td>\n",
       "    </tr>\n",
       "    <tr>\n",
       "      <th>156</th>\n",
       "      <td>Achmuller, Hermann</td>\n",
       "      <td>46</td>\n",
       "      <td>M</td>\n",
       "      <td>Brixen</td>\n",
       "      <td>NaN</td>\n",
       "      <td>ITA</td>\n",
       "      <td>2:38:40</td>\n",
       "      <td>157</td>\n",
       "      <td>139</td>\n",
       "      <td>NaN</td>\n",
       "      <td>Hermann</td>\n",
       "      <td>Achmuller</td>\n",
       "    </tr>\n",
       "    <tr>\n",
       "      <th>792</th>\n",
       "      <td>Consolandi, Paolo Giorgio</td>\n",
       "      <td>39</td>\n",
       "      <td>M</td>\n",
       "      <td>Pessano Con Bornago (mi)</td>\n",
       "      <td>NaN</td>\n",
       "      <td>ITA</td>\n",
       "      <td>2:53:29</td>\n",
       "      <td>793</td>\n",
       "      <td>747</td>\n",
       "      <td>NaN</td>\n",
       "      <td>Paolo Giorgio</td>\n",
       "      <td>Consolandi</td>\n",
       "    </tr>\n",
       "    <tr>\n",
       "      <th>922</th>\n",
       "      <td>Zompanti, Alessandro</td>\n",
       "      <td>48</td>\n",
       "      <td>M</td>\n",
       "      <td>Fiuggi Fr</td>\n",
       "      <td>NaN</td>\n",
       "      <td>ITA</td>\n",
       "      <td>2:55:12</td>\n",
       "      <td>923</td>\n",
       "      <td>872</td>\n",
       "      <td>NaN</td>\n",
       "      <td>Alessandro</td>\n",
       "      <td>Zompanti</td>\n",
       "    </tr>\n",
       "  </tbody>\n",
       "</table>\n",
       "</div>"
      ],
      "text/plain": [
       "                          Name  Age M/F                      City State  \\\n",
       "56          Boudalia, Said Sr.   48   M                   Belluno   NaN   \n",
       "156         Achmuller, Hermann   46   M                    Brixen   NaN   \n",
       "792  Consolandi, Paolo Giorgio   39   M  Pessano Con Bornago (mi)   NaN   \n",
       "922       Zompanti, Alessandro   48   M                 Fiuggi Fr   NaN   \n",
       "\n",
       "    Country Official Time  Overall  Gender  Years Ran     First Name  \\\n",
       "56      ITA       2:30:11       57      51  2015:2016       Said Sr.   \n",
       "156     ITA       2:38:40      157     139        NaN        Hermann   \n",
       "792     ITA       2:53:29      793     747        NaN  Paolo Giorgio   \n",
       "922     ITA       2:55:12      923     872        NaN     Alessandro   \n",
       "\n",
       "      Last Name  \n",
       "56     Boudalia  \n",
       "156   Achmuller  \n",
       "792  Consolandi  \n",
       "922    Zompanti  "
      ]
     },
     "execution_count": 210,
     "metadata": {},
     "output_type": "execute_result"
    }
   ],
   "source": [
    "boston[boston.Country.str.match('ITA')]"
   ]
  },
  {
   "cell_type": "code",
   "execution_count": 213,
   "id": "80b9471b",
   "metadata": {},
   "outputs": [
    {
     "data": {
      "text/plain": [
       "0      False\n",
       "1      False\n",
       "2      False\n",
       "3      False\n",
       "4      False\n",
       "       ...  \n",
       "995    False\n",
       "996     True\n",
       "997    False\n",
       "998    False\n",
       "999    False\n",
       "Name: Name, Length: 1000, dtype: bool"
      ]
     },
     "execution_count": 213,
     "metadata": {},
     "output_type": "execute_result"
    }
   ],
   "source": [
    "wills = boston.Name.str.contains('Will')\n",
    "wills"
   ]
  },
  {
   "cell_type": "code",
   "execution_count": 214,
   "id": "79990664",
   "metadata": {},
   "outputs": [
    {
     "data": {
      "text/plain": [
       "93            Vanos, William\n",
       "199        Guzick, William F\n",
       "415          Hartje, William\n",
       "429         Adams, William C\n",
       "456              Cunha, Will\n",
       "526            Swenson, Will\n",
       "571    Gates, William E. Jr.\n",
       "711       Swanson, William G\n",
       "814        Williamson, David\n",
       "835             Vargas, Will\n",
       "892             Rivera, Will\n",
       "897      Feldman, William P.\n",
       "936      Decamps, William M.\n",
       "939        Versen, William R\n",
       "996      Williamson, Jerry A\n",
       "Name: Name, dtype: object"
      ]
     },
     "execution_count": 214,
     "metadata": {},
     "output_type": "execute_result"
    }
   ],
   "source": [
    "boston.Name[boston.Name.str.contains('Will')]"
   ]
  },
  {
   "cell_type": "code",
   "execution_count": 215,
   "id": "ac8d7606",
   "metadata": {},
   "outputs": [
    {
     "data": {
      "text/plain": [
       "93            Vanos, William\n",
       "199        Guzick, William F\n",
       "415          Hartje, William\n",
       "429         Adams, William C\n",
       "456              Cunha, Will\n",
       "526            Swenson, Will\n",
       "571    Gates, William E. Jr.\n",
       "711       Swanson, William G\n",
       "814        Williamson, David\n",
       "835             Vargas, Will\n",
       "892             Rivera, Will\n",
       "897      Feldman, William P.\n",
       "936      Decamps, William M.\n",
       "939        Versen, William R\n",
       "996      Williamson, Jerry A\n",
       "Name: Name, dtype: object"
      ]
     },
     "execution_count": 215,
     "metadata": {},
     "output_type": "execute_result"
    }
   ],
   "source": [
    "boston.Name[boston.Name.str.contains(r'[wW]ill', regex=True)]"
   ]
  },
  {
   "cell_type": "code",
   "execution_count": 216,
   "id": "c35854b4",
   "metadata": {},
   "outputs": [
    {
     "data": {
      "text/plain": [
       "456      Cunha, Will\n",
       "526    Swenson, Will\n",
       "835     Vargas, Will\n",
       "892     Rivera, Will\n",
       "Name: Name, dtype: object"
      ]
     },
     "execution_count": 216,
     "metadata": {},
     "output_type": "execute_result"
    }
   ],
   "source": [
    "boston.Name[boston.Name.str.contains(r'\\s[wW]ill$', regex=True)]"
   ]
  },
  {
   "cell_type": "code",
   "execution_count": 217,
   "id": "7ce2f4e6",
   "metadata": {},
   "outputs": [
    {
     "data": {
      "text/plain": [
       "456      Cunha, Will\n",
       "526    Swenson, Will\n",
       "835     Vargas, Will\n",
       "892     Rivera, Will\n",
       "Name: Name, dtype: object"
      ]
     },
     "execution_count": 217,
     "metadata": {},
     "output_type": "execute_result"
    }
   ],
   "source": [
    "boston.Name[boston.Name.str.contains(r'\\s[wW]ill\\b', regex=True)]"
   ]
  },
  {
   "cell_type": "code",
   "execution_count": 218,
   "id": "12ab3cd9",
   "metadata": {},
   "outputs": [
    {
     "data": {
      "text/plain": [
       "0    2:09:37\n",
       "1    2:09:58\n",
       "2    2:10:28\n",
       "3    2:12:08\n",
       "4    2:12:35\n",
       "Name: Official Time, dtype: object"
      ]
     },
     "execution_count": 218,
     "metadata": {},
     "output_type": "execute_result"
    }
   ],
   "source": [
    "boston['Official Time'].head()"
   ]
  },
  {
   "cell_type": "code",
   "execution_count": 221,
   "id": "05e01ffd",
   "metadata": {},
   "outputs": [
    {
     "name": "stderr",
     "output_type": "stream",
     "text": [
      "<ipython-input-221-b1b72b8f723d>:1: FutureWarning: The default value of regex will change from True to False in a future version.\n",
      "  boston['Official Time'].str.replace(r'(\\d+):(\\d+):(\\d+)', r'\\1 hours, \\2 minutes, and \\3 seconds')\n"
     ]
    },
    {
     "data": {
      "text/plain": [
       "0      2 hours, 09 minutes, and 37 seconds\n",
       "1      2 hours, 09 minutes, and 58 seconds\n",
       "2      2 hours, 10 minutes, and 28 seconds\n",
       "3      2 hours, 12 minutes, and 08 seconds\n",
       "4      2 hours, 12 minutes, and 35 seconds\n",
       "                      ...                 \n",
       "995    2 hours, 56 minutes, and 06 seconds\n",
       "996    2 hours, 56 minutes, and 06 seconds\n",
       "997    2 hours, 56 minutes, and 06 seconds\n",
       "998    2 hours, 56 minutes, and 07 seconds\n",
       "999    2 hours, 56 minutes, and 08 seconds\n",
       "Name: Official Time, Length: 1000, dtype: object"
      ]
     },
     "execution_count": 221,
     "metadata": {},
     "output_type": "execute_result"
    }
   ],
   "source": [
    "boston['Official Time'].str.replace(r'(\\d+):(\\d+):(\\d+)', r'\\1 hours, \\2 minutes, and \\3 seconds')"
   ]
  },
  {
   "cell_type": "code",
   "execution_count": 252,
   "id": "5c8da3e2",
   "metadata": {},
   "outputs": [
    {
     "name": "stdout",
     "output_type": "stream",
     "text": [
      "data\n",
      "{}\n",
      "country {'name': 'Liechtenstein'}\n",
      "country {'name': 'Singapore'}\n",
      "country {'name': 'Panama'}\n",
      "2008\n"
     ]
    }
   ],
   "source": [
    "import xml.etree.ElementTree as ET\n",
    "tree = ET.parse('country_data.xml')\n",
    "root = tree.getroot()\n",
    "\n",
    "print(root.tag)\n",
    "print(root.attrib)\n",
    "\n",
    "for child in root:\n",
    "    print(child.tag, child.attrib)\n",
    "print(root[0][1].text)"
   ]
  },
  {
   "cell_type": "code",
   "execution_count": 253,
   "id": "cf15c4ed",
   "metadata": {},
   "outputs": [
    {
     "name": "stdout",
     "output_type": "stream",
     "text": [
      "{'name': 'Austria', 'direction': 'E'}\n",
      "{'name': 'Switzerland', 'direction': 'W'}\n",
      "{'name': 'Malaysia', 'direction': 'N'}\n",
      "{'name': 'Costa Rica', 'direction': 'W'}\n",
      "{'name': 'Colombia', 'direction': 'E'}\n"
     ]
    }
   ],
   "source": [
    "for neighbor in root.iter('neighbor'):\n",
    "    print(neighbor.attrib)"
   ]
  },
  {
   "cell_type": "code",
   "execution_count": 254,
   "id": "f244544c",
   "metadata": {},
   "outputs": [
    {
     "name": "stdout",
     "output_type": "stream",
     "text": [
      "Liechtenstein None\n",
      "Singapore None\n",
      "Panama None\n"
     ]
    }
   ],
   "source": [
    "for country in root.findall('country'):\n",
    "    rank = country.find('rank.text')\n",
    "    name = country.get('name')\n",
    "    print(name, rank)"
   ]
  },
  {
   "cell_type": "code",
   "execution_count": 255,
   "id": "c4a3c1ba",
   "metadata": {},
   "outputs": [],
   "source": [
    "for rank in root.iter('rank'):\n",
    "    new_rank = int(rank.text) + 1\n",
    "    rank.text = str(new_rank)\n",
    "    rank.set('updated', 'yes')\n",
    "tree.write('output.xml')"
   ]
  },
  {
   "cell_type": "code",
   "execution_count": 256,
   "id": "6b2aa18b",
   "metadata": {},
   "outputs": [],
   "source": [
    "for country in root.findall('country'):\n",
    "    rank = int(country.find('rank').text)\n",
    "    if rank > 50:\n",
    "        root.remove(country)\n",
    "\n",
    "tree.write('output2.xml')"
   ]
  },
  {
   "cell_type": "code",
   "execution_count": 257,
   "id": "6d092571",
   "metadata": {},
   "outputs": [
    {
     "name": "stdout",
     "output_type": "stream",
     "text": [
      "<a><b /><c><d /></c></a>\n"
     ]
    }
   ],
   "source": [
    "a = ET.Element('a')\n",
    "b = ET.SubElement(a, 'b')\n",
    "c = ET.SubElement(a, 'c')\n",
    "d = ET.SubElement(c, 'd')\n",
    "ET.dump(a)"
   ]
  },
  {
   "cell_type": "code",
   "execution_count": 258,
   "id": "66cc976f",
   "metadata": {},
   "outputs": [
    {
     "name": "stdout",
     "output_type": "stream",
     "text": [
      "{'name': 'Bob', 'languages': ['English', 'French']}\n",
      "['English', 'French']\n"
     ]
    }
   ],
   "source": [
    "import json\n",
    "person = '{\"name\":\"Bob\", \"languages\":[\"English\", \"French\"]}'\n",
    "person_dict = json.loads(person)\n",
    "print(person_dict)\n",
    "print(person_dict['languages'])"
   ]
  },
  {
   "cell_type": "code",
   "execution_count": 259,
   "id": "27b6c2ac",
   "metadata": {},
   "outputs": [
    {
     "name": "stdout",
     "output_type": "stream",
     "text": [
      "{'name': 'Bob', 'languages': ['English', 'French']}\n"
     ]
    }
   ],
   "source": [
    "with open('person.json') as f:\n",
    "    data = json.load(f)\n",
    "print(data)"
   ]
  },
  {
   "cell_type": "code",
   "execution_count": 260,
   "id": "3c1f6952",
   "metadata": {},
   "outputs": [
    {
     "name": "stdout",
     "output_type": "stream",
     "text": [
      "{\"name\": \"Bob\", \"age\": 12, \"children\": null}\n"
     ]
    }
   ],
   "source": [
    "person_dict = {'name':'Bob', 'age':12, 'children':None}\n",
    "person_dict = json.dumps(person_dict)\n",
    "print(person_dict)"
   ]
  },
  {
   "cell_type": "code",
   "execution_count": 268,
   "id": "f8e2e6d8",
   "metadata": {},
   "outputs": [
    {
     "name": "stdout",
     "output_type": "stream",
     "text": [
      "{\n",
      "    \"languages\": \"English\",\n",
      "    \"name\": \"Bob\",\n",
      "    \"numbers\": [\n",
      "        2,\n",
      "        1.6,\n",
      "        null\n",
      "    ]\n",
      "}\n"
     ]
    }
   ],
   "source": [
    "person_string = '{\"name\":\"Bob\", \"languages\":\"English\", \"numbers\":[2,1.6,null]}'\n",
    "person_dict = json.loads(person_string)\n",
    "print(json.dumps(person_dict, indent = 4, sort_keys=True))"
   ]
  },
  {
   "cell_type": "markdown",
   "id": "ec84afa9",
   "metadata": {
    "scrolled": false
   },
   "source": [
    "nutrition.sample()"
   ]
  },
  {
   "cell_type": "markdown",
   "id": "f1ec11e8",
   "metadata": {},
   "source": [
    "python json 는 딕셔너리이다\n",
    "- dictionary operation이 잘 된다\n",
    "- xml은 "
   ]
  },
  {
   "cell_type": "markdown",
   "id": "25abb30f",
   "metadata": {},
   "source": [
    "<h3>데이터 요약 방법론</h3>\n",
    "\n",
    "- 문자열 처리하기 data cleaning\n",
    "- 일정하지 않은 데이터를 처리\n",
    "- 결측치 -> 보관법 혹은 날려버려\n"
   ]
  },
  {
   "cell_type": "markdown",
   "id": "17063565",
   "metadata": {},
   "source": [
    "### 7주차 "
   ]
  },
  {
   "cell_type": "code",
   "execution_count": 302,
   "id": "bcc05959",
   "metadata": {
    "scrolled": true
   },
   "outputs": [
    {
     "name": "stdout",
     "output_type": "stream",
     "text": [
      "<class 'pandas.core.frame.DataFrame'>\n",
      "RangeIndex: 8250 entries, 0 to 8249\n",
      "Data columns (total 23 columns):\n",
      " #   Column                  Non-Null Count  Dtype \n",
      "---  ------                  --------------  ----- \n",
      " 0   Identifier              8250 non-null   int64 \n",
      " 1   Edition Statement       768 non-null    object\n",
      " 2   Place of Publication    8250 non-null   object\n",
      " 3   Date of Publication     8070 non-null   object\n",
      " 4   Publisher               4066 non-null   object\n",
      " 5   Title                   8249 non-null   object\n",
      " 6   Author                  6492 non-null   object\n",
      " 7   Contributors            8241 non-null   object\n",
      " 8   Corporate Author        40 non-null     object\n",
      " 9   Corporate Contributors  30 non-null     object\n",
      " 10  Former owner            20 non-null     object\n",
      " 11  Engraver                27 non-null     object\n",
      " 12  Issuance type           8216 non-null   object\n",
      " 13  Flickr URL              8221 non-null   object\n",
      " 14  Shelfmarks              8220 non-null   object\n",
      " 15  Unnamed: 15             23 non-null     object\n",
      " 16  Unnamed: 16             27 non-null     object\n",
      " 17  Unnamed: 17             19 non-null     object\n",
      " 18  Unnamed: 18             17 non-null     object\n",
      " 19  Unnamed: 19             3 non-null      object\n",
      " 20  Unnamed: 20             5 non-null      object\n",
      " 21  Unnamed: 21             3 non-null      object\n",
      " 22  Unnamed: 22             3 non-null      object\n",
      "dtypes: int64(1), object(22)\n",
      "memory usage: 1.4+ MB\n"
     ]
    }
   ],
   "source": [
    "import pandas as pd\n",
    "import numpy as np\n",
    "from functools import reduce\n",
    "\n",
    "df = pd.read_csv('BL-Flickr-Images-Book.csv')\n",
    "df.head\n",
    "df.info()"
   ]
  },
  {
   "cell_type": "code",
   "execution_count": 301,
   "id": "3d6df033",
   "metadata": {
    "scrolled": true
   },
   "outputs": [
    {
     "name": "stdout",
     "output_type": "stream",
     "text": [
      "<class 'pandas.core.frame.DataFrame'>\n",
      "Int64Index: 8250 entries, 206 to 4160339\n",
      "Data columns (total 14 columns):\n",
      " #   Column                Non-Null Count  Dtype \n",
      "---  ------                --------------  ----- \n",
      " 0   Place of Publication  8250 non-null   object\n",
      " 1   Date of Publication   8070 non-null   object\n",
      " 2   Publisher             4066 non-null   object\n",
      " 3   Title                 8249 non-null   object\n",
      " 4   Author                6492 non-null   object\n",
      " 5   Flickr URL            8221 non-null   object\n",
      " 6   Unnamed: 15           23 non-null     object\n",
      " 7   Unnamed: 16           27 non-null     object\n",
      " 8   Unnamed: 17           19 non-null     object\n",
      " 9   Unnamed: 18           17 non-null     object\n",
      " 10  Unnamed: 19           3 non-null      object\n",
      " 11  Unnamed: 20           5 non-null      object\n",
      " 12  Unnamed: 21           3 non-null      object\n",
      " 13  Unnamed: 22           3 non-null      object\n",
      "dtypes: object(14)\n",
      "memory usage: 966.8+ KB\n"
     ]
    }
   ],
   "source": [
    "# 없애버리는 것들\n",
    "to_drop = ['Edition Statement',\n",
    "           'Corporate Author',\n",
    "           'Corporate Contributors',\n",
    "           'Former owner',\n",
    "           'Engraver',\n",
    "           'Contributors',\n",
    "           'Issuance type',\n",
    "           'Shelfmarks']\n",
    "\n",
    "df.drop(to_drop, inplace = True, axis = 1)\n",
    "\n",
    "# inplace?\n",
    "df.set_index('Identifier', inplace = True)\n",
    "df.head()\n",
    "df.info()"
   ]
  },
  {
   "cell_type": "code",
   "execution_count": 288,
   "id": "ad306738",
   "metadata": {
    "scrolled": true
   },
   "outputs": [
    {
     "data": {
      "text/html": [
       "<div>\n",
       "<style scoped>\n",
       "    .dataframe tbody tr th:only-of-type {\n",
       "        vertical-align: middle;\n",
       "    }\n",
       "\n",
       "    .dataframe tbody tr th {\n",
       "        vertical-align: top;\n",
       "    }\n",
       "\n",
       "    .dataframe thead th {\n",
       "        text-align: right;\n",
       "    }\n",
       "</style>\n",
       "<table border=\"1\" class=\"dataframe\">\n",
       "  <thead>\n",
       "    <tr style=\"text-align: right;\">\n",
       "      <th></th>\n",
       "      <th>Place of Publication</th>\n",
       "      <th>Date of Publication</th>\n",
       "      <th>Publisher</th>\n",
       "      <th>Title</th>\n",
       "      <th>Author</th>\n",
       "      <th>Flickr URL</th>\n",
       "      <th>Unnamed: 15</th>\n",
       "      <th>Unnamed: 16</th>\n",
       "      <th>Unnamed: 17</th>\n",
       "      <th>Unnamed: 18</th>\n",
       "      <th>Unnamed: 19</th>\n",
       "      <th>Unnamed: 20</th>\n",
       "      <th>Unnamed: 21</th>\n",
       "      <th>Unnamed: 22</th>\n",
       "    </tr>\n",
       "    <tr>\n",
       "      <th>Identifier</th>\n",
       "      <th></th>\n",
       "      <th></th>\n",
       "      <th></th>\n",
       "      <th></th>\n",
       "      <th></th>\n",
       "      <th></th>\n",
       "      <th></th>\n",
       "      <th></th>\n",
       "      <th></th>\n",
       "      <th></th>\n",
       "      <th></th>\n",
       "      <th></th>\n",
       "      <th></th>\n",
       "      <th></th>\n",
       "    </tr>\n",
       "  </thead>\n",
       "  <tbody>\n",
       "    <tr>\n",
       "      <th>206</th>\n",
       "      <td>London</td>\n",
       "      <td>1879</td>\n",
       "      <td>S. Tinsley &amp; Co.</td>\n",
       "      <td>Walter Forbes. [A novel.] By A. A</td>\n",
       "      <td>A. A.</td>\n",
       "      <td>http://www.flickr.com/photos/britishlibrary/ta...</td>\n",
       "      <td>NaN</td>\n",
       "      <td>NaN</td>\n",
       "      <td>NaN</td>\n",
       "      <td>NaN</td>\n",
       "      <td>NaN</td>\n",
       "      <td>NaN</td>\n",
       "      <td>NaN</td>\n",
       "      <td>NaN</td>\n",
       "    </tr>\n",
       "    <tr>\n",
       "      <th>216</th>\n",
       "      <td>London; Virtue &amp; Yorston</td>\n",
       "      <td>1868</td>\n",
       "      <td>Virtue &amp; Co.</td>\n",
       "      <td>All for Greed. [A novel. The dedication signed...</td>\n",
       "      <td>A., A. A.</td>\n",
       "      <td>http://www.flickr.com/photos/britishlibrary/ta...</td>\n",
       "      <td>NaN</td>\n",
       "      <td>NaN</td>\n",
       "      <td>NaN</td>\n",
       "      <td>NaN</td>\n",
       "      <td>NaN</td>\n",
       "      <td>NaN</td>\n",
       "      <td>NaN</td>\n",
       "      <td>NaN</td>\n",
       "    </tr>\n",
       "    <tr>\n",
       "      <th>218</th>\n",
       "      <td>London</td>\n",
       "      <td>1869</td>\n",
       "      <td>Bradbury, Evans &amp; Co.</td>\n",
       "      <td>Love the Avenger. By the author of ?�All for G...</td>\n",
       "      <td>A., A. A.</td>\n",
       "      <td>http://www.flickr.com/photos/britishlibrary/ta...</td>\n",
       "      <td>NaN</td>\n",
       "      <td>NaN</td>\n",
       "      <td>NaN</td>\n",
       "      <td>NaN</td>\n",
       "      <td>NaN</td>\n",
       "      <td>NaN</td>\n",
       "      <td>NaN</td>\n",
       "      <td>NaN</td>\n",
       "    </tr>\n",
       "    <tr>\n",
       "      <th>472</th>\n",
       "      <td>London</td>\n",
       "      <td>1851</td>\n",
       "      <td>James Darling</td>\n",
       "      <td>Welsh Sketches, chiefly ecclesiastical, to the...</td>\n",
       "      <td>A., E. S.</td>\n",
       "      <td>http://www.flickr.com/photos/britishlibrary/ta...</td>\n",
       "      <td>NaN</td>\n",
       "      <td>NaN</td>\n",
       "      <td>NaN</td>\n",
       "      <td>NaN</td>\n",
       "      <td>NaN</td>\n",
       "      <td>NaN</td>\n",
       "      <td>NaN</td>\n",
       "      <td>NaN</td>\n",
       "    </tr>\n",
       "    <tr>\n",
       "      <th>480</th>\n",
       "      <td>London</td>\n",
       "      <td>1857</td>\n",
       "      <td>Wertheim &amp; Macintosh</td>\n",
       "      <td>[The World in which I live, and my place in it...</td>\n",
       "      <td>A., E. S.</td>\n",
       "      <td>http://www.flickr.com/photos/britishlibrary/ta...</td>\n",
       "      <td>NaN</td>\n",
       "      <td>NaN</td>\n",
       "      <td>NaN</td>\n",
       "      <td>NaN</td>\n",
       "      <td>NaN</td>\n",
       "      <td>NaN</td>\n",
       "      <td>NaN</td>\n",
       "      <td>NaN</td>\n",
       "    </tr>\n",
       "    <tr>\n",
       "      <th>...</th>\n",
       "      <td>...</td>\n",
       "      <td>...</td>\n",
       "      <td>...</td>\n",
       "      <td>...</td>\n",
       "      <td>...</td>\n",
       "      <td>...</td>\n",
       "      <td>...</td>\n",
       "      <td>...</td>\n",
       "      <td>...</td>\n",
       "      <td>...</td>\n",
       "      <td>...</td>\n",
       "      <td>...</td>\n",
       "      <td>...</td>\n",
       "      <td>...</td>\n",
       "    </tr>\n",
       "    <tr>\n",
       "      <th>4158088</th>\n",
       "      <td>London</td>\n",
       "      <td>1838</td>\n",
       "      <td>NaN</td>\n",
       "      <td>The Parochial History of Cornwall, founded on,...</td>\n",
       "      <td>GIDDY, afterwards GILBERT, Davies.</td>\n",
       "      <td>http://www.flickr.com/photos/britishlibrary/ta...</td>\n",
       "      <td>NaN</td>\n",
       "      <td>NaN</td>\n",
       "      <td>NaN</td>\n",
       "      <td>NaN</td>\n",
       "      <td>NaN</td>\n",
       "      <td>NaN</td>\n",
       "      <td>NaN</td>\n",
       "      <td>NaN</td>\n",
       "    </tr>\n",
       "    <tr>\n",
       "      <th>4158128</th>\n",
       "      <td>Derby</td>\n",
       "      <td>1831</td>\n",
       "      <td>M. Mozley &amp; Son</td>\n",
       "      <td>The History and Gazetteer of the County of Der...</td>\n",
       "      <td>GLOVER, Stephen - of Derby</td>\n",
       "      <td>http://www.flickr.com/photos/britishlibrary/ta...</td>\n",
       "      <td>NaN</td>\n",
       "      <td>NaN</td>\n",
       "      <td>NaN</td>\n",
       "      <td>NaN</td>\n",
       "      <td>NaN</td>\n",
       "      <td>NaN</td>\n",
       "      <td>NaN</td>\n",
       "      <td>NaN</td>\n",
       "    </tr>\n",
       "    <tr>\n",
       "      <th>4159563</th>\n",
       "      <td>London</td>\n",
       "      <td>NaN</td>\n",
       "      <td>T. Cadell and W. Davies</td>\n",
       "      <td>Magna Britannia; being a concise topographical...</td>\n",
       "      <td>LYSONS, Daniel - M.A., F.R.S., and LYSONS (Sam...</td>\n",
       "      <td>http://www.flickr.com/photos/britishlibrary/ta...</td>\n",
       "      <td>NaN</td>\n",
       "      <td>NaN</td>\n",
       "      <td>NaN</td>\n",
       "      <td>NaN</td>\n",
       "      <td>NaN</td>\n",
       "      <td>NaN</td>\n",
       "      <td>NaN</td>\n",
       "      <td>NaN</td>\n",
       "    </tr>\n",
       "    <tr>\n",
       "      <th>4159587</th>\n",
       "      <td>Newcastle upon Tyne</td>\n",
       "      <td>1834</td>\n",
       "      <td>Mackenzie &amp; Dent</td>\n",
       "      <td>An historical, topographical and descriptive v...</td>\n",
       "      <td>Mackenzie, E. (Eneas)</td>\n",
       "      <td>http://www.flickr.com/photos/britishlibrary/ta...</td>\n",
       "      <td>NaN</td>\n",
       "      <td>NaN</td>\n",
       "      <td>NaN</td>\n",
       "      <td>NaN</td>\n",
       "      <td>NaN</td>\n",
       "      <td>NaN</td>\n",
       "      <td>NaN</td>\n",
       "      <td>NaN</td>\n",
       "    </tr>\n",
       "    <tr>\n",
       "      <th>4160339</th>\n",
       "      <td>London</td>\n",
       "      <td>1834</td>\n",
       "      <td>NaN</td>\n",
       "      <td>Collectanea Topographica et Genealogica. [Firs...</td>\n",
       "      <td>NaN</td>\n",
       "      <td>http://www.flickr.com/photos/britishlibrary/ta...</td>\n",
       "      <td>NaN</td>\n",
       "      <td>NaN</td>\n",
       "      <td>NaN</td>\n",
       "      <td>NaN</td>\n",
       "      <td>NaN</td>\n",
       "      <td>NaN</td>\n",
       "      <td>NaN</td>\n",
       "      <td>NaN</td>\n",
       "    </tr>\n",
       "  </tbody>\n",
       "</table>\n",
       "<p>8250 rows × 14 columns</p>\n",
       "</div>"
      ],
      "text/plain": [
       "                Place of Publication Date of Publication  \\\n",
       "Identifier                                                 \n",
       "206                           London               1879    \n",
       "216         London; Virtue & Yorston                1868   \n",
       "218                           London                1869   \n",
       "472                           London                1851   \n",
       "480                           London                1857   \n",
       "...                              ...                 ...   \n",
       "4158088                       London                1838   \n",
       "4158128                        Derby                1831   \n",
       "4159563                       London                 NaN   \n",
       "4159587          Newcastle upon Tyne                1834   \n",
       "4160339                       London                1834   \n",
       "\n",
       "                          Publisher  \\\n",
       "Identifier                            \n",
       "206                S. Tinsley & Co.   \n",
       "216                    Virtue & Co.   \n",
       "218           Bradbury, Evans & Co.   \n",
       "472                   James Darling   \n",
       "480            Wertheim & Macintosh   \n",
       "...                             ...   \n",
       "4158088                         NaN   \n",
       "4158128             M. Mozley & Son   \n",
       "4159563     T. Cadell and W. Davies   \n",
       "4159587            Mackenzie & Dent   \n",
       "4160339                         NaN   \n",
       "\n",
       "                                                        Title  \\\n",
       "Identifier                                                      \n",
       "206                         Walter Forbes. [A novel.] By A. A   \n",
       "216         All for Greed. [A novel. The dedication signed...   \n",
       "218         Love the Avenger. By the author of ?�All for G...   \n",
       "472         Welsh Sketches, chiefly ecclesiastical, to the...   \n",
       "480         [The World in which I live, and my place in it...   \n",
       "...                                                       ...   \n",
       "4158088     The Parochial History of Cornwall, founded on,...   \n",
       "4158128     The History and Gazetteer of the County of Der...   \n",
       "4159563     Magna Britannia; being a concise topographical...   \n",
       "4159587     An historical, topographical and descriptive v...   \n",
       "4160339     Collectanea Topographica et Genealogica. [Firs...   \n",
       "\n",
       "                                                       Author  \\\n",
       "Identifier                                                      \n",
       "206                                                     A. A.   \n",
       "216                                                 A., A. A.   \n",
       "218                                                 A., A. A.   \n",
       "472                                                 A., E. S.   \n",
       "480                                                 A., E. S.   \n",
       "...                                                       ...   \n",
       "4158088                    GIDDY, afterwards GILBERT, Davies.   \n",
       "4158128                            GLOVER, Stephen - of Derby   \n",
       "4159563     LYSONS, Daniel - M.A., F.R.S., and LYSONS (Sam...   \n",
       "4159587                                 Mackenzie, E. (Eneas)   \n",
       "4160339                                                   NaN   \n",
       "\n",
       "                                                   Flickr URL Unnamed: 15  \\\n",
       "Identifier                                                                  \n",
       "206         http://www.flickr.com/photos/britishlibrary/ta...         NaN   \n",
       "216         http://www.flickr.com/photos/britishlibrary/ta...         NaN   \n",
       "218         http://www.flickr.com/photos/britishlibrary/ta...         NaN   \n",
       "472         http://www.flickr.com/photos/britishlibrary/ta...         NaN   \n",
       "480         http://www.flickr.com/photos/britishlibrary/ta...         NaN   \n",
       "...                                                       ...         ...   \n",
       "4158088     http://www.flickr.com/photos/britishlibrary/ta...         NaN   \n",
       "4158128     http://www.flickr.com/photos/britishlibrary/ta...         NaN   \n",
       "4159563     http://www.flickr.com/photos/britishlibrary/ta...         NaN   \n",
       "4159587     http://www.flickr.com/photos/britishlibrary/ta...         NaN   \n",
       "4160339     http://www.flickr.com/photos/britishlibrary/ta...         NaN   \n",
       "\n",
       "           Unnamed: 16 Unnamed: 17 Unnamed: 18 Unnamed: 19 Unnamed: 20  \\\n",
       "Identifier                                                               \n",
       "206                NaN         NaN         NaN         NaN         NaN   \n",
       "216                NaN         NaN         NaN         NaN         NaN   \n",
       "218                NaN         NaN         NaN         NaN         NaN   \n",
       "472                NaN         NaN         NaN         NaN         NaN   \n",
       "480                NaN         NaN         NaN         NaN         NaN   \n",
       "...                ...         ...         ...         ...         ...   \n",
       "4158088            NaN         NaN         NaN         NaN         NaN   \n",
       "4158128            NaN         NaN         NaN         NaN         NaN   \n",
       "4159563            NaN         NaN         NaN         NaN         NaN   \n",
       "4159587            NaN         NaN         NaN         NaN         NaN   \n",
       "4160339            NaN         NaN         NaN         NaN         NaN   \n",
       "\n",
       "           Unnamed: 21 Unnamed: 22  \n",
       "Identifier                          \n",
       "206                NaN         NaN  \n",
       "216                NaN         NaN  \n",
       "218                NaN         NaN  \n",
       "472                NaN         NaN  \n",
       "480                NaN         NaN  \n",
       "...                ...         ...  \n",
       "4158088            NaN         NaN  \n",
       "4158128            NaN         NaN  \n",
       "4159563            NaN         NaN  \n",
       "4159587            NaN         NaN  \n",
       "4160339            NaN         NaN  \n",
       "\n",
       "[8250 rows x 14 columns]"
      ]
     },
     "execution_count": 288,
     "metadata": {},
     "output_type": "execute_result"
    }
   ],
   "source": [
    "# 필요없는 character 들\n",
    "# 전체에 대한 cleaning\n",
    "unwanted_characters = ['[', ',', '-']\n",
    "\n",
    "def clean_dates(item):\n",
    "    dop= str(item.loc['Date of Publication'])\n",
    "    \n",
    "    if dop == 'nan' or dop[0] == '[':\n",
    "        return np.NaN\n",
    "    \n",
    "    for character in unwanted_characters:\n",
    "        if character in dop:\n",
    "            character_index = dop.find(character)\n",
    "            dop = dop[:character_index]\n",
    "    \n",
    "    return dop\n",
    "\n",
    "df['Date of Publication'] = df.apply(clean_dates, axis = 1)\n",
    "df"
   ]
  },
  {
   "cell_type": "code",
   "execution_count": 303,
   "id": "bb7f201c",
   "metadata": {
    "scrolled": true
   },
   "outputs": [
    {
     "data": {
      "text/html": [
       "<div>\n",
       "<style scoped>\n",
       "    .dataframe tbody tr th:only-of-type {\n",
       "        vertical-align: middle;\n",
       "    }\n",
       "\n",
       "    .dataframe tbody tr th {\n",
       "        vertical-align: top;\n",
       "    }\n",
       "\n",
       "    .dataframe thead th {\n",
       "        text-align: right;\n",
       "    }\n",
       "</style>\n",
       "<table border=\"1\" class=\"dataframe\">\n",
       "  <thead>\n",
       "    <tr style=\"text-align: right;\">\n",
       "      <th></th>\n",
       "      <th>Identifier</th>\n",
       "      <th>Edition Statement</th>\n",
       "      <th>Place of Publication</th>\n",
       "      <th>Date of Publication</th>\n",
       "      <th>Publisher</th>\n",
       "      <th>Title</th>\n",
       "      <th>Author</th>\n",
       "      <th>Contributors</th>\n",
       "      <th>Corporate Author</th>\n",
       "      <th>Corporate Contributors</th>\n",
       "      <th>...</th>\n",
       "      <th>Flickr URL</th>\n",
       "      <th>Shelfmarks</th>\n",
       "      <th>Unnamed: 15</th>\n",
       "      <th>Unnamed: 16</th>\n",
       "      <th>Unnamed: 17</th>\n",
       "      <th>Unnamed: 18</th>\n",
       "      <th>Unnamed: 19</th>\n",
       "      <th>Unnamed: 20</th>\n",
       "      <th>Unnamed: 21</th>\n",
       "      <th>Unnamed: 22</th>\n",
       "    </tr>\n",
       "  </thead>\n",
       "  <tbody>\n",
       "    <tr>\n",
       "      <th>0</th>\n",
       "      <td>206</td>\n",
       "      <td>NaN</td>\n",
       "      <td>London</td>\n",
       "      <td>1879</td>\n",
       "      <td>S. Tinsley &amp; Co.</td>\n",
       "      <td>Walter Forbes. [A novel.] By A. A</td>\n",
       "      <td>A. A.</td>\n",
       "      <td>FORBES, Walter.</td>\n",
       "      <td>NaN</td>\n",
       "      <td>NaN</td>\n",
       "      <td>...</td>\n",
       "      <td>http://www.flickr.com/photos/britishlibrary/ta...</td>\n",
       "      <td>British Library HMNTS 12641.b.30.</td>\n",
       "      <td>NaN</td>\n",
       "      <td>NaN</td>\n",
       "      <td>NaN</td>\n",
       "      <td>NaN</td>\n",
       "      <td>NaN</td>\n",
       "      <td>NaN</td>\n",
       "      <td>NaN</td>\n",
       "      <td>NaN</td>\n",
       "    </tr>\n",
       "    <tr>\n",
       "      <th>1</th>\n",
       "      <td>216</td>\n",
       "      <td>NaN</td>\n",
       "      <td>London; Virtue &amp; Yorston</td>\n",
       "      <td>1868</td>\n",
       "      <td>Virtue &amp; Co.</td>\n",
       "      <td>All for Greed. [A novel. The dedication signed...</td>\n",
       "      <td>A., A. A.</td>\n",
       "      <td>BLAZE DE BURY, Marie Pauline Rose - Baroness</td>\n",
       "      <td>NaN</td>\n",
       "      <td>NaN</td>\n",
       "      <td>...</td>\n",
       "      <td>http://www.flickr.com/photos/britishlibrary/ta...</td>\n",
       "      <td>British Library HMNTS 12626.cc.2.</td>\n",
       "      <td>NaN</td>\n",
       "      <td>NaN</td>\n",
       "      <td>NaN</td>\n",
       "      <td>NaN</td>\n",
       "      <td>NaN</td>\n",
       "      <td>NaN</td>\n",
       "      <td>NaN</td>\n",
       "      <td>NaN</td>\n",
       "    </tr>\n",
       "    <tr>\n",
       "      <th>2</th>\n",
       "      <td>218</td>\n",
       "      <td>NaN</td>\n",
       "      <td>London</td>\n",
       "      <td>1869</td>\n",
       "      <td>Bradbury, Evans &amp; Co.</td>\n",
       "      <td>Love the Avenger. By the author of ?�All for G...</td>\n",
       "      <td>A., A. A.</td>\n",
       "      <td>BLAZE DE BURY, Marie Pauline Rose - Baroness</td>\n",
       "      <td>NaN</td>\n",
       "      <td>NaN</td>\n",
       "      <td>...</td>\n",
       "      <td>http://www.flickr.com/photos/britishlibrary/ta...</td>\n",
       "      <td>British Library HMNTS 12625.dd.1.</td>\n",
       "      <td>NaN</td>\n",
       "      <td>NaN</td>\n",
       "      <td>NaN</td>\n",
       "      <td>NaN</td>\n",
       "      <td>NaN</td>\n",
       "      <td>NaN</td>\n",
       "      <td>NaN</td>\n",
       "      <td>NaN</td>\n",
       "    </tr>\n",
       "    <tr>\n",
       "      <th>3</th>\n",
       "      <td>472</td>\n",
       "      <td>NaN</td>\n",
       "      <td>London</td>\n",
       "      <td>1851</td>\n",
       "      <td>James Darling</td>\n",
       "      <td>Welsh Sketches, chiefly ecclesiastical, to the...</td>\n",
       "      <td>A., E. S.</td>\n",
       "      <td>Appleyard, Ernest Silvanus.</td>\n",
       "      <td>NaN</td>\n",
       "      <td>NaN</td>\n",
       "      <td>...</td>\n",
       "      <td>http://www.flickr.com/photos/britishlibrary/ta...</td>\n",
       "      <td>British Library HMNTS 10369.bbb.15.</td>\n",
       "      <td>NaN</td>\n",
       "      <td>NaN</td>\n",
       "      <td>NaN</td>\n",
       "      <td>NaN</td>\n",
       "      <td>NaN</td>\n",
       "      <td>NaN</td>\n",
       "      <td>NaN</td>\n",
       "      <td>NaN</td>\n",
       "    </tr>\n",
       "    <tr>\n",
       "      <th>4</th>\n",
       "      <td>480</td>\n",
       "      <td>A new edition, revised, etc.</td>\n",
       "      <td>London</td>\n",
       "      <td>1857</td>\n",
       "      <td>Wertheim &amp; Macintosh</td>\n",
       "      <td>[The World in which I live, and my place in it...</td>\n",
       "      <td>A., E. S.</td>\n",
       "      <td>BROOME, John Henry.</td>\n",
       "      <td>NaN</td>\n",
       "      <td>NaN</td>\n",
       "      <td>...</td>\n",
       "      <td>http://www.flickr.com/photos/britishlibrary/ta...</td>\n",
       "      <td>British Library HMNTS 9007.d.28.</td>\n",
       "      <td>NaN</td>\n",
       "      <td>NaN</td>\n",
       "      <td>NaN</td>\n",
       "      <td>NaN</td>\n",
       "      <td>NaN</td>\n",
       "      <td>NaN</td>\n",
       "      <td>NaN</td>\n",
       "      <td>NaN</td>\n",
       "    </tr>\n",
       "  </tbody>\n",
       "</table>\n",
       "<p>5 rows × 23 columns</p>\n",
       "</div>"
      ],
      "text/plain": [
       "   Identifier             Edition Statement      Place of Publication  \\\n",
       "0         206                           NaN                    London   \n",
       "1         216                           NaN  London; Virtue & Yorston   \n",
       "2         218                           NaN                    London   \n",
       "3         472                           NaN                    London   \n",
       "4         480  A new edition, revised, etc.                    London   \n",
       "\n",
       "  Date of Publication              Publisher  \\\n",
       "0               1879        S. Tinsley & Co.   \n",
       "1                1868           Virtue & Co.   \n",
       "2                1869  Bradbury, Evans & Co.   \n",
       "3                1851          James Darling   \n",
       "4                1857   Wertheim & Macintosh   \n",
       "\n",
       "                                               Title     Author  \\\n",
       "0                  Walter Forbes. [A novel.] By A. A      A. A.   \n",
       "1  All for Greed. [A novel. The dedication signed...  A., A. A.   \n",
       "2  Love the Avenger. By the author of ?�All for G...  A., A. A.   \n",
       "3  Welsh Sketches, chiefly ecclesiastical, to the...  A., E. S.   \n",
       "4  [The World in which I live, and my place in it...  A., E. S.   \n",
       "\n",
       "                                   Contributors Corporate Author  \\\n",
       "0                               FORBES, Walter.              NaN   \n",
       "1  BLAZE DE BURY, Marie Pauline Rose - Baroness              NaN   \n",
       "2  BLAZE DE BURY, Marie Pauline Rose - Baroness              NaN   \n",
       "3                   Appleyard, Ernest Silvanus.              NaN   \n",
       "4                           BROOME, John Henry.              NaN   \n",
       "\n",
       "  Corporate Contributors  ...  \\\n",
       "0                    NaN  ...   \n",
       "1                    NaN  ...   \n",
       "2                    NaN  ...   \n",
       "3                    NaN  ...   \n",
       "4                    NaN  ...   \n",
       "\n",
       "                                          Flickr URL  \\\n",
       "0  http://www.flickr.com/photos/britishlibrary/ta...   \n",
       "1  http://www.flickr.com/photos/britishlibrary/ta...   \n",
       "2  http://www.flickr.com/photos/britishlibrary/ta...   \n",
       "3  http://www.flickr.com/photos/britishlibrary/ta...   \n",
       "4  http://www.flickr.com/photos/britishlibrary/ta...   \n",
       "\n",
       "                            Shelfmarks Unnamed: 15 Unnamed: 16 Unnamed: 17  \\\n",
       "0    British Library HMNTS 12641.b.30.         NaN         NaN         NaN   \n",
       "1    British Library HMNTS 12626.cc.2.         NaN         NaN         NaN   \n",
       "2    British Library HMNTS 12625.dd.1.         NaN         NaN         NaN   \n",
       "3  British Library HMNTS 10369.bbb.15.         NaN         NaN         NaN   \n",
       "4     British Library HMNTS 9007.d.28.         NaN         NaN         NaN   \n",
       "\n",
       "  Unnamed: 18 Unnamed: 19 Unnamed: 20 Unnamed: 21 Unnamed: 22  \n",
       "0         NaN         NaN         NaN         NaN         NaN  \n",
       "1         NaN         NaN         NaN         NaN         NaN  \n",
       "2         NaN         NaN         NaN         NaN         NaN  \n",
       "3         NaN         NaN         NaN         NaN         NaN  \n",
       "4         NaN         NaN         NaN         NaN         NaN  \n",
       "\n",
       "[5 rows x 23 columns]"
      ]
     },
     "execution_count": 303,
     "metadata": {},
     "output_type": "execute_result"
    }
   ],
   "source": [
    "#alternate way of cleaning Date of Publication\n",
    "#run cell to see output\n",
    "unwanted_characters = ['[', ',', '-']\n",
    "\n",
    "def clean_dates(dop):\n",
    "    dop = str(dop)\n",
    "    if dop.startswith('[') or dop == 'nan':\n",
    "        return 'NaN'\n",
    "    for character in unwanted_characters:\n",
    "        if character in dop:\n",
    "            character_index = dop.find(character)\n",
    "            dop = dop[:character_index]\n",
    "    return dop\n",
    "\n",
    "df['Date of Publication'] = df['Date of Publication'].apply(clean_dates)\n",
    "df.head()"
   ]
  },
  {
   "cell_type": "code",
   "execution_count": 304,
   "id": "3340444a",
   "metadata": {
    "scrolled": true
   },
   "outputs": [
    {
     "data": {
      "text/html": [
       "<div>\n",
       "<style scoped>\n",
       "    .dataframe tbody tr th:only-of-type {\n",
       "        vertical-align: middle;\n",
       "    }\n",
       "\n",
       "    .dataframe tbody tr th {\n",
       "        vertical-align: top;\n",
       "    }\n",
       "\n",
       "    .dataframe thead th {\n",
       "        text-align: right;\n",
       "    }\n",
       "</style>\n",
       "<table border=\"1\" class=\"dataframe\">\n",
       "  <thead>\n",
       "    <tr style=\"text-align: right;\">\n",
       "      <th></th>\n",
       "      <th>Identifier</th>\n",
       "      <th>Edition Statement</th>\n",
       "      <th>Place of Publication</th>\n",
       "      <th>Date of Publication</th>\n",
       "      <th>Publisher</th>\n",
       "      <th>Title</th>\n",
       "      <th>Author</th>\n",
       "      <th>Contributors</th>\n",
       "      <th>Corporate Author</th>\n",
       "      <th>Corporate Contributors</th>\n",
       "      <th>...</th>\n",
       "      <th>Flickr URL</th>\n",
       "      <th>Shelfmarks</th>\n",
       "      <th>Unnamed: 15</th>\n",
       "      <th>Unnamed: 16</th>\n",
       "      <th>Unnamed: 17</th>\n",
       "      <th>Unnamed: 18</th>\n",
       "      <th>Unnamed: 19</th>\n",
       "      <th>Unnamed: 20</th>\n",
       "      <th>Unnamed: 21</th>\n",
       "      <th>Unnamed: 22</th>\n",
       "    </tr>\n",
       "  </thead>\n",
       "  <tbody>\n",
       "    <tr>\n",
       "      <th>0</th>\n",
       "      <td>206</td>\n",
       "      <td>NaN</td>\n",
       "      <td>London</td>\n",
       "      <td>1879</td>\n",
       "      <td>S. Tinsley &amp; Co.</td>\n",
       "      <td>Walter Forbes</td>\n",
       "      <td>A. A.</td>\n",
       "      <td>FORBES, Walter.</td>\n",
       "      <td>NaN</td>\n",
       "      <td>NaN</td>\n",
       "      <td>...</td>\n",
       "      <td>http://www.flickr.com/photos/britishlibrary/ta...</td>\n",
       "      <td>British Library HMNTS 12641.b.30.</td>\n",
       "      <td>NaN</td>\n",
       "      <td>NaN</td>\n",
       "      <td>NaN</td>\n",
       "      <td>NaN</td>\n",
       "      <td>NaN</td>\n",
       "      <td>NaN</td>\n",
       "      <td>NaN</td>\n",
       "      <td>NaN</td>\n",
       "    </tr>\n",
       "    <tr>\n",
       "      <th>1</th>\n",
       "      <td>216</td>\n",
       "      <td>NaN</td>\n",
       "      <td>London; Virtue &amp; Yorston</td>\n",
       "      <td>1868</td>\n",
       "      <td>Virtue &amp; Co.</td>\n",
       "      <td>All For Greed</td>\n",
       "      <td>A., A. A.</td>\n",
       "      <td>BLAZE DE BURY, Marie Pauline Rose - Baroness</td>\n",
       "      <td>NaN</td>\n",
       "      <td>NaN</td>\n",
       "      <td>...</td>\n",
       "      <td>http://www.flickr.com/photos/britishlibrary/ta...</td>\n",
       "      <td>British Library HMNTS 12626.cc.2.</td>\n",
       "      <td>NaN</td>\n",
       "      <td>NaN</td>\n",
       "      <td>NaN</td>\n",
       "      <td>NaN</td>\n",
       "      <td>NaN</td>\n",
       "      <td>NaN</td>\n",
       "      <td>NaN</td>\n",
       "      <td>NaN</td>\n",
       "    </tr>\n",
       "    <tr>\n",
       "      <th>2</th>\n",
       "      <td>218</td>\n",
       "      <td>NaN</td>\n",
       "      <td>London</td>\n",
       "      <td>1869</td>\n",
       "      <td>Bradbury, Evans &amp; Co.</td>\n",
       "      <td>None</td>\n",
       "      <td>A., A. A.</td>\n",
       "      <td>BLAZE DE BURY, Marie Pauline Rose - Baroness</td>\n",
       "      <td>NaN</td>\n",
       "      <td>NaN</td>\n",
       "      <td>...</td>\n",
       "      <td>http://www.flickr.com/photos/britishlibrary/ta...</td>\n",
       "      <td>British Library HMNTS 12625.dd.1.</td>\n",
       "      <td>NaN</td>\n",
       "      <td>NaN</td>\n",
       "      <td>NaN</td>\n",
       "      <td>NaN</td>\n",
       "      <td>NaN</td>\n",
       "      <td>NaN</td>\n",
       "      <td>NaN</td>\n",
       "      <td>NaN</td>\n",
       "    </tr>\n",
       "    <tr>\n",
       "      <th>3</th>\n",
       "      <td>472</td>\n",
       "      <td>NaN</td>\n",
       "      <td>London</td>\n",
       "      <td>1851</td>\n",
       "      <td>James Darling</td>\n",
       "      <td>None</td>\n",
       "      <td>A., E. S.</td>\n",
       "      <td>Appleyard, Ernest Silvanus.</td>\n",
       "      <td>NaN</td>\n",
       "      <td>NaN</td>\n",
       "      <td>...</td>\n",
       "      <td>http://www.flickr.com/photos/britishlibrary/ta...</td>\n",
       "      <td>British Library HMNTS 10369.bbb.15.</td>\n",
       "      <td>NaN</td>\n",
       "      <td>NaN</td>\n",
       "      <td>NaN</td>\n",
       "      <td>NaN</td>\n",
       "      <td>NaN</td>\n",
       "      <td>NaN</td>\n",
       "      <td>NaN</td>\n",
       "      <td>NaN</td>\n",
       "    </tr>\n",
       "    <tr>\n",
       "      <th>4</th>\n",
       "      <td>480</td>\n",
       "      <td>A new edition, revised, etc.</td>\n",
       "      <td>London</td>\n",
       "      <td>1857</td>\n",
       "      <td>Wertheim &amp; Macintosh</td>\n",
       "      <td>None</td>\n",
       "      <td>A., E. S.</td>\n",
       "      <td>BROOME, John Henry.</td>\n",
       "      <td>NaN</td>\n",
       "      <td>NaN</td>\n",
       "      <td>...</td>\n",
       "      <td>http://www.flickr.com/photos/britishlibrary/ta...</td>\n",
       "      <td>British Library HMNTS 9007.d.28.</td>\n",
       "      <td>NaN</td>\n",
       "      <td>NaN</td>\n",
       "      <td>NaN</td>\n",
       "      <td>NaN</td>\n",
       "      <td>NaN</td>\n",
       "      <td>NaN</td>\n",
       "      <td>NaN</td>\n",
       "      <td>NaN</td>\n",
       "    </tr>\n",
       "  </tbody>\n",
       "</table>\n",
       "<p>5 rows × 23 columns</p>\n",
       "</div>"
      ],
      "text/plain": [
       "   Identifier             Edition Statement      Place of Publication  \\\n",
       "0         206                           NaN                    London   \n",
       "1         216                           NaN  London; Virtue & Yorston   \n",
       "2         218                           NaN                    London   \n",
       "3         472                           NaN                    London   \n",
       "4         480  A new edition, revised, etc.                    London   \n",
       "\n",
       "  Date of Publication              Publisher          Title     Author  \\\n",
       "0               1879        S. Tinsley & Co.  Walter Forbes      A. A.   \n",
       "1                1868           Virtue & Co.  All For Greed  A., A. A.   \n",
       "2                1869  Bradbury, Evans & Co.           None  A., A. A.   \n",
       "3                1851          James Darling           None  A., E. S.   \n",
       "4                1857   Wertheim & Macintosh           None  A., E. S.   \n",
       "\n",
       "                                   Contributors Corporate Author  \\\n",
       "0                               FORBES, Walter.              NaN   \n",
       "1  BLAZE DE BURY, Marie Pauline Rose - Baroness              NaN   \n",
       "2  BLAZE DE BURY, Marie Pauline Rose - Baroness              NaN   \n",
       "3                   Appleyard, Ernest Silvanus.              NaN   \n",
       "4                           BROOME, John Henry.              NaN   \n",
       "\n",
       "  Corporate Contributors  ...  \\\n",
       "0                    NaN  ...   \n",
       "1                    NaN  ...   \n",
       "2                    NaN  ...   \n",
       "3                    NaN  ...   \n",
       "4                    NaN  ...   \n",
       "\n",
       "                                          Flickr URL  \\\n",
       "0  http://www.flickr.com/photos/britishlibrary/ta...   \n",
       "1  http://www.flickr.com/photos/britishlibrary/ta...   \n",
       "2  http://www.flickr.com/photos/britishlibrary/ta...   \n",
       "3  http://www.flickr.com/photos/britishlibrary/ta...   \n",
       "4  http://www.flickr.com/photos/britishlibrary/ta...   \n",
       "\n",
       "                            Shelfmarks Unnamed: 15 Unnamed: 16 Unnamed: 17  \\\n",
       "0    British Library HMNTS 12641.b.30.         NaN         NaN         NaN   \n",
       "1    British Library HMNTS 12626.cc.2.         NaN         NaN         NaN   \n",
       "2    British Library HMNTS 12625.dd.1.         NaN         NaN         NaN   \n",
       "3  British Library HMNTS 10369.bbb.15.         NaN         NaN         NaN   \n",
       "4     British Library HMNTS 9007.d.28.         NaN         NaN         NaN   \n",
       "\n",
       "  Unnamed: 18 Unnamed: 19 Unnamed: 20 Unnamed: 21 Unnamed: 22  \n",
       "0         NaN         NaN         NaN         NaN         NaN  \n",
       "1         NaN         NaN         NaN         NaN         NaN  \n",
       "2         NaN         NaN         NaN         NaN         NaN  \n",
       "3         NaN         NaN         NaN         NaN         NaN  \n",
       "4         NaN         NaN         NaN         NaN         NaN  \n",
       "\n",
       "[5 rows x 23 columns]"
      ]
     },
     "execution_count": 304,
     "metadata": {},
     "output_type": "execute_result"
    }
   ],
   "source": [
    "def clean_title(title):\n",
    "    title = str(title)\n",
    "    if title == 'nan':\n",
    "        return 'NaN'\n",
    "    if title[0] == '[':\n",
    "        title = title[1: title.find(']')]\n",
    "    if 'by' in title:\n",
    "        title = title[:title.find('by')]\n",
    "    elif 'By' in title:\n",
    "        title = title[:title.find('By')]\n",
    "    if '[' in title:\n",
    "        title = title[:title.find('[')]\n",
    "        title = title[:-2]\n",
    "        title = list(map(str.capitalize, title.split()))\n",
    "        return ' '.join(title)\n",
    "    \n",
    "df['Title'] = df['Title'].apply(clean_title)\n",
    "df.head()\n"
   ]
  },
  {
   "cell_type": "code",
   "execution_count": 305,
   "id": "e82688ac",
   "metadata": {},
   "outputs": [
    {
     "data": {
      "text/plain": [
       "0                    London\n",
       "1                    London\n",
       "2                    London\n",
       "3                    London\n",
       "4                    London\n",
       "               ...         \n",
       "8245                 London\n",
       "8246                  Derby\n",
       "8247                 London\n",
       "8248    Newcastle-upon-Tyne\n",
       "8249                 London\n",
       "Name: Place of Publication, Length: 8250, dtype: object"
      ]
     },
     "execution_count": 305,
     "metadata": {},
     "output_type": "execute_result"
    }
   ],
   "source": [
    "pub = df['Place of Publication']\n",
    "df['Place of Publication'] = np.where(pub.str.contains('London'), 'London',\n",
    "    np.where(pub.str.contains('Oxford'), 'Oxford',\n",
    "        np.where(pub.eq('Newcastle upon Tyne'),\n",
    "            'Newcastle-upon-Tyne', df['Place of Publication'])))\n",
    "pub"
   ]
  },
  {
   "cell_type": "code",
   "execution_count": 4,
   "id": "c69be6fc",
   "metadata": {},
   "outputs": [
    {
     "name": "stdout",
     "output_type": "stream",
     "text": [
      "           PID  ST_NUM    ST_NAME OWN_OCCUPIED NUM_BEDROOMS  NUM_BATH SQ_FT\n",
      "0  100001000.0   104.0     PUTNAM            Y            3       1.0  1000\n",
      "1  100002000.0   197.0  LEXINGTON            N            3       1.5     :\n",
      "2  100003000.0     NaN  LEXINGTON            N          NaN       1.0   850\n",
      "3  100004000.0   201.0   BERKELEY           12            1       NaN   700\n",
      "4          NaN   203.0   BERKELEY            Y            3       2.0  1600\n",
      "<class 'pandas.core.frame.DataFrame'>\n",
      "RangeIndex: 9 entries, 0 to 8\n",
      "Data columns (total 7 columns):\n",
      " #   Column        Non-Null Count  Dtype  \n",
      "---  ------        --------------  -----  \n",
      " 0   PID           8 non-null      float64\n",
      " 1   ST_NUM        7 non-null      float64\n",
      " 2   ST_NAME       9 non-null      object \n",
      " 3   OWN_OCCUPIED  8 non-null      object \n",
      " 4   NUM_BEDROOMS  7 non-null      object \n",
      " 5   NUM_BATH      8 non-null      float64\n",
      " 6   SQ_FT         8 non-null      object \n",
      "dtypes: float64(3), object(4)\n",
      "memory usage: 632.0+ bytes\n"
     ]
    }
   ],
   "source": [
    "# Importing libraries\n",
    "import pandas as pd\n",
    "import numpy as np\n",
    "\n",
    "# Read csv file into a pandas dataframe\n",
    "df = pd.read_csv(\"property_data_new.csv\")\n",
    "\n",
    "# Take a look at the first few rows\n",
    "print(df.head())\n",
    "df.info()"
   ]
  },
  {
   "cell_type": "code",
   "execution_count": 7,
   "id": "1310949b",
   "metadata": {
    "scrolled": true
   },
   "outputs": [
    {
     "name": "stdout",
     "output_type": "stream",
     "text": [
      "0    104.0\n",
      "1    197.0\n",
      "2      NaN\n",
      "3    201.0\n",
      "4    203.0\n",
      "5    207.0\n",
      "6      NaN\n",
      "7    213.0\n",
      "8    215.0\n",
      "Name: ST_NUM, dtype: float64\n",
      "0    False\n",
      "1    False\n",
      "2     True\n",
      "3    False\n",
      "4    False\n",
      "5    False\n",
      "6     True\n",
      "7    False\n",
      "8    False\n",
      "Name: ST_NUM, dtype: bool\n",
      "0      3\n",
      "1      3\n",
      "2    NaN\n",
      "3      1\n",
      "4      3\n",
      "5    NaN\n",
      "6      2\n",
      "7      1\n",
      "8     na\n",
      "Name: NUM_BEDROOMS, dtype: object\n",
      "0    False\n",
      "1    False\n",
      "2     True\n",
      "3    False\n",
      "4    False\n",
      "5     True\n",
      "6    False\n",
      "7    False\n",
      "8    False\n",
      "Name: NUM_BEDROOMS, dtype: bool\n",
      "0    3.0\n",
      "1    3.0\n",
      "2    NaN\n",
      "3    1.0\n",
      "4    3.0\n",
      "5    NaN\n",
      "6    2.0\n",
      "7    1.0\n",
      "8    NaN\n",
      "Name: NUM_BEDROOMS, dtype: float64\n",
      "0    False\n",
      "1    False\n",
      "2     True\n",
      "3    False\n",
      "4    False\n",
      "5     True\n",
      "6    False\n",
      "7    False\n",
      "8     True\n",
      "Name: NUM_BEDROOMS, dtype: bool\n"
     ]
    }
   ],
   "source": [
    "# Looking at the ST_NUM column\n",
    "print (df['ST_NUM'])\n",
    "print (df['ST_NUM'].isnull())\n",
    "\n",
    "# Looking at the NUM_BEDROOMS column\n",
    "print(df['NUM_BEDROOMS'])\n",
    "print(df['NUM_BEDROOMS'].isnull())\n",
    "\n",
    "# Making a list of missing value types\n",
    "missing_values = [\"n/a\", \"na\", \"--\"]\n",
    "df = pd.read_csv(\"property_data_new.csv\", na_values = missing_values)\n",
    "# Looking at the NUM_BEDROOMS column\n",
    "print(df['NUM_BEDROOMS'])\n",
    "print(df['NUM_BEDROOMS'].isnull())\n"
   ]
  },
  {
   "cell_type": "code",
   "execution_count": 8,
   "id": "75adc771",
   "metadata": {
    "scrolled": true
   },
   "outputs": [
    {
     "name": "stdout",
     "output_type": "stream",
     "text": [
      "0      Y\n",
      "1      N\n",
      "2      N\n",
      "3     12\n",
      "4      Y\n",
      "5      Y\n",
      "6    NaN\n",
      "7      Y\n",
      "8      Y\n",
      "Name: OWN_OCCUPIED, dtype: object\n",
      "1\n",
      "0      Y\n",
      "1      N\n",
      "2      N\n",
      "3     12\n",
      "4      Y\n",
      "5      Y\n",
      "6    NaN\n",
      "7      Y\n",
      "8      Y\n",
      "Name: OWN_OCCUPIED, dtype: object\n",
      "2\n",
      "0      Y\n",
      "1      N\n",
      "2      N\n",
      "3     12\n",
      "4      Y\n",
      "5      Y\n",
      "6    NaN\n",
      "7      Y\n",
      "8      Y\n",
      "Name: OWN_OCCUPIED, dtype: object\n",
      "3\n",
      "0      Y\n",
      "1      N\n",
      "2      N\n",
      "3    NaN\n",
      "4      Y\n",
      "5      Y\n",
      "6    NaN\n",
      "7      Y\n",
      "8      Y\n",
      "Name: OWN_OCCUPIED, dtype: object\n",
      "4\n",
      "0      Y\n",
      "1      N\n",
      "2      N\n",
      "3    NaN\n",
      "4      Y\n",
      "5      Y\n",
      "6    NaN\n",
      "7      Y\n",
      "8      Y\n",
      "Name: OWN_OCCUPIED, dtype: object\n",
      "5\n",
      "0      Y\n",
      "1      N\n",
      "2      N\n",
      "3    NaN\n",
      "4      Y\n",
      "5      Y\n",
      "6    NaN\n",
      "7      Y\n",
      "8      Y\n",
      "Name: OWN_OCCUPIED, dtype: object\n",
      "6\n",
      "0      Y\n",
      "1      N\n",
      "2      N\n",
      "3    NaN\n",
      "4      Y\n",
      "5      Y\n",
      "6    NaN\n",
      "7      Y\n",
      "8      Y\n",
      "Name: OWN_OCCUPIED, dtype: object\n",
      "7\n",
      "0      Y\n",
      "1      N\n",
      "2      N\n",
      "3    NaN\n",
      "4      Y\n",
      "5      Y\n",
      "6    NaN\n",
      "7      Y\n",
      "8      Y\n",
      "Name: OWN_OCCUPIED, dtype: object\n",
      "8\n",
      "0      Y\n",
      "1      N\n",
      "2      N\n",
      "3    NaN\n",
      "4      Y\n",
      "5      Y\n",
      "6    NaN\n",
      "7      Y\n",
      "8      Y\n",
      "Name: OWN_OCCUPIED, dtype: object\n",
      "9\n"
     ]
    }
   ],
   "source": [
    "# Detecting numbers \n",
    "cnt=0\n",
    "for row in df['OWN_OCCUPIED']:\n",
    "    try:\n",
    "        int(row)\n",
    "        df.loc[cnt, 'OWN_OCCUPIED']=np.nan\n",
    "    except ValueError:\n",
    "        pass\n",
    "    cnt+=1\n",
    "    \n",
    "    print(df['OWN_OCCUPIED'])\n",
    "    print(cnt)\n"
   ]
  },
  {
   "cell_type": "code",
   "execution_count": 9,
   "id": "2abe5b4a",
   "metadata": {
    "scrolled": true
   },
   "outputs": [
    {
     "name": "stdout",
     "output_type": "stream",
     "text": [
      "PID             1\n",
      "ST_NUM          2\n",
      "ST_NAME         0\n",
      "OWN_OCCUPIED    2\n",
      "NUM_BEDROOMS    3\n",
      "NUM_BATH        1\n",
      "SQ_FT           1\n",
      "dtype: int64\n",
      "0    104.0\n",
      "1    197.0\n",
      "2    125.0\n",
      "3    201.0\n",
      "4    203.0\n",
      "5    207.0\n",
      "6    125.0\n",
      "7    213.0\n",
      "8    215.0\n",
      "Name: ST_NUM, dtype: float64\n",
      "0    3.0\n",
      "1    3.0\n",
      "2    2.5\n",
      "3    1.0\n",
      "4    3.0\n",
      "5    2.5\n",
      "6    2.0\n",
      "7    1.0\n",
      "8    2.5\n",
      "Name: NUM_BEDROOMS, dtype: float64\n"
     ]
    }
   ],
   "source": [
    "# Total missing values for each feature\n",
    "print(df.isnull().sum())\n",
    "\n",
    "# Replace missing values with a number\n",
    "df['ST_NUM'].fillna(125, inplace=True)\n",
    "print(df['ST_NUM'])\n",
    "\n",
    "# Replace using median \n",
    "median = df['NUM_BEDROOMS'].median()\n",
    "df['NUM_BEDROOMS'].fillna(median, inplace=True)\n",
    "print(df['NUM_BEDROOMS'])"
   ]
  },
  {
   "cell_type": "code",
   "execution_count": 25,
   "id": "18d2e169",
   "metadata": {},
   "outputs": [
    {
     "data": {
      "image/png": "[encoded data removed]",
      "text/plain": [
       "<Figure size 432x288 with 1 Axes>"
      ]
     },
     "metadata": {
      "needs_background": "light"
     },
     "output_type": "display_data"
    }
   ],
   "source": [
    "import matplotlib.pyplot as plt\n",
    "import numpy as np\n",
    "    \n",
    "x = np.linspace(0, 10, 100) \n",
    "fig = plt.figure()\n",
    "plt.plot(x, np.sin(x), '-')\n",
    "plt.plot(x, np.cos(x), '--');\n",
    "# plt.plot(x, np.tan(x), '--')\n",
    "\n",
    "plt.show()"
   ]
  },
  {
   "cell_type": "code",
   "execution_count": 26,
   "id": "dc95a64d",
   "metadata": {},
   "outputs": [
    {
     "data": {
      "image/png": "[encoded data removed]",
      "text/plain": [
       "<Figure size 432x288 with 1 Axes>"
      ]
     },
     "metadata": {
      "needs_background": "light"
     },
     "output_type": "display_data"
    }
   ],
   "source": [
    "plt.plot(x, np.sin(x - 0), color='blue')         # 색상의 이름으로 지정\n",
    "plt.plot(x, np.sin(x - 1), color='g')            # 색상 코드\n",
    "plt.plot(x, np.sin(x - 2), color='0.75')         # 0과 1사이의 숫자로 회색조 지정\n",
    "plt.plot(x, np.sin(x - 3), color='#FFDD44')      # 16진수 코드\n",
    "plt.plot(x, np.sin(x - 4), color=(1.0,0.2,0.3))  # RGB값\n",
    "plt.plot(x, np.sin(x - 5), color='chartreuse');  # HTML 색상 이름\n",
    "\n",
    "plt.show()"
   ]
  },
  {
   "cell_type": "code",
   "execution_count": 27,
   "id": "4d4a51ee",
   "metadata": {},
   "outputs": [
    {
     "data": {
      "image/png": "[encoded data removed]",
      "text/plain": [
       "<Figure size 432x288 with 1 Axes>"
      ]
     },
     "metadata": {
      "needs_background": "light"
     },
     "output_type": "display_data"
    }
   ],
   "source": [
    "plt.plot(x, x + 0, linestyle='solid')    # 실선\n",
    "plt.plot(x, x + 1, linestyle='dashed')   # 파선\n",
    "plt.plot(x, x + 2, linestyle='dashdot')  # 쇄선\n",
    "plt.plot(x, x + 3, linestyle='dotted');  # 점선\n",
    "plt.plot(x, x + 4, linestyle='-')\n",
    "plt.plot(x, x + 5, linestyle='--')\n",
    "plt.plot(x, x + 6, linestyle='-.')\n",
    "plt.plot(x, x + 7, linestyle=':');\n",
    "\n",
    "plt.show()"
   ]
  },
  {
   "cell_type": "code",
   "execution_count": 31,
   "id": "8086cdae",
   "metadata": {},
   "outputs": [
    {
     "data": {
      "image/png": "[encoded data removed]",
      "text/plain": [
       "<Figure size 432x288 with 1 Axes>"
      ]
     },
     "metadata": {
      "needs_background": "light"
     },
     "output_type": "display_data"
    }
   ],
   "source": [
    "# x축 y축 범위 정하기\n",
    "plt.plot(x, np.sin(x))\n",
    "plt.xlim(-1, 11)\n",
    "plt.ylim(-1.5, 1.5);"
   ]
  },
  {
   "cell_type": "code",
   "execution_count": 32,
   "id": "d9a1e90a",
   "metadata": {},
   "outputs": [
    {
     "data": {
      "image/png": "[encoded data removed]",
      "text/plain": [
       "<Figure size 432x288 with 1 Axes>"
      ]
     },
     "metadata": {
      "needs_background": "light"
     },
     "output_type": "display_data"
    }
   ],
   "source": [
    "# label 이름 붙여주기\n",
    "plt.plot(x, np.sin(x))\n",
    "plt.title(\"A Sine Curve\")\n",
    "plt.xlabel(\"x\")\n",
    "plt.ylabel(\"sin(x)\")\n",
    "plt.show()"
   ]
  },
  {
   "cell_type": "code",
   "execution_count": 34,
   "id": "7604724b",
   "metadata": {},
   "outputs": [
    {
     "data": {
      "image/png": "[encoded data removed]",
      "text/plain": [
       "<Figure size 432x288 with 1 Axes>"
      ]
     },
     "metadata": {
      "needs_background": "light"
     },
     "output_type": "display_data"
    }
   ],
   "source": [
    "plt.plot(x,np.sin(x), '-g', label='sin(x)')\n",
    "plt.plot(x,np.cos(x), ':b', label='cos(x)')\n",
    "plt.axis('equal')\n",
    "plt.legend();\n",
    "plt.title(\"sin and cos\")\n",
    "plt.show()"
   ]
  },
  {
   "cell_type": "code",
   "execution_count": 44,
   "id": "06da8376",
   "metadata": {},
   "outputs": [
    {
     "data": {
      "text/html": [
       "<div>\n",
       "<style scoped>\n",
       "    .dataframe tbody tr th:only-of-type {\n",
       "        vertical-align: middle;\n",
       "    }\n",
       "\n",
       "    .dataframe tbody tr th {\n",
       "        vertical-align: top;\n",
       "    }\n",
       "\n",
       "    .dataframe thead th {\n",
       "        text-align: right;\n",
       "    }\n",
       "</style>\n",
       "<table border=\"1\" class=\"dataframe\">\n",
       "  <thead>\n",
       "    <tr style=\"text-align: right;\">\n",
       "      <th></th>\n",
       "      <th>Sepal length</th>\n",
       "      <th>Sepal width</th>\n",
       "      <th>Petal length</th>\n",
       "      <th>Petal width</th>\n",
       "      <th>labels</th>\n",
       "    </tr>\n",
       "  </thead>\n",
       "  <tbody>\n",
       "    <tr>\n",
       "      <th>0</th>\n",
       "      <td>5.1</td>\n",
       "      <td>3.5</td>\n",
       "      <td>1.4</td>\n",
       "      <td>0.2</td>\n",
       "      <td>0</td>\n",
       "    </tr>\n",
       "    <tr>\n",
       "      <th>1</th>\n",
       "      <td>4.9</td>\n",
       "      <td>3.0</td>\n",
       "      <td>1.4</td>\n",
       "      <td>0.2</td>\n",
       "      <td>0</td>\n",
       "    </tr>\n",
       "    <tr>\n",
       "      <th>2</th>\n",
       "      <td>4.7</td>\n",
       "      <td>3.2</td>\n",
       "      <td>1.3</td>\n",
       "      <td>0.2</td>\n",
       "      <td>0</td>\n",
       "    </tr>\n",
       "    <tr>\n",
       "      <th>3</th>\n",
       "      <td>4.6</td>\n",
       "      <td>3.1</td>\n",
       "      <td>1.5</td>\n",
       "      <td>0.2</td>\n",
       "      <td>0</td>\n",
       "    </tr>\n",
       "    <tr>\n",
       "      <th>4</th>\n",
       "      <td>5.0</td>\n",
       "      <td>3.6</td>\n",
       "      <td>1.4</td>\n",
       "      <td>0.2</td>\n",
       "      <td>0</td>\n",
       "    </tr>\n",
       "    <tr>\n",
       "      <th>...</th>\n",
       "      <td>...</td>\n",
       "      <td>...</td>\n",
       "      <td>...</td>\n",
       "      <td>...</td>\n",
       "      <td>...</td>\n",
       "    </tr>\n",
       "    <tr>\n",
       "      <th>145</th>\n",
       "      <td>6.7</td>\n",
       "      <td>3.0</td>\n",
       "      <td>5.2</td>\n",
       "      <td>2.3</td>\n",
       "      <td>2</td>\n",
       "    </tr>\n",
       "    <tr>\n",
       "      <th>146</th>\n",
       "      <td>6.3</td>\n",
       "      <td>2.5</td>\n",
       "      <td>5.0</td>\n",
       "      <td>1.9</td>\n",
       "      <td>2</td>\n",
       "    </tr>\n",
       "    <tr>\n",
       "      <th>147</th>\n",
       "      <td>6.5</td>\n",
       "      <td>3.0</td>\n",
       "      <td>5.2</td>\n",
       "      <td>2.0</td>\n",
       "      <td>2</td>\n",
       "    </tr>\n",
       "    <tr>\n",
       "      <th>148</th>\n",
       "      <td>6.2</td>\n",
       "      <td>3.4</td>\n",
       "      <td>5.4</td>\n",
       "      <td>2.3</td>\n",
       "      <td>2</td>\n",
       "    </tr>\n",
       "    <tr>\n",
       "      <th>149</th>\n",
       "      <td>5.9</td>\n",
       "      <td>3.0</td>\n",
       "      <td>5.1</td>\n",
       "      <td>1.8</td>\n",
       "      <td>2</td>\n",
       "    </tr>\n",
       "  </tbody>\n",
       "</table>\n",
       "<p>150 rows × 5 columns</p>\n",
       "</div>"
      ],
      "text/plain": [
       "     Sepal length  Sepal width  Petal length  Petal width  labels\n",
       "0             5.1          3.5           1.4          0.2       0\n",
       "1             4.9          3.0           1.4          0.2       0\n",
       "2             4.7          3.2           1.3          0.2       0\n",
       "3             4.6          3.1           1.5          0.2       0\n",
       "4             5.0          3.6           1.4          0.2       0\n",
       "..            ...          ...           ...          ...     ...\n",
       "145           6.7          3.0           5.2          2.3       2\n",
       "146           6.3          2.5           5.0          1.9       2\n",
       "147           6.5          3.0           5.2          2.0       2\n",
       "148           6.2          3.4           5.4          2.3       2\n",
       "149           5.9          3.0           5.1          1.8       2\n",
       "\n",
       "[150 rows x 5 columns]"
      ]
     },
     "execution_count": 44,
     "metadata": {},
     "output_type": "execute_result"
    }
   ],
   "source": [
    "from sklearn import datasets\n",
    "import seaborn as sns\n",
    "\n",
    "iris = datasets.load_iris()\n",
    "\n",
    "labels = pd.DataFrame(iris.target)\n",
    "labels.columns = ['labels']\n",
    "dataset = pd.DataFrame(iris.data)\n",
    "dataset.columns = ['Sepal length', 'Sepal width', 'Petal length', 'Petal width']\n",
    "data = pd.concat([dataset, labels], axis = 1)\n",
    "data"
   ]
  },
  {
   "cell_type": "code",
   "execution_count": 47,
   "id": "104dcd14",
   "metadata": {},
   "outputs": [
    {
     "data": {
      "text/html": [
       "<div>\n",
       "<style scoped>\n",
       "    .dataframe tbody tr th:only-of-type {\n",
       "        vertical-align: middle;\n",
       "    }\n",
       "\n",
       "    .dataframe tbody tr th {\n",
       "        vertical-align: top;\n",
       "    }\n",
       "\n",
       "    .dataframe thead th {\n",
       "        text-align: right;\n",
       "    }\n",
       "</style>\n",
       "<table border=\"1\" class=\"dataframe\">\n",
       "  <thead>\n",
       "    <tr style=\"text-align: right;\">\n",
       "      <th></th>\n",
       "      <th>Sepal length</th>\n",
       "      <th>Sepal width</th>\n",
       "      <th>Petal length</th>\n",
       "      <th>Petal width</th>\n",
       "      <th>labels</th>\n",
       "    </tr>\n",
       "  </thead>\n",
       "  <tbody>\n",
       "    <tr>\n",
       "      <th>count</th>\n",
       "      <td>150.000000</td>\n",
       "      <td>150.000000</td>\n",
       "      <td>150.000000</td>\n",
       "      <td>150.000000</td>\n",
       "      <td>150.000000</td>\n",
       "    </tr>\n",
       "    <tr>\n",
       "      <th>mean</th>\n",
       "      <td>5.843333</td>\n",
       "      <td>3.057333</td>\n",
       "      <td>3.758000</td>\n",
       "      <td>1.199333</td>\n",
       "      <td>1.000000</td>\n",
       "    </tr>\n",
       "    <tr>\n",
       "      <th>std</th>\n",
       "      <td>0.828066</td>\n",
       "      <td>0.435866</td>\n",
       "      <td>1.765298</td>\n",
       "      <td>0.762238</td>\n",
       "      <td>0.819232</td>\n",
       "    </tr>\n",
       "    <tr>\n",
       "      <th>min</th>\n",
       "      <td>4.300000</td>\n",
       "      <td>2.000000</td>\n",
       "      <td>1.000000</td>\n",
       "      <td>0.100000</td>\n",
       "      <td>0.000000</td>\n",
       "    </tr>\n",
       "    <tr>\n",
       "      <th>25%</th>\n",
       "      <td>5.100000</td>\n",
       "      <td>2.800000</td>\n",
       "      <td>1.600000</td>\n",
       "      <td>0.300000</td>\n",
       "      <td>0.000000</td>\n",
       "    </tr>\n",
       "    <tr>\n",
       "      <th>50%</th>\n",
       "      <td>5.800000</td>\n",
       "      <td>3.000000</td>\n",
       "      <td>4.350000</td>\n",
       "      <td>1.300000</td>\n",
       "      <td>1.000000</td>\n",
       "    </tr>\n",
       "    <tr>\n",
       "      <th>75%</th>\n",
       "      <td>6.400000</td>\n",
       "      <td>3.300000</td>\n",
       "      <td>5.100000</td>\n",
       "      <td>1.800000</td>\n",
       "      <td>2.000000</td>\n",
       "    </tr>\n",
       "    <tr>\n",
       "      <th>max</th>\n",
       "      <td>7.900000</td>\n",
       "      <td>4.400000</td>\n",
       "      <td>6.900000</td>\n",
       "      <td>2.500000</td>\n",
       "      <td>2.000000</td>\n",
       "    </tr>\n",
       "  </tbody>\n",
       "</table>\n",
       "</div>"
      ],
      "text/plain": [
       "       Sepal length  Sepal width  Petal length  Petal width      labels\n",
       "count    150.000000   150.000000    150.000000   150.000000  150.000000\n",
       "mean       5.843333     3.057333      3.758000     1.199333    1.000000\n",
       "std        0.828066     0.435866      1.765298     0.762238    0.819232\n",
       "min        4.300000     2.000000      1.000000     0.100000    0.000000\n",
       "25%        5.100000     2.800000      1.600000     0.300000    0.000000\n",
       "50%        5.800000     3.000000      4.350000     1.300000    1.000000\n",
       "75%        6.400000     3.300000      5.100000     1.800000    2.000000\n",
       "max        7.900000     4.400000      6.900000     2.500000    2.000000"
      ]
     },
     "execution_count": 47,
     "metadata": {},
     "output_type": "execute_result"
    }
   ],
   "source": [
    "data.describe()"
   ]
  },
  {
   "cell_type": "code",
   "execution_count": 48,
   "id": "c8df4a48",
   "metadata": {},
   "outputs": [
    {
     "data": {
      "text/plain": [
       "Sepal length    0\n",
       "Sepal width     0\n",
       "Petal length    0\n",
       "Petal width     0\n",
       "labels          0\n",
       "dtype: int64"
      ]
     },
     "execution_count": 48,
     "metadata": {},
     "output_type": "execute_result"
    }
   ],
   "source": [
    "data.isnull().sum()"
   ]
  },
  {
   "cell_type": "code",
   "execution_count": 52,
   "id": "cf704b10",
   "metadata": {},
   "outputs": [
    {
     "data": {
      "image/png": "[encoded data removed]",
      "text/plain": [
       "<Figure size 432x288 with 4 Axes>"
      ]
     },
     "metadata": {
      "needs_background": "light"
     },
     "output_type": "display_data"
    }
   ],
   "source": [
    "dataset.plot(kind = 'box', subplots = True, layout = (2, 2), sharex = False, sharey = True)\n",
    "plt.show() "
   ]
  },
  {
   "cell_type": "code",
   "execution_count": 53,
   "id": "ae6f8f6b",
   "metadata": {},
   "outputs": [
    {
     "data": {
      "image/png": "[encoded data removed]",
      "text/plain": [
       "<Figure size 432x288 with 4 Axes>"
      ]
     },
     "metadata": {
      "needs_background": "light"
     },
     "output_type": "display_data"
    }
   ],
   "source": [
    "dataset.hist()\n",
    "plt.show()"
   ]
  },
  {
   "cell_type": "code",
   "execution_count": 54,
   "id": "459f1e73",
   "metadata": {},
   "outputs": [
    {
     "data": {
      "image/png": "[encoded data removed]",
      "text/plain": [
       "<Figure size 432x288 with 1 Axes>"
      ]
     },
     "metadata": {
      "needs_background": "light"
     },
     "output_type": "display_data"
    }
   ],
   "source": [
    "dataset.plot(kind = 'scatter', x = 'Sepal length', y = 'Sepal width')\n",
    "plt.show() "
   ]
  }
 ],
 "metadata": {
  "kernelspec": {
   "display_name": "Python 3",
   "language": "python",
   "name": "python3"
  },
  "language_info": {
   "codemirror_mode": {
    "name": "ipython",
    "version": 3
   },
   "file_extension": ".py",
   "mimetype": "text/x-python",
   "name": "python",
   "nbconvert_exporter": "python",
   "pygments_lexer": "ipython3",
   "version": "3.8.8"
  }
 },
 "nbformat": 4,
 "nbformat_minor": 5
}
