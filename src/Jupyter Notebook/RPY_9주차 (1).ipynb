{
 "cells": [
  {
   "cell_type": "code",
   "execution_count": null,
   "metadata": {
    "colab": {
     "base_uri": "https://localhost:8080/",
     "height": 132
    },
    "id": "-T0jvLChvFNU",
    "outputId": "473afc81-d612-43a5-e6c7-a0ce8d3ccd65"
   },
   "outputs": [
    {
     "data": {
      "text/html": [
       "\n",
       "     <input type=\"file\" id=\"files-cb24c44b-d27e-4313-96b8-2dceccab9042\" name=\"files[]\" multiple disabled\n",
       "        style=\"border:none\" />\n",
       "     <output id=\"result-cb24c44b-d27e-4313-96b8-2dceccab9042\">\n",
       "      Upload widget is only available when the cell has been executed in the\n",
       "      current browser session. Please rerun this cell to enable.\n",
       "      </output>\n",
       "      <script>// Copyright 2017 Google LLC\n",
       "//\n",
       "// Licensed under the Apache License, Version 2.0 (the \"License\");\n",
       "// you may not use this file except in compliance with the License.\n",
       "// You may obtain a copy of the License at\n",
       "//\n",
       "//      http://www.apache.org/licenses/LICENSE-2.0\n",
       "//\n",
       "// Unless required by applicable law or agreed to in writing, software\n",
       "// distributed under the License is distributed on an \"AS IS\" BASIS,\n",
       "// WITHOUT WARRANTIES OR CONDITIONS OF ANY KIND, either express or implied.\n",
       "// See the License for the specific language governing permissions and\n",
       "// limitations under the License.\n",
       "\n",
       "/**\n",
       " * @fileoverview Helpers for google.colab Python module.\n",
       " */\n",
       "(function(scope) {\n",
       "function span(text, styleAttributes = {}) {\n",
       "  const element = document.createElement('span');\n",
       "  element.textContent = text;\n",
       "  for (const key of Object.keys(styleAttributes)) {\n",
       "    element.style[key] = styleAttributes[key];\n",
       "  }\n",
       "  return element;\n",
       "}\n",
       "\n",
       "// Max number of bytes which will be uploaded at a time.\n",
       "const MAX_PAYLOAD_SIZE = 100 * 1024;\n",
       "\n",
       "function _uploadFiles(inputId, outputId) {\n",
       "  const steps = uploadFilesStep(inputId, outputId);\n",
       "  const outputElement = document.getElementById(outputId);\n",
       "  // Cache steps on the outputElement to make it available for the next call\n",
       "  // to uploadFilesContinue from Python.\n",
       "  outputElement.steps = steps;\n",
       "\n",
       "  return _uploadFilesContinue(outputId);\n",
       "}\n",
       "\n",
       "// This is roughly an async generator (not supported in the browser yet),\n",
       "// where there are multiple asynchronous steps and the Python side is going\n",
       "// to poll for completion of each step.\n",
       "// This uses a Promise to block the python side on completion of each step,\n",
       "// then passes the result of the previous step as the input to the next step.\n",
       "function _uploadFilesContinue(outputId) {\n",
       "  const outputElement = document.getElementById(outputId);\n",
       "  const steps = outputElement.steps;\n",
       "\n",
       "  const next = steps.next(outputElement.lastPromiseValue);\n",
       "  return Promise.resolve(next.value.promise).then((value) => {\n",
       "    // Cache the last promise value to make it available to the next\n",
       "    // step of the generator.\n",
       "    outputElement.lastPromiseValue = value;\n",
       "    return next.value.response;\n",
       "  });\n",
       "}\n",
       "\n",
       "/**\n",
       " * Generator function which is called between each async step of the upload\n",
       " * process.\n",
       " * @param {string} inputId Element ID of the input file picker element.\n",
       " * @param {string} outputId Element ID of the output display.\n",
       " * @return {!Iterable<!Object>} Iterable of next steps.\n",
       " */\n",
       "function* uploadFilesStep(inputId, outputId) {\n",
       "  const inputElement = document.getElementById(inputId);\n",
       "  inputElement.disabled = false;\n",
       "\n",
       "  const outputElement = document.getElementById(outputId);\n",
       "  outputElement.innerHTML = '';\n",
       "\n",
       "  const pickedPromise = new Promise((resolve) => {\n",
       "    inputElement.addEventListener('change', (e) => {\n",
       "      resolve(e.target.files);\n",
       "    });\n",
       "  });\n",
       "\n",
       "  const cancel = document.createElement('button');\n",
       "  inputElement.parentElement.appendChild(cancel);\n",
       "  cancel.textContent = 'Cancel upload';\n",
       "  const cancelPromise = new Promise((resolve) => {\n",
       "    cancel.onclick = () => {\n",
       "      resolve(null);\n",
       "    };\n",
       "  });\n",
       "\n",
       "  // Wait for the user to pick the files.\n",
       "  const files = yield {\n",
       "    promise: Promise.race([pickedPromise, cancelPromise]),\n",
       "    response: {\n",
       "      action: 'starting',\n",
       "    }\n",
       "  };\n",
       "\n",
       "  cancel.remove();\n",
       "\n",
       "  // Disable the input element since further picks are not allowed.\n",
       "  inputElement.disabled = true;\n",
       "\n",
       "  if (!files) {\n",
       "    return {\n",
       "      response: {\n",
       "        action: 'complete',\n",
       "      }\n",
       "    };\n",
       "  }\n",
       "\n",
       "  for (const file of files) {\n",
       "    const li = document.createElement('li');\n",
       "    li.append(span(file.name, {fontWeight: 'bold'}));\n",
       "    li.append(span(\n",
       "        `(${file.type || 'n/a'}) - ${file.size} bytes, ` +\n",
       "        `last modified: ${\n",
       "            file.lastModifiedDate ? file.lastModifiedDate.toLocaleDateString() :\n",
       "                                    'n/a'} - `));\n",
       "    const percent = span('0% done');\n",
       "    li.appendChild(percent);\n",
       "\n",
       "    outputElement.appendChild(li);\n",
       "\n",
       "    const fileDataPromise = new Promise((resolve) => {\n",
       "      const reader = new FileReader();\n",
       "      reader.onload = (e) => {\n",
       "        resolve(e.target.result);\n",
       "      };\n",
       "      reader.readAsArrayBuffer(file);\n",
       "    });\n",
       "    // Wait for the data to be ready.\n",
       "    let fileData = yield {\n",
       "      promise: fileDataPromise,\n",
       "      response: {\n",
       "        action: 'continue',\n",
       "      }\n",
       "    };\n",
       "\n",
       "    // Use a chunked sending to avoid message size limits. See b/62115660.\n",
       "    let position = 0;\n",
       "    do {\n",
       "      const length = Math.min(fileData.byteLength - position, MAX_PAYLOAD_SIZE);\n",
       "      const chunk = new Uint8Array(fileData, position, length);\n",
       "      position += length;\n",
       "\n",
       "      const base64 = btoa(String.fromCharCode.apply(null, chunk));\n",
       "      yield {\n",
       "        response: {\n",
       "          action: 'append',\n",
       "          file: file.name,\n",
       "          data: base64,\n",
       "        },\n",
       "      };\n",
       "\n",
       "      let percentDone = fileData.byteLength === 0 ?\n",
       "          100 :\n",
       "          Math.round((position / fileData.byteLength) * 100);\n",
       "      percent.textContent = `${percentDone}% done`;\n",
       "\n",
       "    } while (position < fileData.byteLength);\n",
       "  }\n",
       "\n",
       "  // All done.\n",
       "  yield {\n",
       "    response: {\n",
       "      action: 'complete',\n",
       "    }\n",
       "  };\n",
       "}\n",
       "\n",
       "scope.google = scope.google || {};\n",
       "scope.google.colab = scope.google.colab || {};\n",
       "scope.google.colab._files = {\n",
       "  _uploadFiles,\n",
       "  _uploadFilesContinue,\n",
       "};\n",
       "})(self);\n",
       "</script> "
      ],
      "text/plain": [
       "<IPython.core.display.HTML object>"
      ]
     },
     "metadata": {},
     "output_type": "display_data"
    },
    {
     "name": "stdout",
     "output_type": "stream",
     "text": [
      "Saving Advertising.csv to Advertising.csv\n"
     ]
    },
    {
     "data": {
      "text/plain": [
       "{'Advertising.csv': b'TV,radio,newspaper,sales\\r\\n230.1,37.8,69.2,22.1\\r\\n44.5,39.3,45.1,10.4\\r\\n17.2,45.9,69.3,9.3\\r\\n151.5,41.3,58.5,18.5\\r\\n180.8,10.8,58.4,12.9\\r\\n8.7,48.9,75.0,7.2\\r\\n57.5,32.8,23.5,11.8\\r\\n120.2,19.6,11.6,13.2\\r\\n8.6,2.1,1.0,4.8\\r\\n199.8,2.6,21.2,10.6\\r\\n66.1,5.8,24.2,8.6\\r\\n214.7,24.0,4.0,17.4\\r\\n23.8,35.1,65.9,9.2\\r\\n97.5,7.6,7.2,9.7\\r\\n204.1,32.9,46.0,19.0\\r\\n195.4,47.7,52.9,22.4\\r\\n67.8,36.6,114.0,12.5\\r\\n281.4,39.6,55.8,24.4\\r\\n69.2,20.5,18.3,11.3\\r\\n147.3,23.9,19.1,14.6\\r\\n218.4,27.7,53.4,18.0\\r\\n237.4,5.1,23.5,12.5\\r\\n13.2,15.9,49.6,5.6\\r\\n228.3,16.9,26.2,15.5\\r\\n62.3,12.6,18.3,9.7\\r\\n262.9,3.5,19.5,12.0\\r\\n142.9,29.3,12.6,15.0\\r\\n240.1,16.7,22.9,15.9\\r\\n248.8,27.1,22.9,18.9\\r\\n70.6,16.0,40.8,10.5\\r\\n292.9,28.3,43.2,21.4\\r\\n112.9,17.4,38.6,11.9\\r\\n97.2,1.5,30.0,9.6\\r\\n265.6,20.0,0.3,17.4\\r\\n95.7,1.4,7.4,9.5\\r\\n290.7,4.1,8.5,12.8\\r\\n266.9,43.8,5.0,25.4\\r\\n74.7,49.4,45.7,14.7\\r\\n43.1,26.7,35.1,10.1\\r\\n228.0,37.7,32.0,21.5\\r\\n202.5,22.3,31.6,16.6\\r\\n177.0,33.4,38.7,17.1\\r\\n293.6,27.7,1.8,20.7\\r\\n206.9,8.4,26.4,12.9\\r\\n25.1,25.7,43.3,8.5\\r\\n175.1,22.5,31.5,14.9\\r\\n89.7,9.9,35.7,10.6\\r\\n239.9,41.5,18.5,23.2\\r\\n227.2,15.8,49.9,14.8\\r\\n66.9,11.7,36.8,9.7\\r\\n199.8,3.1,34.6,11.4\\r\\n100.4,9.6,3.6,10.7\\r\\n216.4,41.7,39.6,22.6\\r\\n182.6,46.2,58.7,21.2\\r\\n262.7,28.8,15.9,20.2\\r\\n198.9,49.4,60.0,23.7\\r\\n7.3,28.1,41.4,5.5\\r\\n136.2,19.2,16.6,13.2\\r\\n210.8,49.6,37.7,23.8\\r\\n210.7,29.5,9.3,18.4\\r\\n53.5,2.0,21.4,8.1\\r\\n261.3,42.7,54.7,24.2\\r\\n239.3,15.5,27.3,15.7\\r\\n102.7,29.6,8.4,14.0\\r\\n131.1,42.8,28.9,18.0\\r\\n69.0,9.3,0.9,9.3\\r\\n31.5,24.6,2.2,9.5\\r\\n139.3,14.5,10.2,13.4\\r\\n237.4,27.5,11.0,18.9\\r\\n216.8,43.9,27.2,22.3\\r\\n199.1,30.6,38.7,18.3\\r\\n109.8,14.3,31.7,12.4\\r\\n26.8,33.0,19.3,8.8\\r\\n129.4,5.7,31.3,11.0\\r\\n213.4,24.6,13.1,17.0\\r\\n16.9,43.7,89.4,8.7\\r\\n27.5,1.6,20.7,6.9\\r\\n120.5,28.5,14.2,14.2\\r\\n5.4,29.9,9.4,5.3\\r\\n116.0,7.7,23.1,11.0\\r\\n76.4,26.7,22.3,11.8\\r\\n239.8,4.1,36.9,12.3\\r\\n75.3,20.3,32.5,11.3\\r\\n68.4,44.5,35.6,13.6\\r\\n213.5,43.0,33.8,21.7\\r\\n193.2,18.4,65.7,15.2\\r\\n76.3,27.5,16.0,12.0\\r\\n110.7,40.6,63.2,16.0\\r\\n88.3,25.5,73.4,12.9\\r\\n109.8,47.8,51.4,16.7\\r\\n134.3,4.9,9.3,11.2\\r\\n28.6,1.5,33.0,7.3\\r\\n217.7,33.5,59.0,19.4\\r\\n250.9,36.5,72.3,22.2\\r\\n107.4,14.0,10.9,11.5\\r\\n163.3,31.6,52.9,16.9\\r\\n197.6,3.5,5.9,11.7\\r\\n184.9,21.0,22.0,15.5\\r\\n289.7,42.3,51.2,25.4\\r\\n135.2,41.7,45.9,17.2\\r\\n222.4,4.3,49.8,11.7\\r\\n296.4,36.3,100.9,23.8\\r\\n280.2,10.1,21.4,14.8\\r\\n187.9,17.2,17.9,14.7\\r\\n238.2,34.3,5.3,20.7\\r\\n137.9,46.4,59.0,19.2\\r\\n25.0,11.0,29.7,7.2\\r\\n90.4,0.3,23.2,8.7\\r\\n13.1,0.4,25.6,5.3\\r\\n255.4,26.9,5.5,19.8\\r\\n225.8,8.2,56.5,13.4\\r\\n241.7,38.0,23.2,21.8\\r\\n175.7,15.4,2.4,14.1\\r\\n209.6,20.6,10.7,15.9\\r\\n78.2,46.8,34.5,14.6\\r\\n75.1,35.0,52.7,12.6\\r\\n139.2,14.3,25.6,12.2\\r\\n76.4,0.8,14.8,9.4\\r\\n125.7,36.9,79.2,15.9\\r\\n19.4,16.0,22.3,6.6\\r\\n141.3,26.8,46.2,15.5\\r\\n18.8,21.7,50.4,7.0\\r\\n224.0,2.4,15.6,11.6\\r\\n123.1,34.6,12.4,15.2\\r\\n229.5,32.3,74.2,19.7\\r\\n87.2,11.8,25.9,10.6\\r\\n7.8,38.9,50.6,6.6\\r\\n80.2,0.0,9.2,8.8\\r\\n220.3,49.0,3.2,24.7\\r\\n59.6,12.0,43.1,9.7\\r\\n0.7,39.6,8.7,1.6\\r\\n265.2,2.9,43.0,12.7\\r\\n8.4,27.2,2.1,5.7\\r\\n219.8,33.5,45.1,19.6\\r\\n36.9,38.6,65.6,10.8\\r\\n48.3,47.0,8.5,11.6\\r\\n25.6,39.0,9.3,9.5\\r\\n273.7,28.9,59.7,20.8\\r\\n43.0,25.9,20.5,9.6\\r\\n184.9,43.9,1.7,20.7\\r\\n73.4,17.0,12.9,10.9\\r\\n193.7,35.4,75.6,19.2\\r\\n220.5,33.2,37.9,20.1\\r\\n104.6,5.7,34.4,10.4\\r\\n96.2,14.8,38.9,11.4\\r\\n140.3,1.9,9.0,10.3\\r\\n240.1,7.3,8.7,13.2\\r\\n243.2,49.0,44.3,25.4\\r\\n38.0,40.3,11.9,10.9\\r\\n44.7,25.8,20.6,10.1\\r\\n280.7,13.9,37.0,16.1\\r\\n121.0,8.4,48.7,11.6\\r\\n197.6,23.3,14.2,16.6\\r\\n171.3,39.7,37.7,19.0\\r\\n187.8,21.1,9.5,15.6\\r\\n4.1,11.6,5.7,3.2\\r\\n93.9,43.5,50.5,15.3\\r\\n149.8,1.3,24.3,10.1\\r\\n11.7,36.9,45.2,7.3\\r\\n131.7,18.4,34.6,12.9\\r\\n172.5,18.1,30.7,14.4\\r\\n85.7,35.8,49.3,13.3\\r\\n188.4,18.1,25.6,14.9\\r\\n163.5,36.8,7.4,18.0\\r\\n117.2,14.7,5.4,11.9\\r\\n234.5,3.4,84.8,11.9\\r\\n17.9,37.6,21.6,8.0\\r\\n206.8,5.2,19.4,12.2\\r\\n215.4,23.6,57.6,17.1\\r\\n284.3,10.6,6.4,15.0\\r\\n50.0,11.6,18.4,8.4\\r\\n164.5,20.9,47.4,14.5\\r\\n19.6,20.1,17.0,7.6\\r\\n168.4,7.1,12.8,11.7\\r\\n222.4,3.4,13.1,11.5\\r\\n276.9,48.9,41.8,27.0\\r\\n248.4,30.2,20.3,20.2\\r\\n170.2,7.8,35.2,11.7\\r\\n276.7,2.3,23.7,11.8\\r\\n165.6,10.0,17.6,12.6\\r\\n156.6,2.6,8.3,10.5\\r\\n218.5,5.4,27.4,12.2\\r\\n56.2,5.7,29.7,8.7\\r\\n287.6,43.0,71.8,26.2\\r\\n253.8,21.3,30.0,17.6\\r\\n205.0,45.1,19.6,22.6\\r\\n139.5,2.1,26.6,10.3\\r\\n191.1,28.7,18.2,17.3\\r\\n286.0,13.9,3.7,15.9\\r\\n18.7,12.1,23.4,6.7\\r\\n39.5,41.1,5.8,10.8\\r\\n75.5,10.8,6.0,9.9\\r\\n17.2,4.1,31.6,5.9\\r\\n166.8,42.0,3.6,19.6\\r\\n149.7,35.6,6.0,17.3\\r\\n38.2,3.7,13.8,7.6\\r\\n94.2,4.9,8.1,9.7\\r\\n177.0,9.3,6.4,12.8\\r\\n283.6,42.0,66.2,25.5\\r\\n232.1,8.6,8.7,13.4\\r\\n'}"
      ]
     },
     "execution_count": 1,
     "metadata": {},
     "output_type": "execute_result"
    }
   ],
   "source": [
    "from google.colab import files\n",
    "files.upload()"
   ]
  },
  {
   "cell_type": "code",
   "execution_count": null,
   "metadata": {
    "id": "AAy1h3Qau9sl"
   },
   "outputs": [],
   "source": [
    "import numpy as np\n",
    "import pandas as pd\n",
    "import matplotlib.pyplot as plt\n",
    "import seaborn as sns\n",
    "df = pd.read_csv(\"Advertising.csv\")\n",
    "## CREATE X and y\n",
    "X = df.drop(\"sales\",axis=1)\n",
    "y = df[\"sales\"]\n",
    "\n",
    "# TRAIN TEST SPLIT\n",
    "from sklearn.model_selection import train_test_split\n",
    "X_train, X_test, y_train, y_test = train_test_split(X, y, test_size=0.3, random_state=101)\n",
    "\n",
    "# SCALE DATA: WHy? 페널티, ML 비선형으로 변환 하는 것이 많아서 \n",
    "from sklearn.preprocessing import StandardScaler\n",
    "scaler = StandardScaler()\n",
    "scaler.fit(X_train)\n",
    "X_train = scaler.transform(X_train)\n",
    "X_test = scaler.transform(X_test)"
   ]
  },
  {
   "cell_type": "code",
   "execution_count": null,
   "metadata": {
    "colab": {
     "base_uri": "https://localhost:8080/"
    },
    "id": "GOJxHIG-xbxQ",
    "outputId": "c1c39b80-f928-4c13-e4ca-b092cb3d96f7"
   },
   "outputs": [
    {
     "name": "stdout",
     "output_type": "stream",
     "text": [
      "7.34177578903413\n",
      "2.319021579428752\n"
     ]
    }
   ],
   "source": [
    "from sklearn.linear_model import Ridge\n",
    "# Poor Alpha Choice on purpose!\n",
    "model = Ridge(alpha=100) # ML 모형은 하이퍼파라미터 튜닝 \n",
    "model.fit(X_train,y_train)\n",
    "y_pred = model.predict(X_test)\n",
    "\n",
    "from sklearn.metrics import mean_squared_error\n",
    "print(mean_squared_error(y_test,y_pred))\n",
    "\n",
    "model = Ridge(alpha=1)\n",
    "model.fit(X_train,y_train)\n",
    "y_pred = model.predict(X_test)\n",
    "print(mean_squared_error(y_test,y_pred))\n",
    "\n",
    "\n",
    "\n",
    "\n"
   ]
  },
  {
   "cell_type": "code",
   "execution_count": null,
   "metadata": {
    "id": "d8uA9x_jxqst"
   },
   "outputs": [],
   "source": [
    "# 일반적으로 머신러닝 모형의 결과는 \n",
    "# 최적 파라미터 값에서 구한다.\n",
    "# GRID Search 라는 방법론을 구하는게 가장 쉬운 방법이다. "
   ]
  },
  {
   "cell_type": "code",
   "execution_count": null,
   "metadata": {
    "id": "exylt71NyHYg"
   },
   "outputs": [],
   "source": [
    "## CREATE X and y\n",
    "X = df.drop('sales',axis=1)\n",
    "y = df['sales']\n",
    "\n",
    "# TRAIN TEST SPLIT\n",
    "from sklearn.model_selection import train_test_split\n",
    "X_train, X_test, y_train, y_test = train_test_split(X, y, test_size=0.3, random_state=101)\n",
    "\n",
    "# SCALE DATA\n",
    "from sklearn.preprocessing import StandardScaler\n",
    "scaler = StandardScaler()\n",
    "scaler.fit(X_train)\n",
    "X_train = scaler.transform(X_train)\n",
    "X_test = scaler.transform(X_test)\n",
    "model = Ridge(alpha=100)\n"
   ]
  },
  {
   "cell_type": "code",
   "execution_count": null,
   "metadata": {
    "colab": {
     "base_uri": "https://localhost:8080/"
    },
    "id": "lcGZM6X_yUcd",
    "outputId": "3fab0531-1480-4e8e-b377-abe3140a8b8e"
   },
   "outputs": [
    {
     "name": "stdout",
     "output_type": "stream",
     "text": [
      "[-3.13674786 -2.42708179 -1.58448895 -5.40882841 -2.80104087]\n",
      "[-3.13654149 -2.42568133 -1.585217   -5.42597989 -2.79124367]\n"
     ]
    }
   ],
   "source": [
    "from sklearn.model_selection import cross_val_score\n",
    "model = Ridge(alpha=100)\n",
    "# SCORING OPTIONS:\n",
    "# https://scikit-learn.org/stable/modules/model_evaluation.html\n",
    "scores = cross_val_score(model,X,y,scoring='neg_mean_squared_error',cv=5)\n",
    "print(scores)\n",
    "model = Ridge(alpha=1)\n",
    "# SCORING OPTIONS:\n",
    "# https://scikit-learn.org/stable/modules/model_evaluation.html\n",
    "scores = cross_val_score(model,X,y,scoring='neg_mean_squared_error',cv=5)\n",
    "print(scores)\n",
    "\n",
    "\n",
    "\n"
   ]
  },
  {
   "cell_type": "markdown",
   "metadata": {
    "id": "TTMzT0TLzDnR"
   },
   "source": [
    "## Train-Test Split 좋음\n",
    "* 문제가 있음: 임의로 Test 셋이 골라졌음 어떻하냐?\n",
    "* Test Set을 Shuffle하는 함수를 만들어서 한다."
   ]
  },
  {
   "cell_type": "code",
   "execution_count": null,
   "metadata": {
    "colab": {
     "base_uri": "https://localhost:8080/"
    },
    "id": "1ClAqKKW29Yh",
    "outputId": "94cb9b86-24c6-4780-e0c7-94820872256a"
   },
   "outputs": [
    {
     "name": "stdout",
     "output_type": "stream",
     "text": [
      "[5.1 3.5 1.4 0.2] [5.7 2.6 3.5 1. ] [6.3 3.3 6.  2.5]\n",
      "0 1 2\n",
      "[[6.1 2.8 4.7 1.2]\n",
      " [5.7 3.8 1.7 0.3]\n",
      " [7.7 2.6 6.9 2.3]\n",
      " [6.  2.9 4.5 1.5]] [1 0 2 1]\n"
     ]
    }
   ],
   "source": [
    "import numpy as np\n",
    "from sklearn import datasets\n",
    "iris = datasets.load_iris()\n",
    "iris_data = iris.data\n",
    "iris_labels = iris.target\n",
    "print(iris_data[0], iris_data[79], iris_data[100])\n",
    "print(iris_labels[0], iris_labels[79], iris_labels[100])\n",
    "\n",
    "np.random.seed(42)\n",
    "indices = np.random.permutation(len(iris_data))\n",
    "n_training_samples = 50\n",
    "learnset_data = iris_data[indices[:-n_training_samples]]\n",
    "learnset_labels = iris_labels[indices[:-n_training_samples]]\n",
    "testset_data = iris_data[indices[-n_training_samples:]]\n",
    "testset_labels = iris_labels[indices[-n_training_samples:]]\n",
    "print(learnset_data[:4], learnset_labels[:4])\n",
    "\n",
    "\n"
   ]
  },
  {
   "cell_type": "code",
   "execution_count": null,
   "metadata": {
    "colab": {
     "base_uri": "https://localhost:8080/"
    },
    "id": "its5cEp83gGc",
    "outputId": "a5f97e9b-ce3c-415e-cdb1-c470d50e2e8e"
   },
   "outputs": [
    {
     "data": {
      "text/plain": [
       "array([ 84,  20,  45,  47, 149, 114, 144, 117,   9,  90, 146,  14,  33,\n",
       "       141,  13,  77,  46,   5,   3,   7, 123,  49, 148, 101,  75,  48,\n",
       "        21, 108,  60,  62,  42,  56, 125, 116,  59,   4,  99, 112,  89,\n",
       "        63, 145,  66,  34,  41, 139,  30,  22,  24, 137, 118,  88,  79,\n",
       "        17,  98,  39,  32,  40, 100,   6,  81,  94,  64,  73,  25, 122,\n",
       "       147,  72,  19, 113,  93,  15,  10,  82,  68, 109,  37,  16, 111,\n",
       "       132,  54,  67, 134, 119, 106, 110,  52, 130,  18,   0,  86,  53,\n",
       "        92,  97, 136,  80,  55, 121,   1,  38,  11, 103,  57, 124,  51,\n",
       "        87,  95,  31,  58,  78,  23, 135, 105,  50,  96,  36, 126,   8,\n",
       "       131,  71,  69, 102,   2, 104,  76, 115, 129, 140,  26, 120, 128,\n",
       "        91, 127,  74,  29,  83,  43, 107, 138, 143, 133,  61,  44,  65,\n",
       "        27,  85,  70,  12,  35,  28, 142])"
      ]
     },
     "execution_count": 22,
     "metadata": {},
     "output_type": "execute_result"
    }
   ],
   "source": [
    "indices = np.random.permutation(len(iris_data))\n",
    "indices"
   ]
  },
  {
   "cell_type": "code",
   "execution_count": null,
   "metadata": {
    "colab": {
     "base_uri": "https://localhost:8080/"
    },
    "id": "d2qyYNLt3Jgb",
    "outputId": "7ed6a759-ad59-4ff2-c9b1-4d42259afd8c"
   },
   "outputs": [
    {
     "name": "stdout",
     "output_type": "stream",
     "text": [
      "Predictions form the classifier:\n",
      "[0 0 0 2 2 0 2 2 0 1 1 2 1 2 0 2 1 2 1 1 1 0 1 1 0 1 2 2 0 1 2 2 0 2 0 1 2\n",
      " 2 1 2 1 1 2 2 0 1 1 0 1 2]\n",
      "Target values:\n",
      "[0 0 0 1 2 0 2 2 0 1 1 2 1 2 0 2 1 2 1 1 1 0 1 1 0 1 2 2 0 1 2 2 0 2 0 1 2\n",
      " 2 1 2 1 1 2 2 0 1 2 0 1 2]\n"
     ]
    }
   ],
   "source": [
    "# Create and fit a nearest-neighbor classifier\n",
    "from sklearn.neighbors import KNeighborsClassifier\n",
    "knn = KNeighborsClassifier() # KNN 구축 Default 값\n",
    "knn.fit(learnset_data, learnset_labels) \n",
    "print(\"Predictions form the classifier:\")\n",
    "print(knn.predict(testset_data))\n",
    "print(\"Target values:\")\n",
    "print(testset_labels)\n",
    "\n",
    " \n",
    "\n"
   ]
  },
  {
   "cell_type": "code",
   "execution_count": null,
   "metadata": {
    "colab": {
     "base_uri": "https://localhost:8080/"
    },
    "id": "YlPQOIbH4ElF",
    "outputId": "4507abd4-5446-4e40-e2d4-84260d9956d6"
   },
   "outputs": [
    {
     "name": "stdout",
     "output_type": "stream",
     "text": [
      "Predictions form the classifier:\n",
      "[0 0 0 2 2 0 2 2 0 1 1 2 1 2 0 2 1 2 1 1 1 0 1 1 0 1 2 2 0 1 2 2 0 2 0 1 2\n",
      " 2 1 2 1 1 2 2 0 1 1 0 1 2]\n",
      "Target values:\n",
      "[0 0 0 1 2 0 2 2 0 1 1 2 1 2 0 2 1 2 1 1 1 0 1 1 0 1 2 2 0 1 2 2 0 2 0 1 2\n",
      " 2 1 2 1 1 2 2 0 1 2 0 1 2]\n",
      "Predictions form the classifier:\n",
      "[0 0 0 1 2 0 2 2 0 1 1 2 1 2 0 2 1 2 1 1 1 0 1 1 0 1 2 2 0 1 2 1 0 2 0 1 2\n",
      " 2 1 2 1 1 2 2 0 1 2 0 1 2]\n",
      "Target values:\n",
      "[0 0 0 1 2 0 2 2 0 1 1 2 1 2 0 2 1 2 1 1 1 0 1 1 0 1 2 2 0 1 2 2 0 2 0 1 2\n",
      " 2 1 2 1 1 2 2 0 1 2 0 1 2]\n"
     ]
    }
   ],
   "source": [
    "# Create and fit a nearest-neighbor classifier\n",
    "from sklearn.neighbors import KNeighborsClassifier\n",
    "knn = KNeighborsClassifier(n_neighbors=1) # hyper parameter tuning \n",
    "knn.fit(learnset_data, learnset_labels) \n",
    "print(\"Predictions form the classifier:\")\n",
    "print(knn.predict(testset_data))\n",
    "print(\"Target values:\")\n",
    "print(testset_labels)\n",
    "\n",
    "# 머신러닝 모형끼리 비교 \n",
    "from sklearn.svm import SVC # Supprt Vector Classifier\n",
    "model = SVC(kernel='linear', C=1000)\n",
    "model.fit(learnset_data, learnset_labels) \n",
    "print(\"Predictions form the classifier:\")\n",
    "print(model.predict(testset_data))\n",
    "print(\"Target values:\")\n",
    "print(testset_labels)\n",
    "# SVC 좀 낫네 \n",
    "\n"
   ]
  },
  {
   "cell_type": "code",
   "execution_count": null,
   "metadata": {
    "colab": {
     "base_uri": "https://localhost:8080/",
     "height": 132
    },
    "id": "7A2EvmJs5QUr",
    "outputId": "8725da28-2e79-4d13-a14e-1f534d994a40"
   },
   "outputs": [
    {
     "data": {
      "text/html": [
       "\n",
       "     <input type=\"file\" id=\"files-1232c67c-c9aa-427e-995a-5596cab480fa\" name=\"files[]\" multiple disabled\n",
       "        style=\"border:none\" />\n",
       "     <output id=\"result-1232c67c-c9aa-427e-995a-5596cab480fa\">\n",
       "      Upload widget is only available when the cell has been executed in the\n",
       "      current browser session. Please rerun this cell to enable.\n",
       "      </output>\n",
       "      <script>// Copyright 2017 Google LLC\n",
       "//\n",
       "// Licensed under the Apache License, Version 2.0 (the \"License\");\n",
       "// you may not use this file except in compliance with the License.\n",
       "// You may obtain a copy of the License at\n",
       "//\n",
       "//      http://www.apache.org/licenses/LICENSE-2.0\n",
       "//\n",
       "// Unless required by applicable law or agreed to in writing, software\n",
       "// distributed under the License is distributed on an \"AS IS\" BASIS,\n",
       "// WITHOUT WARRANTIES OR CONDITIONS OF ANY KIND, either express or implied.\n",
       "// See the License for the specific language governing permissions and\n",
       "// limitations under the License.\n",
       "\n",
       "/**\n",
       " * @fileoverview Helpers for google.colab Python module.\n",
       " */\n",
       "(function(scope) {\n",
       "function span(text, styleAttributes = {}) {\n",
       "  const element = document.createElement('span');\n",
       "  element.textContent = text;\n",
       "  for (const key of Object.keys(styleAttributes)) {\n",
       "    element.style[key] = styleAttributes[key];\n",
       "  }\n",
       "  return element;\n",
       "}\n",
       "\n",
       "// Max number of bytes which will be uploaded at a time.\n",
       "const MAX_PAYLOAD_SIZE = 100 * 1024;\n",
       "\n",
       "function _uploadFiles(inputId, outputId) {\n",
       "  const steps = uploadFilesStep(inputId, outputId);\n",
       "  const outputElement = document.getElementById(outputId);\n",
       "  // Cache steps on the outputElement to make it available for the next call\n",
       "  // to uploadFilesContinue from Python.\n",
       "  outputElement.steps = steps;\n",
       "\n",
       "  return _uploadFilesContinue(outputId);\n",
       "}\n",
       "\n",
       "// This is roughly an async generator (not supported in the browser yet),\n",
       "// where there are multiple asynchronous steps and the Python side is going\n",
       "// to poll for completion of each step.\n",
       "// This uses a Promise to block the python side on completion of each step,\n",
       "// then passes the result of the previous step as the input to the next step.\n",
       "function _uploadFilesContinue(outputId) {\n",
       "  const outputElement = document.getElementById(outputId);\n",
       "  const steps = outputElement.steps;\n",
       "\n",
       "  const next = steps.next(outputElement.lastPromiseValue);\n",
       "  return Promise.resolve(next.value.promise).then((value) => {\n",
       "    // Cache the last promise value to make it available to the next\n",
       "    // step of the generator.\n",
       "    outputElement.lastPromiseValue = value;\n",
       "    return next.value.response;\n",
       "  });\n",
       "}\n",
       "\n",
       "/**\n",
       " * Generator function which is called between each async step of the upload\n",
       " * process.\n",
       " * @param {string} inputId Element ID of the input file picker element.\n",
       " * @param {string} outputId Element ID of the output display.\n",
       " * @return {!Iterable<!Object>} Iterable of next steps.\n",
       " */\n",
       "function* uploadFilesStep(inputId, outputId) {\n",
       "  const inputElement = document.getElementById(inputId);\n",
       "  inputElement.disabled = false;\n",
       "\n",
       "  const outputElement = document.getElementById(outputId);\n",
       "  outputElement.innerHTML = '';\n",
       "\n",
       "  const pickedPromise = new Promise((resolve) => {\n",
       "    inputElement.addEventListener('change', (e) => {\n",
       "      resolve(e.target.files);\n",
       "    });\n",
       "  });\n",
       "\n",
       "  const cancel = document.createElement('button');\n",
       "  inputElement.parentElement.appendChild(cancel);\n",
       "  cancel.textContent = 'Cancel upload';\n",
       "  const cancelPromise = new Promise((resolve) => {\n",
       "    cancel.onclick = () => {\n",
       "      resolve(null);\n",
       "    };\n",
       "  });\n",
       "\n",
       "  // Wait for the user to pick the files.\n",
       "  const files = yield {\n",
       "    promise: Promise.race([pickedPromise, cancelPromise]),\n",
       "    response: {\n",
       "      action: 'starting',\n",
       "    }\n",
       "  };\n",
       "\n",
       "  cancel.remove();\n",
       "\n",
       "  // Disable the input element since further picks are not allowed.\n",
       "  inputElement.disabled = true;\n",
       "\n",
       "  if (!files) {\n",
       "    return {\n",
       "      response: {\n",
       "        action: 'complete',\n",
       "      }\n",
       "    };\n",
       "  }\n",
       "\n",
       "  for (const file of files) {\n",
       "    const li = document.createElement('li');\n",
       "    li.append(span(file.name, {fontWeight: 'bold'}));\n",
       "    li.append(span(\n",
       "        `(${file.type || 'n/a'}) - ${file.size} bytes, ` +\n",
       "        `last modified: ${\n",
       "            file.lastModifiedDate ? file.lastModifiedDate.toLocaleDateString() :\n",
       "                                    'n/a'} - `));\n",
       "    const percent = span('0% done');\n",
       "    li.appendChild(percent);\n",
       "\n",
       "    outputElement.appendChild(li);\n",
       "\n",
       "    const fileDataPromise = new Promise((resolve) => {\n",
       "      const reader = new FileReader();\n",
       "      reader.onload = (e) => {\n",
       "        resolve(e.target.result);\n",
       "      };\n",
       "      reader.readAsArrayBuffer(file);\n",
       "    });\n",
       "    // Wait for the data to be ready.\n",
       "    let fileData = yield {\n",
       "      promise: fileDataPromise,\n",
       "      response: {\n",
       "        action: 'continue',\n",
       "      }\n",
       "    };\n",
       "\n",
       "    // Use a chunked sending to avoid message size limits. See b/62115660.\n",
       "    let position = 0;\n",
       "    do {\n",
       "      const length = Math.min(fileData.byteLength - position, MAX_PAYLOAD_SIZE);\n",
       "      const chunk = new Uint8Array(fileData, position, length);\n",
       "      position += length;\n",
       "\n",
       "      const base64 = btoa(String.fromCharCode.apply(null, chunk));\n",
       "      yield {\n",
       "        response: {\n",
       "          action: 'append',\n",
       "          file: file.name,\n",
       "          data: base64,\n",
       "        },\n",
       "      };\n",
       "\n",
       "      let percentDone = fileData.byteLength === 0 ?\n",
       "          100 :\n",
       "          Math.round((position / fileData.byteLength) * 100);\n",
       "      percent.textContent = `${percentDone}% done`;\n",
       "\n",
       "    } while (position < fileData.byteLength);\n",
       "  }\n",
       "\n",
       "  // All done.\n",
       "  yield {\n",
       "    response: {\n",
       "      action: 'complete',\n",
       "    }\n",
       "  };\n",
       "}\n",
       "\n",
       "scope.google = scope.google || {};\n",
       "scope.google.colab = scope.google.colab || {};\n",
       "scope.google.colab._files = {\n",
       "  _uploadFiles,\n",
       "  _uploadFilesContinue,\n",
       "};\n",
       "})(self);\n",
       "</script> "
      ],
      "text/plain": [
       "<IPython.core.display.HTML object>"
      ]
     },
     "metadata": {},
     "output_type": "display_data"
    },
    {
     "name": "stdout",
     "output_type": "stream",
     "text": [
      "Saving mouse_viral_study.csv to mouse_viral_study.csv\n"
     ]
    },
    {
     "data": {
      "text/plain": [
       "{'mouse_viral_study.csv': b'Med_1_mL,Med_2_mL,Virus Present\\r\\n6.508231092778478,8.582530517168834,0\\r\\n4.126116159459635,3.0734585320324737,1\\r\\n6.427870479400083,6.369758103535007,0\\r\\n3.6729533598321504,4.905215249940063,1\\r\\n1.5803206800377936,2.440562302195768,1\\r\\n2.15822377398559,2.7454512398737183,1\\r\\n8.172223496843538,7.328994873431797,0\\r\\n8.719652335230442,6.228618301234675,0\\r\\n6.779079372963939,6.630667118733948,0\\r\\n3.0436331904746012,4.642649940107834,1\\r\\n1.7138759191312358,3.5188560013538677,1\\r\\n2.020123874999962,3.403189454825145,1\\r\\n4.055748603658648,3.1242432294061078,1\\r\\n3.6301579288759176,3.7489663385034526,1\\r\\n3.0536347897071137,4.872665822711166,1\\r\\n8.392228630872772,8.110502310745462,0\\r\\n6.176983774867312,7.949241165922479,0\\r\\n7.2862327617956435,7.243546847397496,0\\r\\n7.481510167476451,6.670184345077146,0\\r\\n3.2548003278856052,4.460048182663909,1\\r\\n6.90258268522116,7.163204418823208,0\\r\\n2.983372599819152,1.6151576047528442,1\\r\\n9.115192013121943,8.292525627689294,0\\r\\n7.127494883620793,8.96831322450604,0\\r\\n6.732630759683859,6.184436027332636,0\\r\\n6.689037443823568,8.488913695906717,0\\r\\n4.000631443130308,5.654729753767842,1\\r\\n3.432773493134782,3.4533602780379633,1\\r\\n2.7887116548549162,3.2372125837438173,1\\r\\n7.722509234491721,8.074631776556831,0\\r\\n8.64386008570802,6.853198738505657,0\\r\\n9.400508764399225,7.355100431850024,0\\r\\n6.244747702096645,5.6679709120716035,0\\r\\n8.354708001373984,6.150184913028031,0\\r\\n3.3079601416215656,2.5571208441507656,1\\r\\n7.232600430304102,8.283341946755796,0\\r\\n1.8470331955923625,2.965048543672007,1\\r\\n3.522555486873483,4.72014628487191,1\\r\\n3.9827956749626976,3.519736585870819,1\\r\\n2.967436342117895,3.488706773852723,1\\r\\n7.538022770067981,8.295392565518718,0\\r\\n6.328800070411427,8.636984118244467,0\\r\\n4.103670237765314,4.347593012478432,1\\r\\n8.067464101176569,7.07295349763211,0\\r\\n7.876298457718275,7.86303830711699,0\\r\\n2.324617494478,3.96503350967485,1\\r\\n3.1891267529002416,4.2194937980621114,1\\r\\n3.3787881132946413,3.5606944184354425,1\\r\\n3.3086406573588123,6.526953677786339,1\\r\\n2.631154193446773,2.309956319190947,1\\r\\n7.753084032917485,8.423054065513158,0\\r\\n3.662062255332807,2.3689872508158585,1\\r\\n6.717896128579718,8.859534933029044,0\\r\\n8.275738877185816,7.911495658176212,0\\r\\n7.458702111597454,7.059438598189596,0\\r\\n8.990791924597435,6.572886144996511,0\\r\\n7.7574725018883814,7.807330496810289,0\\r\\n8.693676513243329,7.206918431056979,0\\r\\n2.9307592243968195,4.706162037358649,1\\r\\n3.452426694759482,2.9167706177051818,1\\r\\n8.161661483771642,7.945133222396931,0\\r\\n4.562027286154962,4.67230995898843,1\\r\\n8.58242348534325,8.484545000737835,0\\r\\n7.963627556393777,8.39914147541621,0\\r\\n8.772395968394623,7.8763351573687235,0\\r\\n3.847804373017368,3.9211663424969387,1\\r\\n2.4523402332601067,1.0,1\\r\\n2.0219416123939578,2.9140063959908487,1\\r\\n4.157066278688363,2.669520375414435,1\\r\\n5.689168013113789,3.932679622712431,1\\r\\n2.8793878999183677,3.4080757170991713,1\\r\\n4.717394107609333,2.156222510109431,1\\r\\n8.167096582839127,7.349579161397689,0\\r\\n1.5871213227304848,4.222447209164289,1\\r\\n7.585018714412739,8.285748397937608,0\\r\\n7.766983979076583,7.037060876483921,0\\r\\n2.64398286574074,4.2777786458653555,1\\r\\n3.236345462430232,2.501140347084174,1\\r\\n2.7492221996464403,3.324647063365765,1\\r\\n4.185006298922447,2.7713716290969126,1\\r\\n6.1455665669289035,8.91391874293388,0\\r\\n3.4523647435490092,3.1176117020073555,1\\r\\n7.692198646736068,8.887021311291173,0\\r\\n3.5220238253883536,3.662985694013792,1\\r\\n9.46023618528328,7.05277046618754,0\\r\\n3.471713174820212,4.713676612365871,1\\r\\n8.81983302840848,7.690047909554371,0\\r\\n7.908768126680509,7.8185084271830965,0\\r\\n8.09312271928851,8.605134331805981,0\\r\\n9.352909032054352,6.638729776288857,0\\r\\n3.4835977628241057,3.578085571405533,1\\r\\n2.81720013270208,4.121683098172404,1\\r\\n2.6988970970887323,4.3139525817791124,1\\r\\n4.447970878505469,3.311520454831761,1\\r\\n2.911327371479331,4.615037112476864,1\\r\\n4.014603733719577,3.989728482026879,1\\r\\n6.4168115095254015,7.423943618908226,0\\r\\n4.0811054899867685,3.0822016866657824,1\\r\\n7.446882634845244,7.01302725742685,0\\r\\n3.3369155042954706,3.0367535291762873,1\\r\\n2.037537338758457,2.5765126235987657,1\\r\\n8.285457258397516,6.9590677810144035,0\\r\\n2.733462006562408,4.311096902027689,1\\r\\n4.779698111458261,3.3702883069343192,1\\r\\n6.429976262549796,9.039668859437434,0\\r\\n4.402937030727769,4.173850930838018,1\\r\\n7.27946733654866,8.608441042696365,0\\r\\n8.194851015737576,7.656946143020892,0\\r\\n1.8687179708591115,3.3009766607198996,1\\r\\n3.864638929756821,4.204619638545892,1\\r\\n1.0,3.014448875394059,1\\r\\n2.9556737457562567,2.7973932845365503,1\\r\\n3.8933788861972016,1.765478361918987,1\\r\\n4.094448397762287,5.772581439310116,1\\r\\n7.783699384593913,9.818658412868473,0\\r\\n2.2513798262197273,3.3926058146417932,1\\r\\n7.117386250551017,8.780033250718056,0\\r\\n2.7255536145342303,4.994594568630575,1\\r\\n6.683072091209158,5.1942773151506,0\\r\\n2.975047246064637,4.606363466507792,1\\r\\n4.372750182528837,3.8612805345112235,1\\r\\n5.428039961245291,7.601849093170824,0\\r\\n3.244089341272672,3.524640348452727,1\\r\\n2.7511356193791183,1.316813775960859,1\\r\\n2.67177124487998,5.3745478679024234,1\\r\\n8.419767292397912,8.340636898397722,0\\r\\n8.387822911586193,7.12146056367001,0\\r\\n9.203375774959941,8.109006581552102,0\\r\\n4.303106647050546,2.3388725225805755,1\\r\\n6.821457066470374,9.400797648279607,0\\r\\n8.164246966234845,6.772843106340705,0\\r\\n7.426172327078678,7.910146064759029,0\\r\\n3.354085227182657,3.162537668934808,1\\r\\n8.231898760382776,6.470945181860346,0\\r\\n7.145757706351534,8.103762583418868,0\\r\\n8.011457989184347,5.5373256142492515,0\\r\\n6.941277295902753,8.563700941392483,0\\r\\n8.180712938774864,7.316080173906447,0\\r\\n2.6594195771540816,2.2474351582048984,1\\r\\n2.622512442070229,4.234925168946928,1\\r\\n7.507116567758312,6.73440286370094,0\\r\\n8.438044173297722,5.599255906351975,0\\r\\n2.8901363321305213,4.796464804497255,1\\r\\n8.117172723899586,6.092824523480916,0\\r\\n3.1958144074354893,3.6730298487307222,1\\r\\n5.270603211720232,6.696839401655985,0\\r\\n2.796283722906386,6.362731263927245,1\\r\\n6.495448751501256,6.081833899445656,0\\r\\n5.885856978514621,8.334846245234624,0\\r\\n2.290218514781251,2.8893659422194373,1\\r\\n4.8359530982831265,2.980588034229041,1\\r\\n5.032302221888932,3.901754840528368,1\\r\\n3.0175783385351913,2.3467997455079077,1\\r\\n7.87375788826479,9.240211956694749,0\\r\\n3.250720038045862,4.362994599738203,1\\r\\n4.858340127788768,2.78316856667678,1\\r\\n9.155428652133295,6.385714395378452,0\\r\\n2.575709244220106,2.427057742430139,1\\r\\n6.989689494241466,6.9484760653123585,0\\r\\n2.7243703063119877,3.3251403910857813,1\\r\\n8.170535928553358,7.972945684787217,0\\r\\n6.3575176734335255,7.163058167318951,0\\r\\n4.165090676374117,3.4161864370280575,1\\r\\n3.0964843945080043,3.3380765869531026,1\\r\\n3.6191547854942447,4.545563139660217,1\\r\\n2.0946192002473225,2.9888176700883857,1\\r\\n7.811591143219963,8.219526091659917,0\\r\\n6.753522122927712,6.9278927269549175,0\\r\\n6.392426633279196,8.828879050375454,0\\r\\n7.740446195529947,7.176964594106289,0\\r\\n7.650023346635827,7.241897785196862,0\\r\\n8.450259825425142,7.263560371180569,0\\r\\n4.5783790689190855,2.088022064988248,1\\r\\n7.370175442958113,9.616956373522942,0\\r\\n4.661585193203448,2.621605936212868,1\\r\\n4.361340770999673,3.110419376137154,1\\r\\n7.499013711410957,8.00293524856467,0\\r\\n8.493313659663022,7.483484283536246,0\\r\\n6.5561504936536625,6.874119354140225,0\\r\\n8.3760068803674,5.885933989744823,0\\r\\n3.2144252637479562,3.766877929730133,1\\r\\n2.8717615141458985,1.9536866141005511,1\\r\\n2.6217794285201617,3.613946562697783,1\\r\\n4.155610870863614,3.4635605756047805,1\\r\\n6.806439977569536,8.092393012918563,0\\r\\n2.4468772096348204,4.054031682519374,1\\r\\n7.643282704926371,7.423091783429033,0\\r\\n4.5438614981967,4.822940398428035,1\\r\\n1.5779215979508905,3.3221981829311753,1\\r\\n2.544062191412647,2.3302782961188635,1\\r\\n5.270149113337146,9.077708819583053,0\\r\\n2.220755454648992,3.965262263663596,1\\r\\n8.185244172674636,7.121151557995287,0\\r\\n4.859998419880084,5.292482618890574,1\\r\\n3.7531883879713086,4.256723231381575,1\\r\\n7.498181329840044,6.9574411789714,0\\r\\n2.031632082108745,4.145001703773078,1\\r\\n7.142660337553031,8.526555475468745,0\\r\\n8.35422039014368,6.610026862502883,0\\r\\n6.287146348430018,8.045398038368308,0\\r\\n6.763735078788941,7.819006101487879,0\\r\\n8.294718624477746,8.923095991973995,0\\r\\n4.132545158660463,3.5853140312026235,1\\r\\n3.5923934647844042,4.194630479243921,1\\r\\n2.8276583447703585,3.3809766747039207,1\\r\\n4.441203010139374,2.2314597119755506,1\\r\\n6.879854639364321,7.277558132787351,0\\r\\n8.329174058480863,7.498832642431973,0\\r\\n8.007959483041313,8.18805734171697,0\\r\\n7.398749660232369,7.083283424878087,0\\r\\n8.90767882100963,7.798008492111086,0\\r\\n6.153169848240137,6.531672438966192,0\\r\\n7.5706533865317,7.215245138008225,0\\r\\n3.1981453338290455,2.2685826044693504,1\\r\\n5.856396353494096,7.473944331705952,0\\r\\n3.153484656044496,4.870312976986677,1\\r\\n8.080608438489815,8.295135586291943,0\\r\\n3.438580647359813,1.9452666056405397,1\\r\\n4.967823742191104,2.7987022371938988,1\\r\\n6.819120396038443,9.26131489679099,0\\r\\n4.856905108019868,4.784368363171483,1\\r\\n7.945163732025175,9.610765581408867,0\\r\\n3.549064482184403,3.9486668985785998,1\\r\\n7.493509970871315,7.713363712210649,0\\r\\n6.958456624108302,8.545785168200744,0\\r\\n4.130492928808753,1.0253752433172787,1\\r\\n4.731452631906993,3.1750971509092074,1\\r\\n8.301571732354539,6.048971903542393,0\\r\\n1.6934100173314057,5.6529069193734145,1\\r\\n3.479631082220813,2.754805145068966,1\\r\\n7.438240418501281,10.0,0\\r\\n4.775439427028328,4.28626682814879,1\\r\\n7.712654792819306,7.2823125163787825,0\\r\\n4.362507704966598,3.304443383682371,1\\r\\n10.0,9.078837057670185,0\\r\\n7.288934847116241,6.050374765540795,0\\r\\n7.358887041632789,7.659828571341203,0\\r\\n2.1094568557606266,3.6347203123850136,1\\r\\n2.6272609216874176,2.722725137730972,1\\r\\n7.684339506016099,7.237971265414759,0\\r\\n7.746128575662027,7.7913198791062195,0\\r\\n4.779521826388608,2.718466412285035,1\\r\\n4.021470346518701,3.6352565749192234,1\\r\\n8.474531314601766,8.611880498071475,0\\r\\n7.575386988865353,7.643953843517339,0\\r\\n6.64334439647842,8.211759772072483,0\\r\\n9.044095667108918,9.03743982391987,0\\r\\n8.26045072435446,6.899171944395145,0\\r\\n2.531144612951344,3.463413748221929,1\\r\\n3.23895645831617,2.199760167871033,1\\r\\n3.5099906199763264,3.907631577415717,1\\r\\n2.028101120503824,4.351259539009798,1\\r\\n7.600827875887227,6.2715213316825,0\\r\\n3.6105489346761463,4.7775960578439225,1\\r\\n7.158425476480583,9.64276936780059,0\\r\\n2.5473445152570076,3.256816272749998,1\\r\\n6.9538325345211245,7.737050362421707,0\\r\\n8.47733049350039,7.945263628391192,0\\r\\n2.7614524595942225,2.670234882337577,1\\r\\n4.5314907509901925,1.8444451199280731,1\\r\\n3.780138903349296,2.0054455806108145,1\\r\\n3.4942843532386334,2.446015873555302,1\\r\\n6.8793339231207735,7.421190754386137,0\\r\\n4.194090389805996,4.287722752631012,1\\r\\n6.81946082355453,8.436226833990524,0\\r\\n7.190591397141832,7.700300827116912,0\\r\\n2.737522904471457,4.75160653645135,1\\r\\n6.926838857149172,7.3915032759343395,0\\r\\n4.29732151801624,4.152951636422465,1\\r\\n5.359512799077531,4.5916720020344055,1\\r\\n2.80317985386662,4.0007758592563265,1\\r\\n7.1887185142724075,6.916233878874299,0\\r\\n2.369078864809665,3.184356952287971,1\\r\\n2.3940762008438616,3.183242114618501,1\\r\\n2.715918388928279,2.053183721681755,1\\r\\n6.591196016358487,7.494275944920622,0\\r\\n2.8512248217774783,3.257576697126769,1\\r\\n7.77793511807602,9.510828710494344,0\\r\\n5.45911678083628,2.6324227667821463,1\\r\\n7.587462006052884,8.249117396382902,0\\r\\n2.8108392083988045,4.0025830611237305,1\\r\\n7.95069573374108,7.842448349188384,0\\r\\n2.4292517637026183,3.8933602378827934,1\\r\\n3.4419206556242257,3.795704924182595,1\\r\\n6.64092257077268,7.632509075611643,0\\r\\n4.2388450049293365,2.9642896797375204,1\\r\\n3.7129643245801915,3.26983718355782,1\\r\\n6.881996214265231,9.09615439241359,0\\r\\n8.687714904272426,6.636841432354026,0\\r\\n3.9166045071124564,2.964817774845441,1\\r\\n3.2734863245071795,1.5777203074196926,1\\r\\n6.688483417369357,7.631824126919165,0\\r\\n3.3033761826486705,2.85417036622027,1\\r\\n3.885697601005197,3.2943680025202737,1\\r\\n4.545002895358097,1.5295456538074612,1\\r\\n6.888094014670423,8.207475468796293,0\\r\\n3.6491221923289388,3.6727117047147235,1\\r\\n2.296221661045518,3.3078470320651574,1\\r\\n1.3737529405255158,3.199997589583608,1\\r\\n7.50152731756399,6.3646011734245,0\\r\\n8.13602529916257,7.9041437092851705,0\\r\\n6.000942096427995,6.384491060476095,0\\r\\n3.714149298913653,3.413567773491661,1\\r\\n8.26183898203514,9.301353346959301,0\\r\\n4.087698696606848,3.263050870596489,1\\r\\n9.846641951538535,8.281096688139291,0\\r\\n3.4464206170747964,2.0714204728097947,1\\r\\n7.8979126338117585,6.622883509910914,0\\r\\n8.402983188146075,8.913056417624388,0\\r\\n1.838627767742751,2.2386286356091247,1\\r\\n6.674286384288187,5.8206634495352265,0\\r\\n2.7959343826667755,3.456176617596869,1\\r\\n3.546463412772813,4.411752085933424,1\\r\\n7.818477700361934,9.527818506614418,0\\r\\n6.9147931855860865,7.748262220840429,0\\r\\n7.773382289010604,6.688422396918442,0\\r\\n4.201392936940833,3.3265248080051433,1\\r\\n7.660474506024569,5.62403494710363,0\\r\\n8.972832323573762,8.514794906440578,0\\r\\n8.464695857704175,8.764095707684948,0\\r\\n7.95152825287346,7.0335468645701305,0\\r\\n4.235658239588601,3.9665517576781864,1\\r\\n7.972043445648477,8.841025819632796,0\\r\\n6.2933806155401095,6.8525850232128755,0\\r\\n6.815150354386107,8.538908856480136,0\\r\\n8.19799811894703,8.614927383937554,0\\r\\n3.05652475464374,3.8739154168288734,1\\r\\n4.093756669095187,3.22315022748588,1\\r\\n7.626090993845305,5.584753205215305,0\\r\\n6.422610854843336,7.772187425522361,0\\r\\n7.375097629234963,8.641117400166511,0\\r\\n3.127986467592562,5.5115648122216765,1\\r\\n1.679680418192392,5.02400943424261,1\\r\\n7.716564142498601,8.264202462204338,0\\r\\n2.030101719834285,1.353767038032351,1\\r\\n9.469293880214689,6.4290206563183565,0\\r\\n3.090932041230367,3.380351391906234,1\\r\\n7.2129996563278205,8.448752634796463,0\\r\\n8.306348299358216,7.701430353347115,0\\r\\n2.566273959568119,3.8706829193898757,1\\r\\n3.653240389461431,3.7804513013678167,1\\r\\n7.7747917648967375,6.936384849389585,0\\r\\n2.759706713282694,4.442357927952915,1\\r\\n2.9148908502356434,5.112601723434153,1\\r\\n8.461440461992847,8.120003111904689,0\\r\\n7.817508665538528,7.822785699891034,0\\r\\n7.812894910440499,7.779711961672828,0\\r\\n6.517001172856915,8.844312795853698,0\\r\\n3.0908954609422326,3.4363524556631675,1\\r\\n2.6807759310543915,2.2890236808081825,1\\r\\n2.143732336767319,2.6771930847406926,1\\r\\n6.967540067555651,7.303265213261033,0\\r\\n2.405622703409958,4.237741930010131,1\\r\\n8.088004780067351,7.451286443774685,0\\r\\n4.712941343111846,2.9766410385984776,1\\r\\n2.9011715249538454,4.202674130062496,1\\r\\n3.3265775641410382,4.06387448739321,1\\r\\n7.842529359385385,8.023872114156772,0\\r\\n6.882284133190838,9.15390285713924,0\\r\\n4.87337062727176,3.1757499326289733,1\\r\\n6.92528993067476,7.872884176506675,0\\r\\n2.952775079669478,4.461312447140045,1\\r\\n2.3421100412991525,2.4626876417531127,1\\r\\n7.877509929924234,8.135283234932617,0\\r\\n4.214244438425704,4.830825035983338,1\\r\\n7.7980124470018835,7.403816689140884,0\\r\\n6.78246854072554,6.1868310885757145,0\\r\\n3.2428848096429217,4.685623426071821,1\\r\\n5.9248839060346015,6.8091249837536685,0\\r\\n7.35029077176107,6.832688148037063,0\\r\\n1.2133075959824193,5.561560074041834,1\\r\\n3.7375604988525954,3.1294488241989886,1\\r\\n7.694707676313366,8.810210809901482,0\\r\\n7.51448927488575,9.437721133050538,0\\r\\n6.407529975063676,8.459015824024089,0\\r\\n7.475292513234877,8.093396633321257,0\\r\\n8.238953387814496,6.812726853243798,0\\r\\n2.472825888782671,3.0272064351373453,1\\r\\n4.044038986260052,3.3910684827803643,1\\r\\n4.084776638547177,4.679699059511915,1\\r\\n7.465423555514545,8.37283972513314,0\\r\\n3.905485160522977,3.6082928337846156,1\\r\\n3.031729019595029,3.951704390320718,1\\r\\n3.608256866928531,3.59710448386119,1\\r\\n8.354263145560783,6.942180561930518,0\\r\\n7.776137216868596,6.911674437025236,0\\r\\n7.2920054163189745,7.85084657558387,0\\r\\n6.397402349533329,7.93755049375212,0\\r\\n9.842592898624751,7.050593350501383,0\\r\\n8.585579804419439,8.133631061249439,0\\r\\n3.1026770245730386,4.149997247829667,1\\r\\n7.279525290646976,9.28744931454226,0\\r\\n2.277346993101353,1.7171981004265513,1\\r\\n6.772718107992257,9.750839574303033,0\\r\\n5.07921791787976,3.6328348711802083,1\\r\\n2.88412198724198,3.271748121543823,1\\r\\n7.290855231066855,9.488671731415522,0\\r\\n7.895325110856262,8.27252942742263,0\\r\\n2.6905919586023694,2.6749786748485977,1\\r\\n7.587820609686711,9.473967548974752,0\\r\\n'}"
      ]
     },
     "execution_count": 31,
     "metadata": {},
     "output_type": "execute_result"
    }
   ],
   "source": [
    "files.upload()"
   ]
  },
  {
   "cell_type": "code",
   "execution_count": null,
   "metadata": {
    "colab": {
     "base_uri": "https://localhost:8080/",
     "height": 468
    },
    "id": "VaJos8FK5LHl",
    "outputId": "5832d7c6-c56f-42e9-97d4-b79747bf6a81"
   },
   "outputs": [
    {
     "data": {
      "text/plain": [
       "[<matplotlib.lines.Line2D at 0x7f0f01562fe0>]"
      ]
     },
     "execution_count": 34,
     "metadata": {},
     "output_type": "execute_result"
    },
    {
     "data": {
      "image/png": "[encoded data removed]",
      "text/plain": [
       "<Figure size 640x480 with 1 Axes>"
      ]
     },
     "metadata": {},
     "output_type": "display_data"
    }
   ],
   "source": [
    "import seaborn as sns\n",
    "df = pd.read_csv(\"mouse_viral_study.csv\")\n",
    "df.columns\n",
    "sns.scatterplot(x='Med_1_mL',y='Med_2_mL',hue='Virus Present', data=df,palette='seismic')\n",
    "\n",
    "# We want to somehow automatically create a separating hyperplane ( a line in 2D)\n",
    "\n",
    "x = np.linspace(0,10,100)\n",
    "m = -1\n",
    "b = 11\n",
    "y = m*x + b\n",
    "plt.plot(x,y,'k')"
   ]
  },
  {
   "cell_type": "code",
   "execution_count": null,
   "metadata": {
    "colab": {
     "base_uri": "https://localhost:8080/",
     "height": 74
    },
    "id": "FKEdmemi50PG",
    "outputId": "c11faf23-fc75-48a5-e510-cb873e714783"
   },
   "outputs": [
    {
     "data": {
      "text/html": [
       "<style>#sk-container-id-1 {color: black;background-color: white;}#sk-container-id-1 pre{padding: 0;}#sk-container-id-1 div.sk-toggleable {background-color: white;}#sk-container-id-1 label.sk-toggleable__label {cursor: pointer;display: block;width: 100%;margin-bottom: 0;padding: 0.3em;box-sizing: border-box;text-align: center;}#sk-container-id-1 label.sk-toggleable__label-arrow:before {content: \"▸\";float: left;margin-right: 0.25em;color: #696969;}#sk-container-id-1 label.sk-toggleable__label-arrow:hover:before {color: black;}#sk-container-id-1 div.sk-estimator:hover label.sk-toggleable__label-arrow:before {color: black;}#sk-container-id-1 div.sk-toggleable__content {max-height: 0;max-width: 0;overflow: hidden;text-align: left;background-color: #f0f8ff;}#sk-container-id-1 div.sk-toggleable__content pre {margin: 0.2em;color: black;border-radius: 0.25em;background-color: #f0f8ff;}#sk-container-id-1 input.sk-toggleable__control:checked~div.sk-toggleable__content {max-height: 200px;max-width: 100%;overflow: auto;}#sk-container-id-1 input.sk-toggleable__control:checked~label.sk-toggleable__label-arrow:before {content: \"▾\";}#sk-container-id-1 div.sk-estimator input.sk-toggleable__control:checked~label.sk-toggleable__label {background-color: #d4ebff;}#sk-container-id-1 div.sk-label input.sk-toggleable__control:checked~label.sk-toggleable__label {background-color: #d4ebff;}#sk-container-id-1 input.sk-hidden--visually {border: 0;clip: rect(1px 1px 1px 1px);clip: rect(1px, 1px, 1px, 1px);height: 1px;margin: -1px;overflow: hidden;padding: 0;position: absolute;width: 1px;}#sk-container-id-1 div.sk-estimator {font-family: monospace;background-color: #f0f8ff;border: 1px dotted black;border-radius: 0.25em;box-sizing: border-box;margin-bottom: 0.5em;}#sk-container-id-1 div.sk-estimator:hover {background-color: #d4ebff;}#sk-container-id-1 div.sk-parallel-item::after {content: \"\";width: 100%;border-bottom: 1px solid gray;flex-grow: 1;}#sk-container-id-1 div.sk-label:hover label.sk-toggleable__label {background-color: #d4ebff;}#sk-container-id-1 div.sk-serial::before {content: \"\";position: absolute;border-left: 1px solid gray;box-sizing: border-box;top: 0;bottom: 0;left: 50%;z-index: 0;}#sk-container-id-1 div.sk-serial {display: flex;flex-direction: column;align-items: center;background-color: white;padding-right: 0.2em;padding-left: 0.2em;position: relative;}#sk-container-id-1 div.sk-item {position: relative;z-index: 1;}#sk-container-id-1 div.sk-parallel {display: flex;align-items: stretch;justify-content: center;background-color: white;position: relative;}#sk-container-id-1 div.sk-item::before, #sk-container-id-1 div.sk-parallel-item::before {content: \"\";position: absolute;border-left: 1px solid gray;box-sizing: border-box;top: 0;bottom: 0;left: 50%;z-index: -1;}#sk-container-id-1 div.sk-parallel-item {display: flex;flex-direction: column;z-index: 1;position: relative;background-color: white;}#sk-container-id-1 div.sk-parallel-item:first-child::after {align-self: flex-end;width: 50%;}#sk-container-id-1 div.sk-parallel-item:last-child::after {align-self: flex-start;width: 50%;}#sk-container-id-1 div.sk-parallel-item:only-child::after {width: 0;}#sk-container-id-1 div.sk-dashed-wrapped {border: 1px dashed gray;margin: 0 0.4em 0.5em 0.4em;box-sizing: border-box;padding-bottom: 0.4em;background-color: white;}#sk-container-id-1 div.sk-label label {font-family: monospace;font-weight: bold;display: inline-block;line-height: 1.2em;}#sk-container-id-1 div.sk-label-container {text-align: center;}#sk-container-id-1 div.sk-container {/* jupyter's `normalize.less` sets `[hidden] { display: none; }` but bootstrap.min.css set `[hidden] { display: none !important; }` so we also need the `!important` here to be able to override the default hidden behavior on the sphinx rendered scikit-learn.org. See: https://github.com/scikit-learn/scikit-learn/issues/21755 */display: inline-block !important;position: relative;}#sk-container-id-1 div.sk-text-repr-fallback {display: none;}</style><div id=\"sk-container-id-1\" class=\"sk-top-container\"><div class=\"sk-text-repr-fallback\"><pre>SVC(C=1000, kernel=&#x27;linear&#x27;)</pre><b>In a Jupyter environment, please rerun this cell to show the HTML representation or trust the notebook. <br />On GitHub, the HTML representation is unable to render, please try loading this page with nbviewer.org.</b></div><div class=\"sk-container\" hidden><div class=\"sk-item\"><div class=\"sk-estimator sk-toggleable\"><input class=\"sk-toggleable__control sk-hidden--visually\" id=\"sk-estimator-id-1\" type=\"checkbox\" checked><label for=\"sk-estimator-id-1\" class=\"sk-toggleable__label sk-toggleable__label-arrow\">SVC</label><div class=\"sk-toggleable__content\"><pre>SVC(C=1000, kernel=&#x27;linear&#x27;)</pre></div></div></div></div></div>"
      ],
      "text/plain": [
       "SVC(C=1000, kernel='linear')"
      ]
     },
     "execution_count": 35,
     "metadata": {},
     "output_type": "execute_result"
    }
   ],
   "source": [
    "from sklearn.svm import SVC # Supprt Vector Classifier\n",
    "\n",
    "y = df['Virus Present']\n",
    "X = df.drop('Virus Present',axis=1) \n",
    "\n",
    "model = SVC(kernel='linear', C=1000)\n",
    "model.fit(X, y) # 모형 설정 # fitting #  prediction  \n",
    "       \n",
    "\n",
    "\n"
   ]
  },
  {
   "cell_type": "code",
   "execution_count": null,
   "metadata": {
    "colab": {
     "base_uri": "https://localhost:8080/"
    },
    "id": "D7ShC63U8HBH",
    "outputId": "b2ee79b9-e69a-4b04-f8a4-fc141d68fbcd"
   },
   "outputs": [
    {
     "name": "stdout",
     "output_type": "stream",
     "text": [
      "   Sepal length  Sepal width  Petal length  Petal width  labels\n",
      "0           5.1          3.5           1.4          0.2       0\n",
      "1           4.9          3.0           1.4          0.2       0\n",
      "2           4.7          3.2           1.3          0.2       0\n",
      "3           4.6          3.1           1.5          0.2       0\n",
      "4           5.0          3.6           1.4          0.2       0\n"
     ]
    }
   ],
   "source": [
    "from sklearn import datasets\n",
    "import pandas as pd\n",
    "iris = datasets.load_iris()\n",
    "\n",
    "labels = pd.DataFrame(iris.target)\n",
    "labels.columns=['labels']\n",
    "data = pd.DataFrame(iris.data)\n",
    "data.columns=['Sepal length','Sepal width','Petal length','Petal width']\n",
    "data = pd.concat([data,labels],axis=1)\n",
    "\n",
    "print(data.head())\n"
   ]
  },
  {
   "cell_type": "code",
   "execution_count": null,
   "metadata": {
    "colab": {
     "base_uri": "https://localhost:8080/",
     "height": 206
    },
    "id": "fyEslg7H8QzY",
    "outputId": "4ee99332-becb-4c5f-b86c-628e7dd850bc"
   },
   "outputs": [
    {
     "data": {
      "text/html": [
       "\n",
       "  <div id=\"df-81842485-9d8a-45a9-af49-7ec35df445b1\">\n",
       "    <div class=\"colab-df-container\">\n",
       "      <div>\n",
       "<style scoped>\n",
       "    .dataframe tbody tr th:only-of-type {\n",
       "        vertical-align: middle;\n",
       "    }\n",
       "\n",
       "    .dataframe tbody tr th {\n",
       "        vertical-align: top;\n",
       "    }\n",
       "\n",
       "    .dataframe thead th {\n",
       "        text-align: right;\n",
       "    }\n",
       "</style>\n",
       "<table border=\"1\" class=\"dataframe\">\n",
       "  <thead>\n",
       "    <tr style=\"text-align: right;\">\n",
       "      <th></th>\n",
       "      <th>Sepal length</th>\n",
       "      <th>Sepal width</th>\n",
       "    </tr>\n",
       "  </thead>\n",
       "  <tbody>\n",
       "    <tr>\n",
       "      <th>0</th>\n",
       "      <td>5.1</td>\n",
       "      <td>3.5</td>\n",
       "    </tr>\n",
       "    <tr>\n",
       "      <th>1</th>\n",
       "      <td>4.9</td>\n",
       "      <td>3.0</td>\n",
       "    </tr>\n",
       "    <tr>\n",
       "      <th>2</th>\n",
       "      <td>4.7</td>\n",
       "      <td>3.2</td>\n",
       "    </tr>\n",
       "    <tr>\n",
       "      <th>3</th>\n",
       "      <td>4.6</td>\n",
       "      <td>3.1</td>\n",
       "    </tr>\n",
       "    <tr>\n",
       "      <th>4</th>\n",
       "      <td>5.0</td>\n",
       "      <td>3.6</td>\n",
       "    </tr>\n",
       "  </tbody>\n",
       "</table>\n",
       "</div>\n",
       "      <button class=\"colab-df-convert\" onclick=\"convertToInteractive('df-81842485-9d8a-45a9-af49-7ec35df445b1')\"\n",
       "              title=\"Convert this dataframe to an interactive table.\"\n",
       "              style=\"display:none;\">\n",
       "        \n",
       "  <svg xmlns=\"http://www.w3.org/2000/svg\" height=\"24px\"viewBox=\"0 0 24 24\"\n",
       "       width=\"24px\">\n",
       "    <path d=\"M0 0h24v24H0V0z\" fill=\"none\"/>\n",
       "    <path d=\"M18.56 5.44l.94 2.06.94-2.06 2.06-.94-2.06-.94-.94-2.06-.94 2.06-2.06.94zm-11 1L8.5 8.5l.94-2.06 2.06-.94-2.06-.94L8.5 2.5l-.94 2.06-2.06.94zm10 10l.94 2.06.94-2.06 2.06-.94-2.06-.94-.94-2.06-.94 2.06-2.06.94z\"/><path d=\"M17.41 7.96l-1.37-1.37c-.4-.4-.92-.59-1.43-.59-.52 0-1.04.2-1.43.59L10.3 9.45l-7.72 7.72c-.78.78-.78 2.05 0 2.83L4 21.41c.39.39.9.59 1.41.59.51 0 1.02-.2 1.41-.59l7.78-7.78 2.81-2.81c.8-.78.8-2.07 0-2.86zM5.41 20L4 18.59l7.72-7.72 1.47 1.35L5.41 20z\"/>\n",
       "  </svg>\n",
       "      </button>\n",
       "      \n",
       "  <style>\n",
       "    .colab-df-container {\n",
       "      display:flex;\n",
       "      flex-wrap:wrap;\n",
       "      gap: 12px;\n",
       "    }\n",
       "\n",
       "    .colab-df-convert {\n",
       "      background-color: #E8F0FE;\n",
       "      border: none;\n",
       "      border-radius: 50%;\n",
       "      cursor: pointer;\n",
       "      display: none;\n",
       "      fill: #1967D2;\n",
       "      height: 32px;\n",
       "      padding: 0 0 0 0;\n",
       "      width: 32px;\n",
       "    }\n",
       "\n",
       "    .colab-df-convert:hover {\n",
       "      background-color: #E2EBFA;\n",
       "      box-shadow: 0px 1px 2px rgba(60, 64, 67, 0.3), 0px 1px 3px 1px rgba(60, 64, 67, 0.15);\n",
       "      fill: #174EA6;\n",
       "    }\n",
       "\n",
       "    [theme=dark] .colab-df-convert {\n",
       "      background-color: #3B4455;\n",
       "      fill: #D2E3FC;\n",
       "    }\n",
       "\n",
       "    [theme=dark] .colab-df-convert:hover {\n",
       "      background-color: #434B5C;\n",
       "      box-shadow: 0px 1px 3px 1px rgba(0, 0, 0, 0.15);\n",
       "      filter: drop-shadow(0px 1px 2px rgba(0, 0, 0, 0.3));\n",
       "      fill: #FFFFFF;\n",
       "    }\n",
       "  </style>\n",
       "\n",
       "      <script>\n",
       "        const buttonEl =\n",
       "          document.querySelector('#df-81842485-9d8a-45a9-af49-7ec35df445b1 button.colab-df-convert');\n",
       "        buttonEl.style.display =\n",
       "          google.colab.kernel.accessAllowed ? 'block' : 'none';\n",
       "\n",
       "        async function convertToInteractive(key) {\n",
       "          const element = document.querySelector('#df-81842485-9d8a-45a9-af49-7ec35df445b1');\n",
       "          const dataTable =\n",
       "            await google.colab.kernel.invokeFunction('convertToInteractive',\n",
       "                                                     [key], {});\n",
       "          if (!dataTable) return;\n",
       "\n",
       "          const docLinkHtml = 'Like what you see? Visit the ' +\n",
       "            '<a target=\"_blank\" href=https://colab.research.google.com/notebooks/data_table.ipynb>data table notebook</a>'\n",
       "            + ' to learn more about interactive tables.';\n",
       "          element.innerHTML = '';\n",
       "          dataTable['output_type'] = 'display_data';\n",
       "          await google.colab.output.renderOutput(dataTable, element);\n",
       "          const docLink = document.createElement('div');\n",
       "          docLink.innerHTML = docLinkHtml;\n",
       "          element.appendChild(docLink);\n",
       "        }\n",
       "      </script>\n",
       "    </div>\n",
       "  </div>\n",
       "  "
      ],
      "text/plain": [
       "   Sepal length  Sepal width\n",
       "0           5.1          3.5\n",
       "1           4.9          3.0\n",
       "2           4.7          3.2\n",
       "3           4.6          3.1\n",
       "4           5.0          3.6"
      ]
     },
     "execution_count": 39,
     "metadata": {},
     "output_type": "execute_result"
    }
   ],
   "source": [
    "feature = data[ ['Sepal length','Sepal width']]\n",
    "feature.head()\n"
   ]
  },
  {
   "cell_type": "code",
   "execution_count": null,
   "metadata": {
    "colab": {
     "base_uri": "https://localhost:8080/"
    },
    "id": "-MnW42Uy8Wt8",
    "outputId": "06bed679-56ae-4c23-96ce-86155806ceba"
   },
   "outputs": [
    {
     "name": "stdout",
     "output_type": "stream",
     "text": [
      "     Sepal length  Sepal width  predict\n",
      "0             5.1          3.5        1\n",
      "1             4.9          3.0        1\n",
      "2             4.7          3.2        1\n",
      "3             4.6          3.1        1\n",
      "4             5.0          3.6        1\n",
      "..            ...          ...      ...\n",
      "145           6.7          3.0        2\n",
      "146           6.3          2.5        0\n",
      "147           6.5          3.0        2\n",
      "148           6.2          3.4        2\n",
      "149           5.9          3.0        0\n",
      "\n",
      "[150 rows x 3 columns]\n"
     ]
    },
    {
     "name": "stderr",
     "output_type": "stream",
     "text": [
      "/usr/local/lib/python3.10/dist-packages/sklearn/cluster/_kmeans.py:870: FutureWarning: The default value of `n_init` will change from 10 to 'auto' in 1.4. Set the value of `n_init` explicitly to suppress the warning\n",
      "  warnings.warn(\n",
      "/usr/local/lib/python3.10/dist-packages/sklearn/cluster/_kmeans.py:1366: FutureWarning: algorithm='auto' is deprecated, it will be removed in 1.3. Using 'lloyd' instead.\n",
      "  warnings.warn(\n"
     ]
    }
   ],
   "source": [
    "from sklearn.cluster import KMeans\n",
    "\n",
    "# create model and prediction\n",
    "model = KMeans(n_clusters=3,algorithm='auto')\n",
    "model.fit(feature)\n",
    "predict = pd.DataFrame(model.predict(feature))\n",
    "predict.columns=['predict']\n",
    "\n",
    "# concatenate labels to df as a new column\n",
    "r = pd.concat([feature,predict],axis=1)\n",
    "\n",
    "print(r)"
   ]
  },
  {
   "cell_type": "code",
   "execution_count": null,
   "metadata": {
    "colab": {
     "base_uri": "https://localhost:8080/",
     "height": 433
    },
    "id": "nOkjQsOt8mgu",
    "outputId": "ec441939-b3c0-42f2-d70e-207799e7fea6"
   },
   "outputs": [
    {
     "data": {
      "image/png": "[encoded data removed]",
      "text/plain": [
       "<Figure size 640x480 with 1 Axes>"
      ]
     },
     "metadata": {},
     "output_type": "display_data"
    }
   ],
   "source": [
    "\n",
    "centers = pd.DataFrame(model.cluster_centers_,columns=['Sepal length','Sepal width'])\n",
    "center_x = centers['Sepal length']\n",
    "center_y = centers['Sepal width']\n",
    "\n",
    "# scatter plot\n",
    "plt.scatter(r['Sepal length'],r['Sepal width'],c=r['predict'],alpha=0.5)\n",
    "plt.scatter(center_x,center_y,s=50,marker='D',c='r')\n",
    "plt.show()\n",
    "\n"
   ]
  },
  {
   "cell_type": "code",
   "execution_count": null,
   "metadata": {
    "colab": {
     "base_uri": "https://localhost:8080/"
    },
    "id": "_Gc9_NGE8x0K",
    "outputId": "c730a95f-0aff-4f0d-ff9c-48d9ac5cd18b"
   },
   "outputs": [
    {
     "name": "stdout",
     "output_type": "stream",
     "text": [
      "predict   0   1   2\n",
      "labels             \n",
      "0         0  50   0\n",
      "1        38   0  12\n",
      "2        15   0  35\n"
     ]
    }
   ],
   "source": [
    "# 실제는 불가능 \n",
    "\n",
    "ct = pd.crosstab(data['labels'],r['predict'])\n",
    "print (ct)\n"
   ]
  },
  {
   "cell_type": "code",
   "execution_count": null,
   "metadata": {
    "colab": {
     "base_uri": "https://localhost:8080/",
     "height": 796
    },
    "id": "akgC8swF9BiQ",
    "outputId": "36d35007-51ec-49b4-c040-14ed26f5effb"
   },
   "outputs": [
    {
     "name": "stderr",
     "output_type": "stream",
     "text": [
      "/usr/local/lib/python3.10/dist-packages/sklearn/cluster/_kmeans.py:870: FutureWarning: The default value of `n_init` will change from 10 to 'auto' in 1.4. Set the value of `n_init` explicitly to suppress the warning\n",
      "  warnings.warn(\n",
      "/usr/local/lib/python3.10/dist-packages/sklearn/cluster/_kmeans.py:870: FutureWarning: The default value of `n_init` will change from 10 to 'auto' in 1.4. Set the value of `n_init` explicitly to suppress the warning\n",
      "  warnings.warn(\n",
      "/usr/local/lib/python3.10/dist-packages/sklearn/cluster/_kmeans.py:870: FutureWarning: The default value of `n_init` will change from 10 to 'auto' in 1.4. Set the value of `n_init` explicitly to suppress the warning\n",
      "  warnings.warn(\n",
      "/usr/local/lib/python3.10/dist-packages/sklearn/cluster/_kmeans.py:870: FutureWarning: The default value of `n_init` will change from 10 to 'auto' in 1.4. Set the value of `n_init` explicitly to suppress the warning\n",
      "  warnings.warn(\n",
      "/usr/local/lib/python3.10/dist-packages/sklearn/cluster/_kmeans.py:870: FutureWarning: The default value of `n_init` will change from 10 to 'auto' in 1.4. Set the value of `n_init` explicitly to suppress the warning\n",
      "  warnings.warn(\n",
      "/usr/local/lib/python3.10/dist-packages/sklearn/cluster/_kmeans.py:870: FutureWarning: The default value of `n_init` will change from 10 to 'auto' in 1.4. Set the value of `n_init` explicitly to suppress the warning\n",
      "  warnings.warn(\n",
      "/usr/local/lib/python3.10/dist-packages/sklearn/cluster/_kmeans.py:870: FutureWarning: The default value of `n_init` will change from 10 to 'auto' in 1.4. Set the value of `n_init` explicitly to suppress the warning\n",
      "  warnings.warn(\n",
      "/usr/local/lib/python3.10/dist-packages/sklearn/cluster/_kmeans.py:870: FutureWarning: The default value of `n_init` will change from 10 to 'auto' in 1.4. Set the value of `n_init` explicitly to suppress the warning\n",
      "  warnings.warn(\n",
      "/usr/local/lib/python3.10/dist-packages/sklearn/cluster/_kmeans.py:870: FutureWarning: The default value of `n_init` will change from 10 to 'auto' in 1.4. Set the value of `n_init` explicitly to suppress the warning\n",
      "  warnings.warn(\n"
     ]
    },
    {
     "data": {
      "image/png": "[encoded data removed]",
      "text/plain": [
       "<Figure size 640x480 with 1 Axes>"
      ]
     },
     "metadata": {},
     "output_type": "display_data"
    }
   ],
   "source": [
    "inertias = []\n",
    "\n",
    "for k in range(1,10):\n",
    "    model = KMeans(n_clusters=k)\n",
    "    model.fit(feature)\n",
    "    inertias.append(model.inertia_)\n",
    "    \n",
    "# Plot ks vs inertias\n",
    "plt.plot(range(1,10), inertias, '-o')\n",
    "plt.xlabel('number of clusters, k')\n",
    "plt.ylabel('inertia')\n",
    "plt.xticks(range(1,10))\n",
    "plt.show()\n"
   ]
  }
 ],
 "metadata": {
  "colab": {
   "provenance": []
  },
  "kernelspec": {
   "display_name": "Python 3",
   "language": "python",
   "name": "python3"
  },
  "language_info": {
   "codemirror_mode": {
    "name": "ipython",
    "version": 3
   },
   "file_extension": ".py",
   "mimetype": "text/x-python",
   "name": "python",
   "nbconvert_exporter": "python",
   "pygments_lexer": "ipython3",
   "version": "3.8.8"
  }
 },
 "nbformat": 4,
 "nbformat_minor": 1
}
