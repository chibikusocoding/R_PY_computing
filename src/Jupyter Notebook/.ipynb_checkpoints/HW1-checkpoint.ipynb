{
 "cells": [
  {
   "cell_type": "code",
   "execution_count": 17,
   "id": "faff3f26",
   "metadata": {},
   "outputs": [],
   "source": [
    "# Import libraries\n",
    "from sklearn.linear_model import LinearRegression as lm\n",
    "from  sklearn.metrics import mean_squared_error\n",
    "from sklearn.model_selection import train_test_split, cross_val_score\n",
    "import numpy as np\n",
    "import matplotlib.pyplot as plt \n",
    "import pandas as pd  \n",
    "import seaborn as sns"
   ]
  },
  {
   "cell_type": "code",
   "execution_count": 3,
   "id": "254f71a4",
   "metadata": {},
   "outputs": [
    {
     "data": {
      "text/html": [
       "<div>\n",
       "<style scoped>\n",
       "    .dataframe tbody tr th:only-of-type {\n",
       "        vertical-align: middle;\n",
       "    }\n",
       "\n",
       "    .dataframe tbody tr th {\n",
       "        vertical-align: top;\n",
       "    }\n",
       "\n",
       "    .dataframe thead th {\n",
       "        text-align: right;\n",
       "    }\n",
       "</style>\n",
       "<table border=\"1\" class=\"dataframe\">\n",
       "  <thead>\n",
       "    <tr style=\"text-align: right;\">\n",
       "      <th></th>\n",
       "      <th>CRIM</th>\n",
       "      <th>ZN</th>\n",
       "      <th>INDUS</th>\n",
       "      <th>CHAS</th>\n",
       "      <th>NOX</th>\n",
       "      <th>RM</th>\n",
       "      <th>AGE</th>\n",
       "      <th>DIS</th>\n",
       "      <th>RAD</th>\n",
       "      <th>TAX</th>\n",
       "      <th>PTRATIO</th>\n",
       "      <th>B</th>\n",
       "      <th>LSTAT</th>\n",
       "      <th>MEDV</th>\n",
       "      <th>CAT. MEDV</th>\n",
       "    </tr>\n",
       "  </thead>\n",
       "  <tbody>\n",
       "    <tr>\n",
       "      <th>2</th>\n",
       "      <td>0.02729</td>\n",
       "      <td>0.0</td>\n",
       "      <td>7.07</td>\n",
       "      <td>0</td>\n",
       "      <td>0.469</td>\n",
       "      <td>7.185</td>\n",
       "      <td>61.1</td>\n",
       "      <td>4.9671</td>\n",
       "      <td>2</td>\n",
       "      <td>242</td>\n",
       "      <td>17.8</td>\n",
       "      <td>392.83</td>\n",
       "      <td>4.03</td>\n",
       "      <td>34.7</td>\n",
       "      <td>1</td>\n",
       "    </tr>\n",
       "    <tr>\n",
       "      <th>3</th>\n",
       "      <td>0.03237</td>\n",
       "      <td>0.0</td>\n",
       "      <td>2.18</td>\n",
       "      <td>0</td>\n",
       "      <td>0.458</td>\n",
       "      <td>6.998</td>\n",
       "      <td>45.8</td>\n",
       "      <td>6.0622</td>\n",
       "      <td>3</td>\n",
       "      <td>222</td>\n",
       "      <td>18.7</td>\n",
       "      <td>394.63</td>\n",
       "      <td>2.94</td>\n",
       "      <td>33.4</td>\n",
       "      <td>1</td>\n",
       "    </tr>\n",
       "    <tr>\n",
       "      <th>4</th>\n",
       "      <td>0.06905</td>\n",
       "      <td>0.0</td>\n",
       "      <td>2.18</td>\n",
       "      <td>0</td>\n",
       "      <td>0.458</td>\n",
       "      <td>7.147</td>\n",
       "      <td>54.2</td>\n",
       "      <td>6.0622</td>\n",
       "      <td>3</td>\n",
       "      <td>222</td>\n",
       "      <td>18.7</td>\n",
       "      <td>396.90</td>\n",
       "      <td>5.33</td>\n",
       "      <td>36.2</td>\n",
       "      <td>1</td>\n",
       "    </tr>\n",
       "    <tr>\n",
       "      <th>5</th>\n",
       "      <td>0.02985</td>\n",
       "      <td>0.0</td>\n",
       "      <td>2.18</td>\n",
       "      <td>0</td>\n",
       "      <td>0.458</td>\n",
       "      <td>6.430</td>\n",
       "      <td>58.7</td>\n",
       "      <td>6.0622</td>\n",
       "      <td>3</td>\n",
       "      <td>222</td>\n",
       "      <td>18.7</td>\n",
       "      <td>394.12</td>\n",
       "      <td>5.21</td>\n",
       "      <td>28.7</td>\n",
       "      <td>0</td>\n",
       "    </tr>\n",
       "    <tr>\n",
       "      <th>6</th>\n",
       "      <td>0.08829</td>\n",
       "      <td>12.5</td>\n",
       "      <td>7.87</td>\n",
       "      <td>0</td>\n",
       "      <td>0.524</td>\n",
       "      <td>6.012</td>\n",
       "      <td>66.6</td>\n",
       "      <td>5.5605</td>\n",
       "      <td>5</td>\n",
       "      <td>311</td>\n",
       "      <td>15.2</td>\n",
       "      <td>395.60</td>\n",
       "      <td>12.43</td>\n",
       "      <td>22.9</td>\n",
       "      <td>0</td>\n",
       "    </tr>\n",
       "    <tr>\n",
       "      <th>...</th>\n",
       "      <td>...</td>\n",
       "      <td>...</td>\n",
       "      <td>...</td>\n",
       "      <td>...</td>\n",
       "      <td>...</td>\n",
       "      <td>...</td>\n",
       "      <td>...</td>\n",
       "      <td>...</td>\n",
       "      <td>...</td>\n",
       "      <td>...</td>\n",
       "      <td>...</td>\n",
       "      <td>...</td>\n",
       "      <td>...</td>\n",
       "      <td>...</td>\n",
       "      <td>...</td>\n",
       "    </tr>\n",
       "    <tr>\n",
       "      <th>499</th>\n",
       "      <td>0.17783</td>\n",
       "      <td>0.0</td>\n",
       "      <td>9.69</td>\n",
       "      <td>0</td>\n",
       "      <td>0.585</td>\n",
       "      <td>5.569</td>\n",
       "      <td>73.5</td>\n",
       "      <td>2.3999</td>\n",
       "      <td>6</td>\n",
       "      <td>391</td>\n",
       "      <td>19.2</td>\n",
       "      <td>395.77</td>\n",
       "      <td>15.1</td>\n",
       "      <td>17.5</td>\n",
       "      <td>0</td>\n",
       "    </tr>\n",
       "    <tr>\n",
       "      <th>501</th>\n",
       "      <td>0.06263</td>\n",
       "      <td>0.0</td>\n",
       "      <td>11.93</td>\n",
       "      <td>0</td>\n",
       "      <td>0.573</td>\n",
       "      <td>6.593</td>\n",
       "      <td>69.1</td>\n",
       "      <td>2.4786</td>\n",
       "      <td>1</td>\n",
       "      <td>273</td>\n",
       "      <td>21.0</td>\n",
       "      <td>391.99</td>\n",
       "      <td>9.67</td>\n",
       "      <td>22.4</td>\n",
       "      <td>0</td>\n",
       "    </tr>\n",
       "    <tr>\n",
       "      <th>502</th>\n",
       "      <td>0.04527</td>\n",
       "      <td>0.0</td>\n",
       "      <td>11.93</td>\n",
       "      <td>0</td>\n",
       "      <td>0.573</td>\n",
       "      <td>6.120</td>\n",
       "      <td>76.7</td>\n",
       "      <td>2.2875</td>\n",
       "      <td>1</td>\n",
       "      <td>273</td>\n",
       "      <td>21.0</td>\n",
       "      <td>396.90</td>\n",
       "      <td>9.08</td>\n",
       "      <td>20.6</td>\n",
       "      <td>0</td>\n",
       "    </tr>\n",
       "    <tr>\n",
       "      <th>503</th>\n",
       "      <td>0.06076</td>\n",
       "      <td>0.0</td>\n",
       "      <td>11.93</td>\n",
       "      <td>0</td>\n",
       "      <td>0.573</td>\n",
       "      <td>6.976</td>\n",
       "      <td>91.0</td>\n",
       "      <td>2.1675</td>\n",
       "      <td>1</td>\n",
       "      <td>273</td>\n",
       "      <td>21.0</td>\n",
       "      <td>396.90</td>\n",
       "      <td>5.64</td>\n",
       "      <td>23.9</td>\n",
       "      <td>0</td>\n",
       "    </tr>\n",
       "    <tr>\n",
       "      <th>504</th>\n",
       "      <td>0.10959</td>\n",
       "      <td>0.0</td>\n",
       "      <td>11.93</td>\n",
       "      <td>0</td>\n",
       "      <td>0.573</td>\n",
       "      <td>6.794</td>\n",
       "      <td>89.3</td>\n",
       "      <td>2.3889</td>\n",
       "      <td>1</td>\n",
       "      <td>273</td>\n",
       "      <td>21.0</td>\n",
       "      <td>393.45</td>\n",
       "      <td>6.48</td>\n",
       "      <td>22.0</td>\n",
       "      <td>0</td>\n",
       "    </tr>\n",
       "  </tbody>\n",
       "</table>\n",
       "<p>502 rows × 15 columns</p>\n",
       "</div>"
      ],
      "text/plain": [
       "        CRIM    ZN  INDUS  CHAS    NOX     RM   AGE     DIS  RAD  TAX  \\\n",
       "2    0.02729   0.0   7.07     0  0.469  7.185  61.1  4.9671    2  242   \n",
       "3    0.03237   0.0   2.18     0  0.458  6.998  45.8  6.0622    3  222   \n",
       "4    0.06905   0.0   2.18     0  0.458  7.147  54.2  6.0622    3  222   \n",
       "5    0.02985   0.0   2.18     0  0.458  6.430  58.7  6.0622    3  222   \n",
       "6    0.08829  12.5   7.87     0  0.524  6.012  66.6  5.5605    5  311   \n",
       "..       ...   ...    ...   ...    ...    ...   ...     ...  ...  ...   \n",
       "499  0.17783   0.0   9.69     0  0.585  5.569  73.5  2.3999    6  391   \n",
       "501  0.06263   0.0  11.93     0  0.573  6.593  69.1  2.4786    1  273   \n",
       "502  0.04527   0.0  11.93     0  0.573  6.120  76.7  2.2875    1  273   \n",
       "503  0.06076   0.0  11.93     0  0.573  6.976  91.0  2.1675    1  273   \n",
       "504  0.10959   0.0  11.93     0  0.573  6.794  89.3  2.3889    1  273   \n",
       "\n",
       "     PTRATIO       B  LSTAT  MEDV  CAT. MEDV  \n",
       "2       17.8  392.83   4.03  34.7          1  \n",
       "3       18.7  394.63   2.94  33.4          1  \n",
       "4       18.7  396.90   5.33  36.2          1  \n",
       "5       18.7  394.12   5.21  28.7          0  \n",
       "6       15.2  395.60  12.43  22.9          0  \n",
       "..       ...     ...    ...   ...        ...  \n",
       "499     19.2  395.77   15.1  17.5          0  \n",
       "501     21.0  391.99   9.67  22.4          0  \n",
       "502     21.0  396.90   9.08  20.6          0  \n",
       "503     21.0  396.90   5.64  23.9          0  \n",
       "504     21.0  393.45   6.48  22.0          0  \n",
       "\n",
       "[502 rows x 15 columns]"
      ]
     },
     "execution_count": 3,
     "metadata": {},
     "output_type": "execute_result"
    }
   ],
   "source": [
    "# PART 1\n",
    "# Q1\n",
    "df = pd.read_csv(\"boston_csv.csv\")\n",
    "df = df.replace(to_replace='na', value=np.nan).dropna()\n",
    "df"
   ]
  },
  {
   "cell_type": "code",
   "execution_count": 4,
   "id": "0dd9b5d8",
   "metadata": {},
   "outputs": [
    {
     "name": "stdout",
     "output_type": "stream",
     "text": [
      "             CRIM          ZN       INDUS        CHAS          RM         AGE  \\\n",
      "count  502.000000  502.000000  502.000000  502.000000  502.000000  502.000000   \n",
      "mean     3.641708   11.418327   11.163765    0.069721    6.284805   68.514542   \n",
      "std      8.629979   23.396912    6.873538    0.254930    0.705085   28.247125   \n",
      "min      0.009060    0.000000    0.460000    0.000000    3.561000    2.900000   \n",
      "25%      0.082492    0.000000    5.190000    0.000000    5.884250   44.550000   \n",
      "50%      0.262660    0.000000    9.690000    0.000000    6.208500   77.150000   \n",
      "75%      3.689388   12.500000   18.100000    0.000000    6.628000   94.100000   \n",
      "max     88.976200  100.000000   27.740000    1.000000    8.780000  100.000000   \n",
      "\n",
      "              DIS         RAD         TAX     PTRATIO           B        MEDV  \\\n",
      "count  502.000000  502.000000  502.000000  502.000000  502.000000  502.000000   \n",
      "mean     3.797274    9.605578  409.095618   18.456574  356.353506   22.564343   \n",
      "std      2.111828    8.717100  168.859125    2.165559   91.587527    9.217580   \n",
      "min      1.129600    1.000000  187.000000   12.600000    0.320000    5.000000   \n",
      "25%      2.091150    4.000000  279.250000   17.400000  375.240000   17.100000   \n",
      "50%      3.207450    5.000000  330.000000   19.050000  391.340000   21.200000   \n",
      "75%      5.213925   24.000000  666.000000   20.200000  396.120000   25.000000   \n",
      "max     12.126500   24.000000  711.000000   22.000000  396.900000   50.000000   \n",
      "\n",
      "        CAT. MEDV  \n",
      "count  502.000000  \n",
      "mean     0.167331  \n",
      "std      0.373643  \n",
      "min      0.000000  \n",
      "25%      0.000000  \n",
      "50%      0.000000  \n",
      "75%      0.000000  \n",
      "max      1.000000  \n"
     ]
    }
   ],
   "source": [
    "# Q2\n",
    "print(df.describe())"
   ]
  },
  {
   "cell_type": "code",
   "execution_count": 6,
   "id": "b6373963",
   "metadata": {},
   "outputs": [
    {
     "data": {
      "image/png": "[encoded data removed]",
      "text/plain": [
       "<Figure size 432x288 with 2 Axes>"
      ]
     },
     "metadata": {
      "needs_background": "light"
     },
     "output_type": "display_data"
    }
   ],
   "source": [
    "correlation_matrix = df.corr().round(2)\n",
    "sns.heatmap(data=correlation_matrix, annot=True)\n",
    "plt.show()"
   ]
  },
  {
   "cell_type": "code",
   "execution_count": 13,
   "id": "d45955ca",
   "metadata": {},
   "outputs": [
    {
     "name": "stdout",
     "output_type": "stream",
     "text": [
      "(502, 1)\n",
      "(502, 1)\n"
     ]
    }
   ],
   "source": [
    "# Q3\n",
    "X_lstat = df.LSTAT\n",
    "y_medv = df.MEDV\n",
    "\n",
    "\n",
    "X_lstat = np.array(X_lstat).reshape(-1,1)\n",
    "y_medv = np.array(y_medv).reshape(-1,1)\n",
    "\n",
    "print(X_lstat.shape)\n",
    "print(y_medv.shape)"
   ]
  },
  {
   "cell_type": "code",
   "execution_count": 27,
   "id": "b4dbfdc1",
   "metadata": {},
   "outputs": [
    {
     "name": "stdout",
     "output_type": "stream",
     "text": [
      "(125, 1)\n",
      "(377, 1)\n",
      "(125, 1)\n",
      "(377, 1)\n"
     ]
    }
   ],
   "source": [
    "X_train_1, X_test_1, Y_train_1, Y_test_1 = train_test_split(X_lstat, y_medv, test_size = 0.75, random_state=5)\n",
    "\n",
    "print(X_train_1.shape)\n",
    "print(X_test_1.shape)\n",
    "print(Y_train_1.shape)\n",
    "print(Y_test_1.shape)"
   ]
  },
  {
   "cell_type": "code",
   "execution_count": 28,
   "id": "e8b2021e",
   "metadata": {},
   "outputs": [
    {
     "name": "stdout",
     "output_type": "stream",
     "text": [
      "The model performance for training set\n",
      "--------------------------------------\n",
      "RMSE is 5.702170137484154\n",
      "R2 score is 0.58\n",
      "\n",
      "\n"
     ]
    }
   ],
   "source": [
    "reg_1 = lm()\n",
    "reg_1.fit(X_train_1, Y_train_1)\n",
    "\n",
    "y_train_predict_1 = reg_1.predict(X_train_1)\n",
    "rmse = (np.sqrt(mean_squared_error(Y_train_1, y_train_predict_1)))\n",
    "r2 = round(reg_1.score(X_train_1, Y_train_1),2)\n",
    "\n",
    "print(\"The model performance for training set\")\n",
    "print(\"--------------------------------------\")\n",
    "print('RMSE is {}'.format(rmse))\n",
    "print('R2 score is {}'.format(r2))\n",
    "print(\"\\n\")"
   ]
  },
  {
   "cell_type": "code",
   "execution_count": 29,
   "id": "5c2c892a",
   "metadata": {},
   "outputs": [
    {
     "name": "stdout",
     "output_type": "stream",
     "text": [
      "The model performance for training set\n",
      "--------------------------------------\n",
      "Root Mean Squared Error: 6.35652469348255\n",
      "R^2: 0.54\n",
      "\n",
      "\n"
     ]
    }
   ],
   "source": [
    "# model evaluation for test set\n",
    "\n",
    "y_pred_1 = reg_1.predict(X_test_1)\n",
    "rmse = (np.sqrt(mean_squared_error(Y_test_1, y_pred_1)))\n",
    "r2 = round(reg_1.score(X_test_1, Y_test_1),2)\n",
    "\n",
    "print(\"The model performance for training set\")\n",
    "print(\"--------------------------------------\")\n",
    "print(\"Root Mean Squared Error: {}\".format(rmse))\n",
    "print(\"R^2: {}\".format(r2))\n",
    "print(\"\\n\")"
   ]
  },
  {
   "cell_type": "code",
   "execution_count": 35,
   "id": "489f5733",
   "metadata": {},
   "outputs": [
    {
     "data": {
      "text/plain": [
       "\"\\nprediction_space = np.linspace(min(X_lstat), max(X_lstat)).reshape(-1,1) \\nplt.scatter(X_lstat,y_medv)\\nplt.plot(prediction_space, reg_1.predict(prediction_space), color = 'black', linewidth = 3)\\nplt.ylabel('value of house/1000($)')\\nplt.xlabel('number of rooms')\\nplt.show()\\n\""
      ]
     },
     "execution_count": 35,
     "metadata": {},
     "output_type": "execute_result"
    }
   ],
   "source": [
    "'''\n",
    "prediction_space = np.linspace(min(X_lstat), max(X_lstat)).reshape(-1,1) \n",
    "plt.scatter(X_lstat,y_medv)\n",
    "plt.plot(prediction_space, reg_1.predict(prediction_space), color = 'black', linewidth = 3)\n",
    "plt.ylabel('value of house/1000($)')\n",
    "plt.xlabel('number of rooms')\n",
    "plt.show()\n",
    "'''"
   ]
  },
  {
   "cell_type": "code",
   "execution_count": 36,
   "id": "d4c22360",
   "metadata": {},
   "outputs": [
    {
     "data": {
      "text/plain": [
       "array(['1.73'], dtype=object)"
      ]
     },
     "execution_count": 36,
     "metadata": {},
     "output_type": "execute_result"
    }
   ],
   "source": []
  },
  {
   "cell_type": "code",
   "execution_count": 37,
   "id": "50d2657f",
   "metadata": {},
   "outputs": [],
   "source": [
    "df = df.convert_dtypes()"
   ]
  },
  {
   "cell_type": "code",
   "execution_count": 38,
   "id": "38151758",
   "metadata": {},
   "outputs": [
    {
     "data": {
      "text/plain": [
       "array(['1.73'], dtype=object)"
      ]
     },
     "execution_count": 38,
     "metadata": {},
     "output_type": "execute_result"
    }
   ],
   "source": []
  },
  {
   "cell_type": "code",
   "execution_count": 34,
   "id": "d723b396",
   "metadata": {},
   "outputs": [],
   "source": [
    "# Q4"
   ]
  }
 ],
 "metadata": {
  "kernelspec": {
   "display_name": "Python 3",
   "language": "python",
   "name": "python3"
  },
  "language_info": {
   "codemirror_mode": {
    "name": "ipython",
    "version": 3
   },
   "file_extension": ".py",
   "mimetype": "text/x-python",
   "name": "python",
   "nbconvert_exporter": "python",
   "pygments_lexer": "ipython3",
   "version": "3.8.8"
  }
 },
 "nbformat": 4,
 "nbformat_minor": 5
}
