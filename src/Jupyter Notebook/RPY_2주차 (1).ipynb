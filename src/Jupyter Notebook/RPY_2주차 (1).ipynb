{
 "cells": [
  {
   "cell_type": "code",
   "execution_count": null,
   "metadata": {
    "id": "nQPsQhCMVj5w"
   },
   "outputs": [],
   "source": []
  },
  {
   "cell_type": "markdown",
   "metadata": {
    "id": "zCsxYLR-VlCe"
   },
   "source": [
    "## R-PY 강의 2주차 "
   ]
  },
  {
   "cell_type": "code",
   "execution_count": 10,
   "metadata": {
    "colab": {
     "base_uri": "https://localhost:8080/",
     "height": 35
    },
    "id": "lrIuDh6zVkdx",
    "outputId": "47a037b8-fdf8-466f-c705-225a76d6a362"
   },
   "outputs": [
    {
     "data": {
      "application/vnd.google.colaboratory.intrinsic+json": {
       "type": "string"
      },
      "text/plain": [
       "'1.1'"
      ]
     },
     "execution_count": 10,
     "metadata": {},
     "output_type": "execute_result"
    }
   ],
   "source": [
    "# Drill 201\n",
    "# 형변환 \n",
    "type(1) # 결과가 정수형 int\n",
    "type(1.1) # 결과가 실수형 float\n",
    "float(1) # 1.0\n",
    "int(1.1) # 1\n",
    "#type(int(1.1)) # int\n",
    "int('1') # 1\n",
    "#int(\"1.1\"): 오류\n",
    "str(1) # '1'\n",
    "str(1.1) # '1.1'"
   ]
  },
  {
   "cell_type": "code",
   "execution_count": 2,
   "metadata": {
    "colab": {
     "base_uri": "https://localhost:8080/"
    },
    "id": "FZAqB0EPWYCj",
    "outputId": "e5ce3e12-474c-43f2-f549-0154540c62a4"
   },
   "outputs": [
    {
     "data": {
      "text/plain": [
       "False"
      ]
     },
     "execution_count": 2,
     "metadata": {},
     "output_type": "execute_result"
    }
   ],
   "source": [
    "#Drill 202\n",
    "\n",
    "# 형변환 \n",
    "int(True) # 1\n",
    "int(False) # 0\n",
    "bool(1) # True\n",
    "bool(0) # False\n",
    "# every number expect 0 is True. Only 0 is False"
   ]
  },
  {
   "cell_type": "code",
   "execution_count": 16,
   "metadata": {
    "colab": {
     "base_uri": "https://localhost:8080/"
    },
    "id": "32U3G67-WNNu",
    "outputId": "ff053e16-dabe-42b1-d672-5f5bb53f29de"
   },
   "outputs": [
    {
     "name": "stdout",
     "output_type": "stream",
     "text": [
      "40\n",
      "500\n",
      "5.0\n",
      "4.166666666666667\n",
      "5\n",
      "4\n",
      "110\n",
      "600\n",
      "25\n"
     ]
    }
   ],
   "source": [
    "#Drill 203 \n",
    "# 파이썬이 할수 있는 연산이 무엇이 있을까?\n",
    "print(50-10)  \n",
    "print(50*10) \n",
    "print(50/10) #float double?\n",
    "print(50/12) \n",
    "print(50//10)  \n",
    "print(50//12)  # 몫연산 floor division\n",
    "print(2*50+10) \n",
    "print((10+2)*50) \n",
    "print(5**2)    # 제곱 연사 5^2\n"
   ]
  },
  {
   "cell_type": "code",
   "execution_count": 18,
   "metadata": {
    "colab": {
     "base_uri": "https://localhost:8080/"
    },
    "id": "zyQqQ9VRYK-R",
    "outputId": "2dcc7d53-6010-4fae-9434-f6fe67507f81"
   },
   "outputs": [
    {
     "name": "stdout",
     "output_type": "stream",
     "text": [
      "10\n"
     ]
    }
   ],
   "source": [
    "# 자료가 정해졌으면 저장을 해야한다. \n",
    "midterm=50\n",
    "final=40\n",
    "diff=midterm-final\n",
    "print(diff)\n"
   ]
  },
  {
   "cell_type": "code",
   "execution_count": 4,
   "metadata": {
    "colab": {
     "base_uri": "https://localhost:8080/"
    },
    "id": "WuRHtxutZK-H",
    "outputId": "879abfcb-a50c-4a7f-eaa9-e35ddb3c3da7"
   },
   "outputs": [
    {
     "data": {
      "text/plain": [
       "15"
      ]
     },
     "execution_count": 4,
     "metadata": {},
     "output_type": "execute_result"
    }
   ],
   "source": [
    "#문자열의 이해 \n",
    "name=\"Michael Jackson\"\n",
    "name[6]\n",
    "name[2:6] # 처음은 들어가고 마지막은 안들어간다, : 사용할때 \n",
    "name[-13:-9] # 위에 결과와 동일, Negative Indexing \n",
    "len(name)# 함수는 괄호를 사용하여 표현 \n",
    "\n",
    "# index of a string starts from 0\n",
    "# negative index of a string starts from -1, beginning at end of the string"
   ]
  },
  {
   "cell_type": "code",
   "execution_count": 37,
   "metadata": {
    "colab": {
     "base_uri": "https://localhost:8080/"
    },
    "id": "kqqaXTJ3aj6y",
    "outputId": "7104d0b1-7200-4804-db23-4b70903630e7"
   },
   "outputs": [
    {
     "name": "stdout",
     "output_type": "stream",
     "text": [
      "MICHAEL JORDAN is the best basketball player\n",
      "player\n"
     ]
    }
   ],
   "source": [
    "# Drill 204\n",
    "# 문자열끼리 연산이 가능하다 \n",
    "name = \"MICHAEL JORDAN\" \n",
    "player = \" is the best basketball player\"\n",
    "statement=name + player # 더하기 연산 \n",
    "print(statement) \n",
    "len(statement) # 44\n",
    "print(statement[38:45])"
   ]
  },
  {
   "cell_type": "code",
   "execution_count": 41,
   "metadata": {
    "colab": {
     "base_uri": "https://localhost:8080/"
    },
    "id": "OADyANcgZ5Qb",
    "outputId": "b9f1a1a0-320e-49a4-a443-5ee18f79713c"
   },
   "outputs": [
    {
     "name": "stdout",
     "output_type": "stream",
     "text": [
      "a\n"
     ]
    },
    {
     "data": {
      "text/plain": [
       "False"
      ]
     },
     "execution_count": 41,
     "metadata": {},
     "output_type": "execute_result"
    }
   ],
   "source": [
    "# Drill 205\n",
    "# 다양한 연산밒 표현식  \n",
    "fruit = 'banana' \n",
    "letter = fruit[1]\n",
    "print(letter) \n",
    "#letter = fruit[1.5] # 안될거다 must be int\n",
    "length= len(fruit) \n",
    "#last = fruit[length] # 데이터 없다\n",
    "last = fruit[length-1]\n",
    "fruit[:3] \n",
    "fruit[3:] \n",
    "greeting = 'Hello, world!' \n",
    "#greeting[0] = 'J' #값으로 변환이 안된다  str does not support item assignment\n",
    "'a' in 'banana' #문자열의 참거짓 연산, Membership 연산  \n",
    "'seed' in 'banana' \n"
   ]
  },
  {
   "cell_type": "code",
   "execution_count": 47,
   "metadata": {
    "colab": {
     "base_uri": "https://localhost:8080/"
    },
    "id": "AFOUZeC5cAGy",
    "outputId": "cc7e438b-e50f-4e9c-8fe8-7c61ddd2f35b"
   },
   "outputs": [
    {
     "name": "stdout",
     "output_type": "stream",
     "text": [
      "Help on method_descriptor:\n",
      "\n",
      "capitalize(self, /)\n",
      "    Return a capitalized version of the string.\n",
      "    \n",
      "    More specifically, make the first character have upper case and the rest lower\n",
      "    case.\n",
      "\n",
      "Help on method_descriptor:\n",
      "\n",
      "find(...)\n",
      "    S.find(sub[, start[, end]]) -> int\n",
      "    \n",
      "    Return the lowest index in S where substring sub is found,\n",
      "    such that sub is contained within S[start:end].  Optional\n",
      "    arguments start and end are interpreted as in slice notation.\n",
      "    \n",
      "    Return -1 on failure.\n",
      "\n"
     ]
    }
   ],
   "source": [
    "dir(str)\n",
    "help(str.capitalize)\n",
    "help(str.find)"
   ]
  },
  {
   "cell_type": "code",
   "execution_count": 46,
   "metadata": {
    "colab": {
     "base_uri": "https://localhost:8080/"
    },
    "id": "ALYVSDr2ZYOC",
    "outputId": "3b592ef7-f3d9-492a-a488-355f80c84497"
   },
   "outputs": [
    {
     "name": "stdout",
     "output_type": "stream",
     "text": [
      "BANANA\n",
      "1\n",
      "2\n",
      "4\n"
     ]
    }
   ],
   "source": [
    "# Drill 406 \n",
    "word = 'banana' \n",
    "new_word = word.upper() \n",
    "print(new_word)\n",
    "word = 'banana' \n",
    "index = word.find('a') \n",
    "print(index)\n",
    "print(word.find('na')) # 이해가 간다 \n",
    "print(word.find('na', 3)) # 이해가 안간다 \n"
   ]
  },
  {
   "cell_type": "markdown",
   "metadata": {
    "id": "P6eDp6Upf5kX"
   },
   "source": [
    "## 자료들을 모아보자\n",
    "1. 튜플 \n",
    "2. 리스트 (가장중요)\n",
    "3. 딕셔너리(그만큼 중요) \n",
    "4. 셋 "
   ]
  },
  {
   "cell_type": "code",
   "execution_count": 51,
   "metadata": {
    "colab": {
     "base_uri": "https://localhost:8080/"
    },
    "id": "p2D44p9KgB44",
    "outputId": "5285e7fb-fd40-40bc-ebbc-88fa68ccc820"
   },
   "outputs": [
    {
     "name": "stdout",
     "output_type": "stream",
     "text": [
      "('l', 'u', 'p', 'i', 'n', 's')\n",
      "a\n",
      "('b', 'c')\n",
      "('A', 'b', 'c', 'd', 'e')\n"
     ]
    }
   ],
   "source": [
    "# Drill 207\n",
    "# Tuple 연산 \n",
    "t = tuple('lupins')\n",
    "print(t)\n",
    "t = ('a', 'b', 'c', 'd', 'e') \n",
    "print(t[0]) \n",
    "print(t[1:3]) \n",
    "# # 불가능하다, 문자열하고 동일 \n",
    "t = ('A',) + t[1:]\n",
    "print(t)"
   ]
  },
  {
   "cell_type": "code",
   "execution_count": 54,
   "metadata": {
    "colab": {
     "base_uri": "https://localhost:8080/"
    },
    "id": "hGPChG28g984",
    "outputId": "6d1d6385-c81c-401a-cb25-3903c58ab128"
   },
   "outputs": [
    {
     "name": "stdout",
     "output_type": "stream",
     "text": [
      "['Cheddar', 'Edam', 'Gouda'] [17, 123] []\n",
      "Cheddar\n",
      "[17, 5]\n"
     ]
    }
   ],
   "source": [
    "# Drill 208\n",
    "#리스트 연산 \n",
    "[10, 20, 30, 40] \n",
    "['crunchy frog', 'ram bladder', 'lark vomit']\n",
    "cheeses = ['Cheddar', 'Edam', 'Gouda'] \n",
    "numbers = [17, 123]\n",
    "empty = [] \n",
    "print(cheeses, numbers, empty) \n",
    "\n",
    "cheeses = ['Cheddar', 'Edam', 'Gouda'] \n",
    "print(cheeses[0]) \n",
    "'Edam' in cheeses  # Membership 연산 가능 \n",
    "'Brie' in cheeses \n",
    "\n",
    "numbers = [17, 123] \n",
    "numbers[1] = 5 \n",
    "print(numbers) # Item Assignment가 가능하다 \n",
    "\n",
    "\n"
   ]
  },
  {
   "cell_type": "code",
   "execution_count": 57,
   "metadata": {
    "colab": {
     "base_uri": "https://localhost:8080/"
    },
    "id": "DoJ7fh55hjsT",
    "outputId": "3b568b62-12d3-4920-a8bb-d05466ecb7f9"
   },
   "outputs": [
    {
     "name": "stdout",
     "output_type": "stream",
     "text": [
      "[1, 2, 3, 4, 5, 6]\n",
      "[0, 0, 0, 0]\n",
      "[1, 2, 3, 1, 2, 3, 1, 2, 3]\n",
      "['b', 'c']\n",
      "['a', 'b', 'c', 'd']\n",
      "['d', 'e', 'f']\n"
     ]
    }
   ],
   "source": [
    "# Drill 209 \n",
    "a = [1, 2, 3] \n",
    "b = [4, 5, 6] \n",
    "c = a + b \n",
    "print(c) # 리스트는 수치형 벡터가 아니다-> 수치형 벡터는 Numpy사용 \n",
    "\n",
    "print([0] * 4) \n",
    "print([1, 2, 3] * 3) # 리스트는 수치형 벡터가 아니다-> 수치형 벡터는 Numpy사용\n",
    "\n",
    "t = ['a', 'b', 'c', 'd', 'e', 'f'] # 시퀀스적 기능은 똑같다 \n",
    "print(t[1:3]) \n",
    "print(t[:4]) \n",
    "print(t[3:])\n"
   ]
  },
  {
   "cell_type": "code",
   "execution_count": 61,
   "metadata": {
    "colab": {
     "base_uri": "https://localhost:8080/"
    },
    "id": "q0AUFy1jiGd9",
    "outputId": "6103cbc0-f296-4da2-e474-6a39f6ef33cb"
   },
   "outputs": [
    {
     "name": "stdout",
     "output_type": "stream",
     "text": [
      "['a', 'b', 'c', 'd']\n",
      "['a', 'b', 'c', 'd', ['d', 'e']]\n",
      "['d', 'e']\n",
      "['a', 'b', 'c', 'd', 'e']\n",
      "['a', 'b', 'c', 'd', 'e']\n"
     ]
    }
   ],
   "source": [
    "# Drill 210\n",
    "# Append Method와 Extend 메소드의 차이 \n",
    "t = ['a', 'b', 'c'] \n",
    "t.append('d') \n",
    "print(t)\n",
    "t.append(['d','e']) \n",
    "print(t)\n",
    "print(t[4]) # 인덱스를 하나 넣었음에도 불구하고 결과는 ['d','e']\n",
    "\n",
    "t1 = ['a', 'b', 'c']  # 더하기 연산 수행 \n",
    "t2 = ['d', 'e'] \n",
    "t1.extend(t2) \n",
    "print(t1)\n",
    "\n",
    "t = ['d', 'c', 'e', 'b', 'a'] \n",
    "t.sort() \n",
    "print(t) \n"
   ]
  },
  {
   "cell_type": "code",
   "execution_count": 63,
   "metadata": {
    "colab": {
     "base_uri": "https://localhost:8080/"
    },
    "id": "BcaprhB6i9fB",
    "outputId": "616514cf-8bfc-46da-8ec0-cca7080fff89"
   },
   "outputs": [
    {
     "name": "stdout",
     "output_type": "stream",
     "text": [
      "['a', 'c']\n",
      "['a', 'c']\n",
      "['a', 'c']\n"
     ]
    }
   ],
   "source": [
    "# Drill 411 \n",
    "t = ['a', 'b', 'c'] # 인덱스 기반(저장순서 기반 삭제 )\n",
    "x = t.pop(1) \n",
    "print(t) \n",
    "\n",
    "t = ['a', 'b', 'c'] # 인덱스 기반(저장순서 기반 삭제 )\n",
    "del t[1] \n",
    "print(t)\n",
    "\n",
    "t = ['a', 'b', 'c'] # 내용기반 삭제 \n",
    "t.remove('b')\n",
    "print(t)\n",
    "\n"
   ]
  },
  {
   "cell_type": "code",
   "execution_count": 64,
   "metadata": {
    "colab": {
     "base_uri": "https://localhost:8080/"
    },
    "id": "DXAKQZHMjg-b",
    "outputId": "541d5acd-3705-4deb-b0e5-0ea0e19a2b63"
   },
   "outputs": [
    {
     "name": "stdout",
     "output_type": "stream",
     "text": [
      "6\n",
      "74\n",
      "3\n",
      "154\n",
      "25.666666666666668\n"
     ]
    }
   ],
   "source": [
    "# Drill 412: 이치에 맞지는 않으나 연산은 가능\n",
    "nums = [3, 41, 12, 9, 74, 15]\n",
    "print(len(nums))\n",
    "print(max(nums))\n",
    "print(min(nums))\n",
    "print(sum(nums))\n",
    "print(sum(nums)/len(nums))"
   ]
  },
  {
   "cell_type": "code",
   "execution_count": 68,
   "metadata": {
    "colab": {
     "base_uri": "https://localhost:8080/"
    },
    "id": "8sf2AX2jjzX6",
    "outputId": "04521f4b-490d-43e4-dcc9-63fbf626b707"
   },
   "outputs": [
    {
     "name": "stdout",
     "output_type": "stream",
     "text": [
      "Jack\n",
      "26\n",
      "None\n",
      "{'name': 'Jack', 'age': 27}\n",
      "{'name': 'Jack', 'age': 27, 'address': 'Downtown'}\n"
     ]
    }
   ],
   "source": [
    "my_dict = {'name':'Jack', 'age': 26}\n",
    "print(my_dict['name'])\n",
    "print(my_dict.get('age')) # 많이쓰인다 \n",
    "#print(my_dict['height']) # 많이쓰이는 이유 # 오류 난다. \n",
    "print(my_dict.get('height')) # 많이쓰이는 이유\n",
    "\n",
    "# update value \n",
    "my_dict['age'] = 27\n",
    "print(my_dict)\n",
    "\n",
    "# add item\n",
    "my_dict['address'] = 'Downtown'  \n",
    "print(my_dict)\n"
   ]
  },
  {
   "cell_type": "code",
   "execution_count": 9,
   "metadata": {
    "colab": {
     "base_uri": "https://localhost:8080/"
    },
    "id": "KtkBmjOrlaoT",
    "outputId": "a302388f-317a-4c00-eca7-736ff6e5d584"
   },
   "outputs": [
    {
     "name": "stdout",
     "output_type": "stream",
     "text": [
      "{'one': 'uno', 'two': 'dos', 'three': 'tres'}\n",
      "dos\n",
      "True\n",
      "False\n",
      "['uno', 'dos', 'tres']\n",
      "['one', 'two', 'three']\n"
     ]
    }
   ],
   "source": [
    "# Drill 214 \n",
    "eng2sp = {'one': 'uno', 'two': 'dos', 'three': 'tres'}\n",
    "print(eng2sp)\n",
    "print(eng2sp['two'])\n",
    "# print(eng2sp['four']) # 오류 난다. \n",
    "\n",
    "\n",
    "# Membership Operation: Key값에 대해서만 한다 \n",
    "print('one' in eng2sp)\n",
    "print('uno' in eng2sp)\n",
    "vals = list(eng2sp.values())\n",
    "keys = list(eng2sp.keys())\n",
    "print(vals)\n",
    "print(keys)"
   ]
  },
  {
   "cell_type": "code",
   "execution_count": null,
   "metadata": {},
   "outputs": [],
   "source": []
  }
 ],
 "metadata": {
  "colab": {
   "provenance": []
  },
  "kernelspec": {
   "display_name": "Python 3",
   "language": "python",
   "name": "python3"
  },
  "language_info": {
   "codemirror_mode": {
    "name": "ipython",
    "version": 3
   },
   "file_extension": ".py",
   "mimetype": "text/x-python",
   "name": "python",
   "nbconvert_exporter": "python",
   "pygments_lexer": "ipython3",
   "version": "3.8.8"
  }
 },
 "nbformat": 4,
 "nbformat_minor": 1
}
